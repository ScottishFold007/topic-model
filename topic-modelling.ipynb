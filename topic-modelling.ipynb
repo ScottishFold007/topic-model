{
 "cells": [
  {
   "cell_type": "markdown",
   "metadata": {},
   "source": [
    "# Topic modelling with Spacy, Gensim and Textacy\n",
    "By Max Munnecke, @maxmunnecke\n",
    "\n",
    "This notebook consists of following sections:\n",
    "- Initialize: Setting up environment and loading data.\n",
    "- Text extraction. Phrase and tokens extraction with Gensim and Spacy.\n",
    "- Topic modelling. Using Textacy's LDA model.\n",
    "- Data processing. Calculating data for visualization and export.\n",
    "- Model evaluation. A collection of visualizations of the resulting topics.\n",
    "- Export data. The data can be used for creating more visualization or import into a graph.\n",
    "\n",
    "General concept:  \n",
    "The emphasis in this notebook is on facilitating an iterative process where you can easily adjust stopwords and number of topics. Furthermore it contains features to re-focus on sub topics and thereby create a hierachy of topics.\n",
   ]
  },
  {
   "cell_type": "markdown",
   "metadata": {},
   "source": [
    "## INITIALIZE\n",
    "### Load environment"
   ]
  },
  {
   "cell_type": "code",
   "execution_count": 1,
   "metadata": {},
   "outputs": [],
   "source": [
    "# Load packages\n",
    "import spacy\n",
    "nlp = spacy.load(\"en\")\n",
    "import textacy # 0.5.0, does not work with 0.6.0.\n",
    "import textacy.datasets\n",
    "import textacy.fileio\n",
    "import matplotlib.pyplot as plt\n",
    "import json # write to disk\n",
    "import pandas as pd\n",
    "%matplotlib inline\n",
    "# nlp = spacy.load(\"en\") # Download spacy english vocabulary: `python -m spacy download en`\n",
    "\n",
    "import os, re, sys\n",
    "import warnings\n",
    "warnings.filterwarnings('ignore')  # Let's not pay heed to them right now\n",
    "%matplotlib inline"
   ]
  },
  {
   "cell_type": "code",
   "execution_count": 2,
   "metadata": {},
   "outputs": [
    {
     "name": "stdout",
     "output_type": "stream",
     "text": [
      "cwd : /home/jovyan/work/prj-bib/tb/nlp\n",
      "sys : sys.version_info(major=3, minor=6, micro=3, releaselevel='final', serial=0)\n",
      "spacy : 2.0.8\n",
      "textacy : 0.5.0\n"
     ]
    }
   ],
   "source": [
    "# Log environment\n",
    "print(\"cwd : \" + os.getcwd())\n",
    "print(\"sys : \" + str(sys.version_info))\n",
    "print(\"spacy : \"+ spacy.__version__)\n",
    "print(\"textacy : \"+ textacy.__version__)"
   ]
  },
  {
   "cell_type": "markdown",
   "metadata": {},
   "source": [
    "### Set global variables and load data"
   ]
  },
  {
   "cell_type": "markdown",
   "metadata": {},
   "source": [
    "<div class=\"alert alert-warning\">\n",
    "<b>SET</b> Change 'outroot' to reflect current investigation</div>"
   ]
  },
  {
   "cell_type": "code",
   "execution_count": 3,
   "metadata": {},
   "outputs": [],
   "source": [
    "# infolder ='' # win64 py36\n",
    "infolder = 'data-in/' # docker py35mini\n",
    "infile = 'tb_data.tsv'\n",
    "outfolder = 'data-out/',
    "outroot = 'tb_main_'"
   ]
  },
  {
   "cell_type": "markdown",
   "metadata": {},
   "source": [
    "<div class=\"alert alert-danger\">\n",
    "<b>START</b> if 'MAIN TOPIC' investigation </div>"
   ]
  },
  {
   "cell_type": "code",
   "execution_count": 4,
   "metadata": {},
   "outputs": [
    {
     "name": "stdout",
     "output_type": "stream",
     "text": [
      "Length : 2101\n"
     ]
    },
    {
     "data": {
      "text/html": [
       "<div>\n",
       "<style scoped>\n",
       "    .dataframe tbody tr th:only-of-type {\n",
       "        vertical-align: middle;\n",
       "    }\n",
       "\n",
       "    .dataframe tbody tr th {\n",
       "        vertical-align: top;\n",
       "    }\n",
       "\n",
       "    .dataframe thead th {\n",
       "        text-align: right;\n",
       "    }\n",
       "</style>\n",
       "<table border=\"1\" class=\"dataframe\">\n",
       "  <thead>\n",
       "    <tr style=\"text-align: right;\">\n",
       "      <th></th>\n",
       "      <th>pub-full</th>\n",
       "      <th>abstract</th>\n",
       "      <th>key-au</th>\n",
       "      <th>key-pub</th>\n",
       "    </tr>\n",
       "  </thead>\n",
       "  <tbody>\n",
       "    <tr>\n",
       "      <th>count</th>\n",
       "      <td>2101</td>\n",
       "      <td>2093</td>\n",
       "      <td>1445</td>\n",
       "      <td>1962</td>\n",
       "    </tr>\n",
       "    <tr>\n",
       "      <th>unique</th>\n",
       "      <td>2098</td>\n",
       "      <td>2092</td>\n",
       "      <td>1442</td>\n",
       "      <td>1888</td>\n",
       "    </tr>\n",
       "    <tr>\n",
       "      <th>top</th>\n",
       "      <td>Should tuberculosis programmes invest in secon...</td>\n",
       "      <td>Introduction: In tuberculosis (Tb), the great ...</td>\n",
       "      <td>Antitubercular; Benzoxazole; Interaction energ...</td>\n",
       "      <td>MYCOBACTERIUM-TUBERCULOSIS</td>\n",
       "    </tr>\n",
       "    <tr>\n",
       "      <th>freq</th>\n",
       "      <td>2</td>\n",
       "      <td>2</td>\n",
       "      <td>2</td>\n",
       "      <td>21</td>\n",
       "    </tr>\n",
       "  </tbody>\n",
       "</table>\n",
       "</div>"
      ],
      "text/plain": [
       "                                                 pub-full  \\\n",
       "count                                                2101   \n",
       "unique                                               2098   \n",
       "top     Should tuberculosis programmes invest in secon...   \n",
       "freq                                                    2   \n",
       "\n",
       "                                                 abstract  \\\n",
       "count                                                2093   \n",
       "unique                                               2092   \n",
       "top     Introduction: In tuberculosis (Tb), the great ...   \n",
       "freq                                                    2   \n",
       "\n",
       "                                                   key-au  \\\n",
       "count                                                1445   \n",
       "unique                                               1442   \n",
       "top     Antitubercular; Benzoxazole; Interaction energ...   \n",
       "freq                                                    2   \n",
       "\n",
       "                           key-pub  \n",
       "count                         1962  \n",
       "unique                        1888  \n",
       "top     MYCOBACTERIUM-TUBERCULOSIS  \n",
       "freq                            21  "
      ]
     },
     "execution_count": 4,
     "metadata": {},
     "output_type": "execute_result"
    }
   ],
   "source": [
    "data_org = pd.read_csv(infolder + infile, index_col=0, sep='\\t')\n",
    "print('Length : ' + str(len(data_org)))\n",
    "data_org.describe()"
   ]
  },
  {
   "cell_type": "code",
   "execution_count": 5,
   "metadata": {},
   "outputs": [],
   "source": [
    "# Transforming the incoming dataframe to standard template.\n",
    "columns_extract = {'pub-full':'title','abstract':'abstract', 'key-au':'keywords'} # {'old':'new'}\n",
    "data_org = data_org[[name for name in columns_extract.keys()]]\n",
    "data_org.rename(columns=columns_extract, inplace=True)\n",
    "data = data_org # Keeping a copy of the original data set for when sub slices are being explored"
   ]
  },
  {
   "cell_type": "markdown",
   "metadata": {},
   "source": [
    "<div class=\"alert alert-danger\">\n",
    "<b>END</b> if 'MAIN TOPIC' investigation </div>"
   ]
  },
  {
   "cell_type": "markdown",
   "metadata": {},
   "source": [
    "<div class=\"alert alert-danger\">\n",
    "<b>START</b> if 'SUB TOPIC' investigation </div>"
   ]
  },
  {
   "cell_type": "code",
   "execution_count": null,
   "metadata": {},
   "outputs": [],
   "source": [
    "# START HERE if 'data' has been manipulated elsewhere\n",
    "# Load external data frame\n",
    "data_topic = pd.read_csv(outfolder +'tb_mdrtb_data-topic-df.tsv', index_col=0, sep='\\t')"
   ]
  },
  {
   "cell_type": "code",
   "execution_count": null,
   "metadata": {},
   "outputs": [],
   "source": [
    "data_topic.describe()"
   ]
  },
  {
   "cell_type": "markdown",
   "metadata": {},
   "source": [
    "<div class=\"alert alert-warning\">\n",
    "<b>SET</b> `sub_topic` and adjust `cutoff`</div>"
   ]
  },
  {
   "cell_type": "code",
   "execution_count": null,
   "metadata": {},
   "outputs": [],
   "source": [
    "sub_topic = '3'\n",
    "cutoff = 0.7\n",
    "data_tmp = data_topic[data_topic[sub_topic]>cutoff] "
   ]
  },
  {
   "cell_type": "code",
   "execution_count": null,
   "metadata": {},
   "outputs": [],
   "source": [
    "print('Number of articles: %s' % len(data_tmp))"
   ]
  },
  {
   "cell_type": "code",
   "execution_count": null,
   "metadata": {},
   "outputs": [],
   "source": [
    "data = data_tmp"
   ]
  },
  {
   "cell_type": "markdown",
   "metadata": {},
   "source": [
    "<div class=\"alert alert-danger\">\n",
    "<b>END</b> if 'SUB TOPIC' investigation </div>"
   ]
  },
  {
   "cell_type": "code",
   "execution_count": 6,
   "metadata": {},
   "outputs": [],
   "source": [
    "docs = [ str(a_) + \". \" + str(b_) for a_,b_ in zip(data['title'], data['abstract'])]\n",
    "# Converting '-' to '_' to make sure that terms are not split up during subsequent Gensim and Textacy manipulation.\n",
    "docs = [re.sub(r'\\b-\\b', '_', text) for text in docs] # Should not be touched as it is referenced later."
   ]
  },
  {
   "cell_type": "markdown",
   "metadata": {},
   "source": [
    "## TEXT EXTRACTION\n",
    "### Find phrases\n",
    "Concept: Identify freqent phrases and glue them together with an underscore \"_\".\n",
    "\n",
    "Inspiration: *Phrase model for bi- and tri-gram with Gensim: https://github.com/skipgram/modern-nlp-in-python/blob/master/executable/Modern_NLP_in_Python.ipynb\n",
    "Other source: https://github.com/bhargavvader/personal/blob/master/notebooks/text_analysis_tutorial/topic_modelling.ipynb\n",
    "#### Train phrase model"
   ]
  },
  {
   "cell_type": "code",
   "execution_count": 7,
   "metadata": {},
   "outputs": [],
   "source": [
    "import re\n",
    "import gensim\n",
    "\n",
    "# Split pargraph into sentences\n",
    "grap_sentence = re.compile(r'(?<!\\w\\.\\w.)(?<![A-Z][a-z]\\.)(?<![A-Z]\\.)(?<=\\.|\\?)\\s')\n",
    "# Remove text enclosed in '()' or '[]'\n",
    "grap_enclosed = re.compile(r'[\\(\\[].*?[\\)\\]]')\n",
    "\n",
    "model_sents = []\n",
    "for text in docs:\n",
    "    # In a single line sentences are being extracted without enclosed text.\n",
    "    stripped = [grap_enclosed.sub(\"\", sent) for sent in grap_sentence.split(text)]\n",
    "    # Excluding the final character of the sentence so the punctuation does not make part of last word      \n",
    "    model_sents += [text[:-1].split() for text in stripped]\n",
    "    \n",
    "common_terms = [\"of\", \"with\", \"without\", \"and\", \"or\", \"the\", \"a\", \"not\", \"be\", \"to\",\"this\",\"who\",\"in\"]\n",
    "bigram = gensim.models.Phrases(model_sents, min_count=50, threshold=5, max_vocab_size=50000, common_terms=common_terms)\n",
    "trigram = gensim.models.Phrases(bigram[model_sents], min_count=50, threshold=5, max_vocab_size=50000, common_terms=common_terms)"
   ]
  },
  {
   "cell_type": "markdown",
   "metadata": {},
   "source": [
    "#### Apply phrase model"
   ]
  },
  {
   "cell_type": "code",
   "execution_count": 8,
   "metadata": {},
   "outputs": [
    {
     "name": "stdout",
     "output_type": "stream",
     "text": [
      "2101 : Culture and Next_generation sequencing_based drug_susceptibility_testing unveil high levels of drug_resistant_TB in Djibouti: results from the first national survey. Djibouti is a small country in the Horn of Africa with a high TB incidence (378/100,000 in 2015). Multidrug_resistant TB (MDR_TB) and resistance to second_line agents have_been previously identified in the country but the extent of th\n"
     ]
    }
   ],
   "source": [
    "docs_phrased = [\" \".join(trigram[bigram[doc.split()]]) for doc in docs]\n",
    "print(str(len(docs_phrased)) +' : '+ docs_phrased[0][:400])"
   ]
  },
  {
   "cell_type": "markdown",
   "metadata": {},
   "source": [
    "### Filter and tokenize text\n",
    "SpaCy is assigned the task of making each document into a list of tokens. It is important to filter away non-topical tokens as they otherwise may be determining for the topic modelling. Textacy is not used as I prefer to learn the underlying spacy pipeline."
   ]
  },
  {
   "cell_type": "markdown",
   "metadata": {},
   "source": [
    "#### Define filters\n",
    "\n",
    "When adding stopwords to Spacy it will only stop the exact same spelling of a word. It is therefore necessary\n",
    "to include uppercase versions and eventuall plural forms of a word to get all variations. Alternatively we\n",
    "can create custom external lists outside the nlp object and control in detail how a word is being evaluated. Below are versions for\n",
    "exact spelling, lowercase, and lemma.\n",
    "\n",
    "NB: The keywords that was used to generate a corpus a good candidates for stopwords. Likewise you may filter out the most frequent terms of a sub-topic if you choose to dig into it."
   ]
  },
  {
   "cell_type": "markdown",
   "metadata": {},
   "source": [
    "<div class=\"alert alert-warning\">\n",
    "<b>SET</b> Stopwords. Topic and sub-topic specific words. As well as artifacts not captured by standard `is_stop` property.</div>"
   ]
  },
  {
   "cell_type": "code",
   "execution_count": 72,
   "metadata": {},
   "outputs": [],
   "source": [
    "# EXACT nlp object. Names, organisations etc.\n",
    "exact_stop = 'someword'.split()\n",
    "for w in exact_stop:\n",
    "    lexeme = nlp.vocab[w]\n",
    "    lexeme.is_stop = True\n",
    "\n",
    "# LOWERCASE in list. Safe choice.\n",
    "lower_stop = ('the to a an background objective').lower().split()\n",
    "\n",
    "# LEMMA in list. Powerful\n",
    "topic_stop = 'tb mdr mdr_tb tuberculosis'.split()\n",
    "subtopic_stop = ''.split('|')\n",
    "artifact = ['-PRON-','=', '+', 'in']\n",
    "\n",
    "lemma_stop = [item.strip() for item in (topic_stop + subtopic_stop + artifact)]"
   ]
  },
  {
   "cell_type": "markdown",
   "metadata": {},
   "source": [
    "#### Filter text\n",
    "Overview of all token attributes: https://github.com/explosion/spaCy/blob/master/spacy/attrs.pyx"
   ]
  },
  {
   "cell_type": "code",
   "execution_count": 73,
   "metadata": {},
   "outputs": [
    {
     "name": "stdout",
     "output_type": "stream",
     "text": [
      "['repurpos', 'revival', 'drug', 'new', 'approach', 'combat', 'drug_resistant', 'emergence', 'drug_resistant', 'like', 'multi_drug_resistant', 'extensively_drug_resistant', 'xdr_tb', 'totally', 'drug_resistant', 'tdr_tb', 'create', 'new', 'challenge', 'fight', 'bad', 'bug', 'mycobacterium', 'repurposing', 'revival', 'drug', 'new', 'trend', 'option', 'combat', 'worsen', 'situation', 'antibiotic', 'resistance', 'era', 'situation', 'global', 'emergency', 'bactericidal', 'synergistic', 'effect', 'repurpos', 'revive', 'drug', 'late', 'drug', 'bedaquiline', 'delamanid', 'treatment', 'xdr_tb', 'tdr_tb', 'choice', 'future', 'promising', 'combinatorial', 'chemotherapy', 'bad', 'bug']\n"
     ]
    }
   ],
   "source": [
    "docs_tokens, tokens_tmp = [], []\n",
    "for item in docs_phrased:\n",
    "    doc = nlp(item)\n",
    "    for w in doc:\n",
    "        # Filter away line endings,nlp stopwords, numbers and words in lists\n",
    "        if not (w.text == '\\n' or w.is_stop or w.is_punct or w.like_num or w.lemma_ in lemma_stop or w.text.lower() in lower_stop):\n",
    "            tokens_tmp.append(w.lemma_)\n",
    "    docs_tokens.append(tokens_tmp)\n",
    "    tokens_tmp = []\n",
    "# check\n",
    "print(docs_tokens[1])"
   ]
  },
  {
   "cell_type": "markdown",
   "metadata": {},
   "source": [
    "## TOPIC MODELLING\n",
    "We use Textacy because it has a nice suite of functions for topic modelling and connects with both termite and pyLDAvis"
   ]
  },
  {
   "cell_type": "code",
   "execution_count": 74,
   "metadata": {},
   "outputs": [],
   "source": [
    "vectorizer = textacy.Vectorizer(\n",
    "     weighting='tf', normalize=False, smooth_idf=True,\n",
    "     min_df=3, max_df=0.95, max_n_terms=10000)"
   ]
  },
  {
   "cell_type": "code",
   "execution_count": 75,
   "metadata": {},
   "outputs": [],
   "source": [
    "# Document-Term Matrix\n",
    "doc_term_matrix = vectorizer.fit_transform(docs_tokens)"
   ]
  },
  {
   "cell_type": "markdown",
   "metadata": {},
   "source": [
    "<div class=\"alert alert-warning\">\n",
    "<b>SET</b> Number of topics to model. Start with a larger number (10-20) and narrow down in subsequent iterations.</div>"
   ]
  },
  {
   "cell_type": "code",
   "execution_count": 89,
   "metadata": {},
   "outputs": [
    {
     "name": "stderr",
     "output_type": "stream",
     "text": [
      "/opt/conda/lib/python3.6/site-packages/sklearn/decomposition/online_lda.py:294: DeprecationWarning: n_topics has been renamed to n_components in version 0.19 and will be removed in 0.21\n",
      "  DeprecationWarning)\n"
     ]
    }
   ],
   "source": [
    "# SET\n",
    "no_topics=6\n",
    "model = textacy.tm.TopicModel('lda', n_topics=no_topics) # `n_components=x` is not being registered in 19.1 version\n",
    "model.fit(doc_term_matrix)"
   ]
  },
  {
   "cell_type": "code",
   "execution_count": 90,
   "metadata": {},
   "outputs": [
    {
     "data": {
      "text/plain": [
       "(2101, 6)"
      ]
     },
     "execution_count": 90,
     "metadata": {},
     "output_type": "execute_result"
    }
   ],
   "source": [
    "# Document-Topic Matrix\n",
    "doc_topic_matrix = model.transform(doc_term_matrix)\n",
    "# check\n",
    "doc_topic_matrix.shape"
   ]
  },
  {
   "cell_type": "markdown",
   "metadata": {},
   "source": [
    "## DATA PROCESSING"
   ]
  },
  {
   "cell_type": "markdown",
   "metadata": {},
   "source": [
    "#### Topic/Term distribution"
   ]
  },
  {
   "cell_type": "code",
   "execution_count": 91,
   "metadata": {},
   "outputs": [],
   "source": [
    "topic_weight_serie = pd.Series(model.topic_weights(doc_topic_matrix))"
   ]
  },
  {
   "cell_type": "code",
   "execution_count": 92,
   "metadata": {},
   "outputs": [],
   "source": [
    "# convert list of terms to text string\n",
    "topic_term_list = [\"| \"+\" | \".join(x[1])+\" |\" for x in model.top_topic_terms(vectorizer.id_to_term, topics=-1)]"
   ]
  },
  {
   "cell_type": "code",
   "execution_count": 93,
   "metadata": {},
   "outputs": [],
   "source": [
    "# Creating a dataframe from a list of series so the order is perserved. Dictionaries (including OrderDicts) move columns around.\n",
    "series_list_tmp = [ pd.Series(range(len(topic_weight_serie)),name='topic_id'), pd.Series(topic_term_list, name='terms'), topic_weight_serie.rename('weight')]\n",
    "topic_term_df = pd.concat(series_list_tmp, axis=1)"
   ]
  },
  {
   "cell_type": "code",
   "execution_count": 94,
   "metadata": {},
   "outputs": [],
   "source": [
    "# Insert a column in a particular position. NB: 'rank' returns the type of the column being ranked. <float> is in this case converted to integer.\n",
    "topic_term_df.insert(0, 'rank', topic_term_df['weight'].rank(ascending=False).astype(int))"
   ]
  },
  {
   "cell_type": "markdown",
   "metadata": {},
   "source": [
    "#### Topic Weight Chart"
   ]
  },
  {
   "cell_type": "code",
   "execution_count": 95,
   "metadata": {},
   "outputs": [
    {
     "data": {
      "image/png": "iVBORw0KGgoAAAANSUhEUgAAAX0AAAD8CAYAAACb4nSYAAAABHNCSVQICAgIfAhkiAAAAAlwSFlz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\nxNCXpIYY+pLUEENfkhryvw/ZJWZHd6f6AAAAAElFTkSuQmCC\n",
      "text/plain": [
       "<matplotlib.figure.Figure at 0x7fac78fd0860>"
      ]
     },
     "metadata": {},
     "output_type": "display_data"
    }
   ],
   "source": [
    "fig = plt.figure()\n",
    "ax1 = fig.add_subplot(111)\n",
    "bars = ax1.bar(range(len(topic_weight_serie)),topic_weight_serie, color='c', edgecolor='black')\n",
    "plt.savefig(outfolder + outroot +\"topic-weight.png\")"
   ]
  },
  {
   "cell_type": "markdown",
   "metadata": {},
   "source": [
    "#### Find top topics (= top_topic_list)"
   ]
  },
  {
   "cell_type": "markdown",
   "metadata": {},
   "source": [
    "<div class=\"alert alert-warning\">\n",
    "<b>SET</b> Number of top topics to focus. The 'Topic Weight Chart' above may help deciding how many to include.</div>"
   ]
  },
  {
   "cell_type": "code",
   "execution_count": 96,
   "metadata": {},
   "outputs": [
    {
     "name": "stdout",
     "output_type": "stream",
     "text": [
      "[5, 1, 2, 3]\n"
     ]
    }
   ],
   "source": [
    "number_top_topics = 4 # max 6\n",
    "top_list_tmp = topic_weight_serie.nlargest(n=number_top_topics)\n",
    "top_topic_list = list(top_list_tmp.index)\n",
    "print(top_topic_list)"
   ]
  },
  {
   "cell_type": "markdown",
   "metadata": {},
   "source": [
    "#### Prepare Topic-Term visualization with Termite plot & pyLDAvis\n",
    "- See all display options under 'viz.termite': https://www.pydoc.io/pypi/textacy-0.5.0/autoapi/tm/topic_model/index.html \n",
    "- More options available with `draw_termite_plot` but not needed so far: https://www.pydoc.io/pypi/textacy-0.5.0/autoapi/viz/termite/index.html#module-viz.termite\n",
    "- pyLDAvis based on calculated 'model' and 'doc_topic_matrix' https://github.com/chartbeat-labs/textacy/issues/28"
   ]
  },
  {
   "cell_type": "code",
   "execution_count": 97,
   "metadata": {},
   "outputs": [],
   "source": [
    "# NB: `termite_plot` saves an image with option: `save='filename.png'\n",
    "termite_file = outfolder + outroot +\"termite.png\""
   ]
  },
  {
   "cell_type": "code",
   "execution_count": 98,
   "metadata": {},
   "outputs": [],
   "source": [
    "# Prepare pyLDAvis\n",
    "import pyLDAvis\n",
    "pyLDAvis.enable_notebook()\n",
    "top_term_matrix = model.model.components_\n",
    "doc_lengths = [len(d) for d in docs_tokens]\n",
    "vocab = list(vectorizer.id_to_term.values())\n",
    "term_frequency = textacy.vsm.get_term_freqs(doc_term_matrix)\n",
    "vis_data = pyLDAvis.prepare(top_term_matrix,doc_topic_matrix,doc_lengths,vocab,term_frequency)"
   ]
  },
  {
   "cell_type": "markdown",
   "metadata": {},
   "source": [
    "## MODEL EVALUATION\n",
    "A number of visualizations are gathered in the following to give a comprehensive overview of the resulting topic model. "
   ]
  },
  {
   "cell_type": "code",
   "execution_count": 99,
   "metadata": {},
   "outputs": [
    {
     "name": "stdout",
     "output_type": "stream",
     "text": [
      "05% #05 @00 | isolate | strain | cluster | beijing | pza | transmission | linezolid | patient | genotype | mycobacterium |\n",
      "23% #02 @01 | isolate | resistance | drug | mutation | strain | mycobacterium | m. | study | resistant | gene |\n",
      "17% #03 @02 | case | control | new | drug | child | disease | multidrug_resistant | infection | treatment | country |\n",
      "12% #04 @03 | resistance | assay | detection | result | method | dst | test | rapid | rif | culture |\n",
      "04% #06 @04 | patient | response | cell | pulmonary | therapy | level | lung | sputum | culture | blood |\n",
      "36% #01 @05 | patient | treatment | drug | case | outcome | study | multidrug_resistant | resistance | result | regimen |\n"
     ]
    }
   ],
   "source": [
    "for index, row in topic_term_df.iterrows():\n",
    "    print('%02d' % (row['weight']*100) +'%','#'+'%02d' % row['rank'],\"@\"+('%02d' % index), row['terms'])"
   ]
  },
  {
   "cell_type": "code",
   "execution_count": 100,
   "metadata": {},
   "outputs": [
    {
     "data": {
      "image/png": "iVBORw0KGgoAAAANSUhEUgAAAZQAAAI3CAYAAAC8pa19AAAABHNCSVQICAgIfAhkiAAAAAlwSFlz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\nCBEWUlCEEEKEhRQUIYQQYfH/AQZGsL2X/uLdAAAAAElFTkSuQmCC\n",
      "text/plain": [
       "<matplotlib.figure.Figure at 0x7fac790cec18>"
      ]
     },
     "metadata": {},
     "output_type": "display_data"
    }
   ],
   "source": [
    "grid = model.termite_plot(doc_term_matrix, vectorizer.id_to_term, highlight_topics=top_topic_list,\n",
    "                   topics=-1,  n_terms=30, sort_terms_by='seriation', save=termite_file)"
   ]
  },
  {
   "cell_type": "markdown",
   "metadata": {},
   "source": [
    "<div class=\"alert alert-success\">\n",
    "<b>NOTE</b> \"Termite Plot\" above assign random number to topic starting with (@00). \"pyLDAvis\" below ranks topic based on their weight in corpus starting with (#01)</div>"
   ]
  },
  {
   "cell_type": "code",
   "execution_count": 101,
   "metadata": {},
   "outputs": [
    {
     "data": {
      "text/html": [
       "\n",
       "<link rel=\"stylesheet\" type=\"text/css\" href=\"https://cdn.rawgit.com/bmabey/pyLDAvis/files/ldavis.v1.0.0.css\">\n",
       "\n",
       "\n",
       "<div id=\"ldavis_el1611403787415462246702176357\"></div>\n",
       "<script type=\"text/javascript\">\n",
       "\n",
       "var ldavis_el1611403787415462246702176357_data = {\"mdsDat\": {\"Freq\": [36.811108285724394, 23.135710052663278, 16.746969092044907, 12.888894359865539, 6.2437543209615605, 4.173563888740314], \"cluster\": [1, 1, 1, 1, 1, 1], \"topics\": [1, 2, 3, 4, 5, 6], \"x\": [-0.25825724717014426, -0.14182870393823926, -0.14054960126710345, -0.044723618609464895, 0.18700150988799277, 0.39835766109695936], \"y\": [-0.11404922676332631, 0.11167138471093428, -0.03721893136711803, -0.038625109141038706, 0.2447748886698828, -0.16655300610933496]}, \"tinfo\": {\"Category\": [\"Default\", \"Default\", \"Default\", \"Default\", \"Default\", \"Default\", \"Default\", \"Default\", \"Default\", \"Default\", \"Default\", \"Default\", \"Default\", \"Default\", \"Default\", \"Default\", \"Default\", \"Default\", \"Default\", \"Default\", \"Default\", \"Default\", \"Default\", \"Default\", \"Default\", \"Default\", \"Default\", \"Default\", \"Default\", \"Default\", \"Topic1\", \"Topic1\", \"Topic1\", \"Topic1\", \"Topic1\", \"Topic1\", \"Topic1\", \"Topic1\", \"Topic1\", \"Topic1\", \"Topic1\", \"Topic1\", \"Topic1\", \"Topic1\", \"Topic1\", \"Topic1\", \"Topic1\", \"Topic1\", \"Topic1\", \"Topic1\", \"Topic1\", \"Topic1\", \"Topic1\", \"Topic1\", \"Topic1\", \"Topic1\", \"Topic1\", \"Topic1\", \"Topic1\", \"Topic1\", \"Topic1\", \"Topic1\", \"Topic1\", \"Topic1\", \"Topic1\", \"Topic1\", \"Topic1\", \"Topic1\", \"Topic1\", \"Topic1\", \"Topic1\", \"Topic1\", \"Topic1\", \"Topic1\", \"Topic1\", \"Topic1\", \"Topic1\", \"Topic1\", \"Topic1\", \"Topic1\", \"Topic1\", \"Topic1\", \"Topic1\", \"Topic1\", \"Topic1\", \"Topic1\", \"Topic1\", \"Topic1\", \"Topic1\", \"Topic1\", \"Topic1\", \"Topic1\", \"Topic1\", \"Topic1\", \"Topic1\", \"Topic1\", \"Topic1\", \"Topic1\", \"Topic1\", \"Topic1\", \"Topic1\", \"Topic1\", \"Topic1\", \"Topic1\", \"Topic1\", \"Topic1\", \"Topic1\", \"Topic1\", \"Topic2\", \"Topic2\", \"Topic2\", \"Topic2\", \"Topic2\", \"Topic2\", \"Topic2\", \"Topic2\", \"Topic2\", \"Topic2\", \"Topic2\", \"Topic2\", \"Topic2\", \"Topic2\", \"Topic2\", \"Topic2\", \"Topic2\", \"Topic2\", \"Topic2\", \"Topic2\", \"Topic2\", \"Topic2\", \"Topic2\", \"Topic2\", \"Topic2\", \"Topic2\", \"Topic2\", \"Topic2\", \"Topic2\", \"Topic2\", \"Topic2\", \"Topic2\", \"Topic2\", \"Topic2\", \"Topic2\", \"Topic2\", \"Topic2\", \"Topic2\", \"Topic2\", \"Topic2\", \"Topic2\", \"Topic2\", \"Topic2\", \"Topic2\", \"Topic2\", \"Topic2\", \"Topic2\", \"Topic2\", \"Topic2\", \"Topic2\", \"Topic2\", \"Topic2\", \"Topic2\", \"Topic2\", \"Topic2\", \"Topic2\", \"Topic2\", \"Topic2\", \"Topic2\", \"Topic2\", \"Topic2\", \"Topic2\", \"Topic2\", \"Topic2\", \"Topic2\", \"Topic2\", \"Topic2\", \"Topic2\", \"Topic2\", \"Topic2\", \"Topic3\", \"Topic3\", \"Topic3\", \"Topic3\", \"Topic3\", \"Topic3\", \"Topic3\", \"Topic3\", \"Topic3\", \"Topic3\", \"Topic3\", \"Topic3\", \"Topic3\", \"Topic3\", \"Topic3\", \"Topic3\", \"Topic3\", \"Topic3\", \"Topic3\", \"Topic3\", \"Topic3\", \"Topic3\", \"Topic3\", \"Topic3\", \"Topic3\", \"Topic3\", \"Topic3\", \"Topic3\", \"Topic3\", \"Topic3\", \"Topic3\", \"Topic3\", \"Topic3\", \"Topic3\", \"Topic3\", \"Topic3\", \"Topic3\", \"Topic3\", \"Topic3\", \"Topic3\", \"Topic3\", \"Topic3\", \"Topic3\", \"Topic3\", \"Topic3\", \"Topic3\", \"Topic3\", \"Topic3\", \"Topic3\", \"Topic3\", \"Topic3\", \"Topic3\", \"Topic3\", \"Topic3\", \"Topic3\", \"Topic3\", \"Topic3\", \"Topic3\", \"Topic3\", \"Topic3\", \"Topic3\", \"Topic3\", \"Topic3\", \"Topic3\", \"Topic3\", \"Topic3\", \"Topic3\", \"Topic3\", \"Topic3\", \"Topic3\", \"Topic3\", \"Topic3\", \"Topic3\", \"Topic3\", \"Topic3\", \"Topic3\", \"Topic3\", \"Topic3\", \"Topic3\", \"Topic3\", \"Topic3\", \"Topic3\", \"Topic4\", \"Topic4\", \"Topic4\", \"Topic4\", \"Topic4\", \"Topic4\", \"Topic4\", \"Topic4\", \"Topic4\", \"Topic4\", \"Topic4\", \"Topic4\", \"Topic4\", \"Topic4\", \"Topic4\", \"Topic4\", \"Topic4\", \"Topic4\", \"Topic4\", \"Topic4\", \"Topic4\", \"Topic4\", \"Topic4\", \"Topic4\", \"Topic4\", \"Topic4\", \"Topic4\", \"Topic4\", \"Topic4\", \"Topic4\", \"Topic4\", \"Topic4\", \"Topic4\", \"Topic4\", \"Topic4\", \"Topic4\", \"Topic4\", \"Topic4\", \"Topic4\", \"Topic4\", \"Topic4\", \"Topic4\", \"Topic4\", \"Topic4\", \"Topic4\", \"Topic4\", \"Topic4\", \"Topic4\", \"Topic4\", \"Topic4\", \"Topic4\", \"Topic4\", \"Topic4\", \"Topic4\", \"Topic4\", \"Topic4\", \"Topic4\", \"Topic4\", \"Topic4\", \"Topic4\", \"Topic4\", \"Topic4\", \"Topic4\", \"Topic4\", \"Topic4\", \"Topic5\", \"Topic5\", \"Topic5\", \"Topic5\", \"Topic5\", \"Topic5\", \"Topic5\", \"Topic5\", \"Topic5\", \"Topic5\", \"Topic5\", \"Topic5\", \"Topic5\", \"Topic5\", \"Topic5\", \"Topic5\", \"Topic5\", \"Topic5\", \"Topic5\", \"Topic5\", \"Topic5\", \"Topic5\", \"Topic5\", \"Topic5\", \"Topic5\", \"Topic5\", \"Topic5\", \"Topic5\", \"Topic5\", \"Topic5\", \"Topic5\", \"Topic5\", \"Topic5\", \"Topic5\", \"Topic5\", \"Topic5\", \"Topic5\", \"Topic5\", \"Topic5\", \"Topic5\", \"Topic5\", \"Topic5\", \"Topic5\", \"Topic5\", \"Topic5\", \"Topic5\", \"Topic5\", \"Topic5\", \"Topic5\", \"Topic5\", \"Topic5\", \"Topic5\", \"Topic5\", \"Topic5\", \"Topic5\", \"Topic5\", \"Topic5\", \"Topic5\", \"Topic5\", \"Topic5\", \"Topic5\", \"Topic6\", \"Topic6\", \"Topic6\", \"Topic6\", \"Topic6\", \"Topic6\", \"Topic6\", \"Topic6\", \"Topic6\", \"Topic6\", \"Topic6\", \"Topic6\", \"Topic6\", \"Topic6\", \"Topic6\", \"Topic6\", \"Topic6\", \"Topic6\", \"Topic6\", \"Topic6\", \"Topic6\", \"Topic6\", \"Topic6\", \"Topic6\", \"Topic6\", \"Topic6\", \"Topic6\", \"Topic6\", \"Topic6\", \"Topic6\", \"Topic6\", \"Topic6\", \"Topic6\", \"Topic6\", \"Topic6\", \"Topic6\", \"Topic6\", \"Topic6\", \"Topic6\", \"Topic6\", \"Topic6\", \"Topic6\", \"Topic6\", \"Topic6\", \"Topic6\", \"Topic6\", \"Topic6\", \"Topic6\", \"Topic6\", \"Topic6\", \"Topic6\", \"Topic6\", \"Topic6\", \"Topic6\", \"Topic6\", \"Topic6\", \"Topic6\", \"Topic6\", \"Topic6\", \"Topic6\", \"Topic6\", \"Topic6\", \"Topic6\", \"Topic6\", \"Topic6\"], \"Freq\": [569576342.0, 415753330.0, 117522297.0, 111352877.0, 70503126.0, 81478707.0, 183596589.0, 70831641.0, 215158587.0, 81553405.0, 78843395.0, 27506939.0, 45166122.0, 57164975.0, 44416679.0, 70144305.0, 24490048.0, 23443221.0, 29087984.0, 273997739.0, 34592311.0, 45542208.0, 17485418.0, 20213579.0, 36006986.0, 39734675.0, 29520677.0, 34787149.0, 19967739.0, 77036499.0, 20401083.19833596, 34530445.548121035, 29466828.487214155, 15620932.01659202, 44327495.995183416, 12788365.906238377, 117203264.44729869, 10985062.2146654, 9650552.387607662, 8811308.303129502, 8520153.109723754, 8746599.1521231, 8666574.138023581, 7421848.2448633695, 15668900.691286707, 7253016.773044944, 7177091.668119576, 13203677.90712987, 7127660.81893336, 6931213.628533125, 6966220.921479017, 6958108.024420486, 6618966.610000552, 17544595.34273811, 5328146.706526097, 7269629.90724423, 5093534.306121179, 5823832.183328782, 4297359.354111199, 4344448.160700698, 22533962.99035643, 26615780.01942253, 21990146.66317421, 20963832.40166409, 55891163.02731085, 11516865.996461535, 23570384.400513627, 35305245.44797839, 538087578.1476363, 34062441.85452615, 386224627.7157542, 18723589.734307338, 21241171.783916358, 67850531.39723757, 20078866.145535268, 15856141.234156342, 27079537.32219359, 35357369.51463498, 17581292.41158675, 73678862.71304105, 31095640.909777727, 33067505.024209503, 20150287.34023027, 27943265.70243806, 53276904.538542286, 53549996.41814033, 50304464.0007194, 59443837.55542315, 33751920.28503235, 133701682.09876809, 62498878.609868154, 43952088.254234575, 61029802.731266364, 43239796.16856309, 65679371.35108426, 107536109.0189215, 112074660.29436661, 163062002.46486324, 80755243.2209833, 39353187.90758699, 48041741.7450567, 61348956.85632653, 40363465.17008115, 92667923.10504265, 36142353.727425665, 40105598.46989647, 38252058.30286043, 37607218.87453673, 15211240.351614326, 14549180.714445012, 14217855.886180213, 16829099.014642768, 9100797.374901256, 7850931.316400106, 6002340.8102404345, 5256641.7099191025, 5429639.4759733435, 5032205.198075632, 4865744.395566842, 4923348.34421545, 19818061.147281524, 6270785.197644216, 5427372.818198867, 3848662.749592043, 3728807.470654783, 3736050.4461241956, 5027349.345599363, 4500053.298562168, 4702633.033763704, 4918099.826135522, 3158744.9396984386, 2988307.1814018856, 2965680.43685839, 7444877.249899985, 2887224.3250337015, 2635601.7556685703, 2604202.9450081554, 2584016.052560104, 69369976.29981537, 13287147.706150161, 15225235.847059712, 12265593.931303779, 4991116.3820242975, 28037614.348764807, 8637690.509127794, 21296979.710203428, 41042533.893612415, 6267500.18394714, 94789936.20908056, 8095465.181163939, 7353246.983937971, 15388146.6492005, 11301970.734273985, 64533917.290496446, 62791309.20899971, 12316694.047696743, 7711065.568953952, 17863179.260538653, 11194301.762619121, 89851377.09230466, 22644038.34822004, 11493841.691067528, 30357513.25805384, 83664638.17530997, 11972085.527188862, 14295170.900934724, 11592076.716728171, 23007501.4980224, 19577222.829114724, 24301889.31599728, 36744216.87238616, 15325863.351664763, 22401793.666215792, 17202057.31968237, 20153545.293790188, 16401139.042731175, 15052717.971167961, 15218113.609670604, 17435784.784041073, 5412929.36777098, 2667320.106075966, 2085183.121103639, 4558085.712669554, 1964410.0298069005, 3276994.9055098416, 1419628.3975872619, 1429067.1740523158, 1344300.4216082208, 1052470.6106801617, 924239.8488984605, 970847.1030479451, 1114096.587475254, 834456.8043297034, 814395.1440467415, 784634.9564757535, 791544.9274717115, 761511.1896060869, 762490.3530082946, 734367.9667260544, 890282.911911173, 694090.1771653205, 744985.3210579238, 714078.9124828819, 2487023.097718457, 643686.5210248906, 663020.870409753, 748538.9805264907, 583000.9908434657, 1086616.5577093519, 1640109.3124350742, 13906662.314488426, 4629858.1800209815, 2542199.2452040412, 4548967.870664427, 6016629.223994298, 1729054.7274742804, 5512680.915570642, 2107625.1597710038, 2849021.2157867, 1452889.4243298552, 1803895.714901451, 3011079.3107779175, 9604382.177893924, 6527998.986837499, 12025330.108191242, 2645927.7462532404, 1796871.0330155476, 3792684.6257680412, 8036425.015209025, 3742720.3435929064, 14934295.049265597, 25100201.20772569, 12310849.73312518, 17062811.011467643, 3297839.457108626, 15397696.93842313, 9782242.845830048, 8402161.72731021, 8467756.767472874, 7810766.8443410685, 38070632.736150764, 18610628.407245003, 7436575.48925521, 6365740.08055051, 10627477.985076552, 7236030.283769588, 12414988.625325512, 12452012.791466126, 8618545.90765933, 13168020.69201784, 10164824.032138493, 16041289.1244023, 13004424.165879529, 17661286.318323545, 8244715.517606896, 10382826.581440108, 15089042.666012252, 9950358.65666439, 9151661.923487136, 8611823.85447869, 7232263.393340784, 5230016.841752396, 4485102.47510869, 3557719.7146794493, 10241337.242031692, 3318069.045451533, 2698073.548549645, 3365627.457326231, 2659450.0519579393, 2064494.4742696737, 1563693.9775902731, 1442355.7652901718, 1553656.2127064597, 2462632.7741763806, 1537441.9571193275, 1515660.6127906991, 1342860.6337230043, 1277197.9496547268, 1197065.1697516558, 5833541.489930103, 1137178.2791558062, 1112527.7916066241, 3173669.164933253, 1076478.8783044824, 988428.8029400394, 1031537.8891131015, 969020.5527952126, 866097.4357831061, 742804.8192991312, 665505.0358349442, 6991310.221765566, 3147732.297078364, 23139568.02287335, 7327830.579360932, 5373708.260964089, 20058081.397523105, 10351866.973054506, 2186723.469390847, 17757456.559966877, 14991479.02639101, 2694144.4920820915, 14927142.687998056, 5172227.01576061, 11280819.94840834, 8538011.046760887, 11318324.336526657, 10684707.199462775, 17330968.653712485, 9402487.83845834, 6478582.165756506, 8132811.392017761, 14920067.017555017, 19733558.91792339, 11550955.336205611, 19968560.8493103, 24216198.38573998, 10221513.59378688, 9164401.527515434, 9131408.785391811, 8757635.716688346, 6713608.677762024, 7215842.933667332, 8209317.312474144, 6904292.259528113, 7071737.679080944, 3760995.2661804734, 1068205.3983927276, 935951.1814063381, 2478590.3243593113, 773398.5903317941, 794557.6058343382, 1322773.2599120438, 698741.8289441081, 2014317.2960763192, 1408286.97684235, 444065.5147896288, 422203.19158778194, 701995.1470749044, 1938517.3113026274, 412469.8955318858, 400716.0774458505, 398869.2751901335, 723180.1712422724, 360355.33713966736, 335736.4409737149, 331098.0830725593, 4637410.8265630575, 1357601.539565434, 317690.52733545617, 298242.75185373024, 293942.59963131713, 281482.55507506046, 277046.40916729154, 760520.3671182615, 553769.097233931, 740442.1990568874, 1376127.7922703784, 1168578.284323138, 2115626.364483912, 976374.6537237489, 4204089.475700347, 3092940.5791457947, 705093.5273242878, 958717.1308677811, 2441163.5545880105, 744303.6592774818, 2727536.732627626, 8146588.514568046, 3606330.781052734, 8839243.323595183, 1949666.3851276736, 1013725.2661170092, 1194655.8287008458, 2102966.6935566817, 1740313.9825916805, 2488722.871209306, 1962550.8338386174, 2928756.028468011, 1851604.742670185, 1447164.5719754058, 2006723.8382709261, 1860519.7460954438, 1678051.4445545177, 1434414.384789603, 1313818.4493437444, 1363257.78938304, 690113.246991746, 517570.86585997016, 458021.0933488777, 392561.0267363264, 415956.0288631662, 383854.7893946186, 355772.6400372488, 425730.6868711421, 365095.62658608606, 885049.3794879119, 327883.18809433724, 383524.78897552704, 400755.77333003044, 305529.38780774426, 272780.69359708566, 270618.70047935355, 535076.1130001837, 257212.77015972554, 236993.5500760537, 212729.94839723522, 228793.61447143633, 306423.66052005754, 249878.07549381838, 542414.2464203149, 191740.15707271112, 185471.9598630409, 186832.1781208861, 185393.35482562633, 179205.4498525243, 181120.4321381201, 230387.2713354391, 967292.78791942, 282710.1523957186, 818904.3717324851, 607915.7066334053, 2147325.605719201, 1953219.7508529283, 500945.6832648587, 510987.6376067608, 343871.4742692445, 1128647.6503453855, 5153645.033085017, 1633123.629446341, 1170263.9404961928, 712703.9286312214, 1326141.9926618105, 496081.7584342655, 1063348.2264936215, 886638.3892921535, 983445.6151255294, 879667.4523044479, 528560.3561183804, 803974.5679083689, 763328.063406491, 651385.3215542259, 828908.2453466266, 704657.3605035627, 610447.8605043648, 677173.7926487711, 769969.0172490685, 640563.3064922751, 659155.1980854727, 683962.3685350715, 656356.4482908197, 583176.0090585337], \"Term\": [\"patient\", \"treatment\", \"outcome\", \"isolate\", \"mutation\", \"strain\", \"case\", \"ci\", \"resistance\", \"mycobacterium\", \"regimen\", \"assay\", \"m.\", \"month\", \"or\", \"hiv\", \"detection\", \"dst\", \"gene\", \"drug\", \"risk_factor\", \"culture\", \"child\", \"rif\", \"failure\", \"sputum\", \"cohort\", \"age\", \"compound\", \"associate\", \"default\", \"risk_factor\", \"cohort\", \"aor\", \"or\", \"culture_conversion\", \"outcome\", \"multivariate\", \"hazard\", \"art\", \"hr\", \"medication\", \"co_infect\", \"diabetes\", \"adjust\", \"resection\", \"dm\", \"odd\", \"alcohol\", \"recurrence\", \"completion\", \"lose\", \"logistic_regression\", \"hiv_infect\", \"standardised\", \"antiretroviral\", \"individualized\", \"sex\", \"dot\", \"case_control\", \"adverse\", \"history\", \"die\", \"conversion\", \"month\", \"surgery\", \"follow_up\", \"failure\", \"patient\", \"age\", \"treatment\", \"record\", \"success\", \"ci\", \"retreatment\", \"predictor\", \"retrospective\", \"receive\", \"complete\", \"regimen\", \"cure\", \"previous\", \"95%ci\", \"median\", \"p\", \"treat\", \"hospital\", \"hiv\", \"factor\", \"case\", \"associate\", \"group\", \"rate\", \"therapy\", \"conclusion\", \"multidrug_resistant\", \"study\", \"drug\", \"result\", \"pulmonary\", \"include\", \"high\", \"year\", \"resistance\", \"risk\", \"xdr_tb\", \"analysis\", \"method\", \"mic\", \"mu\", \"g\", \"concentration\", \"codon\", \"h37rv\", \"inhibitory\", \"synthesize\", \"confer\", \"mutant\", \"synthesis\", \"gyra\", \"compound\", \"derivative\", \"antitubercular\", \"inhibit\", \"promoter\", \"efflux\", \"vivo\", \"inhibitor\", \"expression\", \"antimicrobial\", \"ciprofloxacin\", \"display\", \"smegmatis\", \"activity_against\", \"genome\", \"inhibition\", \"embb\", \"mu_g\", \"mutation\", \"ml\", \"vitro\", \"acid\", \"potent\", \"gene\", \"protein\", \"activity\", \"m.\", \"antimycobacterial\", \"isolate\", \"inha\", \"emb\", \"rpob\", \"katg\", \"strain\", \"mycobacterium\", \"dna\", \"sequence\", \"mtb\", \"novel\", \"resistance\", \"show\", \"all_right\", \"resistant\", \"drug\", \"susceptible\", \"c\", \"reserve\", \"isoniazid\", \"find\", \"clinical\", \"study\", \"rifampicin\", \"multidrug_resistant\", \"analysis\", \"result\", \"drug_resistant\", \"new\", \"high\", \"child\", \"hcw\", \"pediatric\", \"ltbi\", \"healthcare\", \"preventive\", \"vaccine\", \"childhood\", \"inmate\", \"funding\", \"partnership\", \"fund\", \"bdq\", \"stigma\", \"prophylaxis\", \"investment\", \"mathematical\", \"vaccination\", \"ctl\", \"paediatric\", \"chemoprophylaxis\", \"emergency\", \"case_finding\", \"political\", \"kzn\", \"tst\", \"institutional\", \"eta\", \"shift\", \"occupational\", \"respondent\", \"incident\", \"contact\", \"household\", \"latent\", \"nosocomial\", \"worker\", \"room\", \"outbreak\", \"isolation\", \"staff\", \"scenario\", \"financial\", \"people\", \"global\", \"epidemic\", \"transmission\", \"source\", \"plan\", \"practice\", \"burden\", \"health_care\", \"country\", \"control\", \"health\", \"disease\", \"epidemiology\", \"infection\", \"strategy\", \"estimate\", \"system\", \"incidence\", \"case\", \"new\", \"cost\", \"support\", \"need\", \"provide\", \"increase\", \"datum\", \"model\", \"drug_resistant\", \"report\", \"multidrug_resistant\", \"high\", \"drug\", \"develop\", \"hiv\", \"treatment\", \"rate\", \"year\", \"result\", \"xpert\", \"mtbdrplus\", \"mods\", \"xpert_mtb\", \"specimen\", \"lpa\", \"lj\", \"ntm\", \"line_probe\", \"$\", \"nra\", \"lipa\", \"genexpert\", \"sensitivity_and_specificity\", \"gold\", \"presumptive\", \"speciman\", \"microscopic\", \"nitrate\", \"specificity\", \"correctly\", \"genotype_mtbdrplus\", \"accuracy\", \"kappa\", \"inno_lipa\", \"rmp_resistant\", \"turnaround\", \"mtbdr\", \"genechip\", \"culture_bas\", \"rmp\", \"mgit\", \"assay\", \"r\", \"performance\", \"detection\", \"sensitivity\", \"indirect\", \"dst\", \"rapid\", \"algorithm\", \"rif\", \"conventional\", \"sample\", \"diagnostic\", \"detect\", \"inh\", \"test\", \"laboratory\", \"suspect\", \"cost\", \"culture\", \"method\", \"sputum\", \"result\", \"resistance\", \"rifampicin\", \"diagnosis\", \"respectively\", \"compare\", \"molecular\", \"susceptibility\", \"drug\", \"isoniazid\", \"study\", \"pza\", \"delamanid\", \"spoligotype\", \"bedaquiline\", \"lam\", \"placebo\", \"miru_vntr\", \"br\", \"spoligotyp\", \"rflp\", \"meningitis\", \"sr\", \"clustering\", \"pnca\", \"cas\", \"pza_resistant\", \"la\", \"haarlem\", \"tmc207\", \"eai\", \"pand\", \"cluster\", \"typing\", \"discriminatory\", \"qaly\", \"miru\", \"el\", \"is6110_rflp\", \"intersperse\", \"fingerprint\", \"repetitive\", \"de\", \"beijing_genotype\", \"lineage\", \"diversity\", \"beijing\", \"linezolid\", \"tandem\", \"genotyp\", \"family\", \"genotyping\", \"genotype\", \"strain\", \"transmission\", \"isolate\", \"pyrazinamide\", \"belong\", \"polymorphism\", \"pattern\", \"n\", \"mycobacterium\", \"m.\", \"patient\", \"analysis\", \"molecular\", \"multidrug_resistant\", \"study\", \"high\", \"case\", \"group\", \"drug\", \"guinea\", \"pig\", \"powder\", \"pregnancy\", \"aerosol\", \"ct\", \"rhuil_2\", \"dry\", \"interferon_gamma\", \"ifn_gamma\", \"il_10\", \"tnf_alpha\", \"cytokine\", \"flow\", \"microparticle\", \"lymphocyte\", \"t_cell\", \"particle\", \"fever\", \"consolidation\", \"pbmc\", \"immunotherapy\", \"ppd\", \"antigen\", \"tomography\", \"inhalation\", \"autopsy\", \"png\", \"hc\", \"ifn_alpha\", \"mononuclear\", \"blood\", \"eu\", \"immune\", \"healthy\", \"response\", \"cell\", \"il_2\", \"production\", \"release\", \"lung\", \"patient\", \"pulmonary\", \"level\", \"bacilli\", \"therapy\", \"cd4\", \"sputum\", \"positive\", \"culture\", \"compare\", \"lesion\", \"group\", \"increase\", \"smear\", \"result\", \"infection\", \"subject\", \"receive\", \"multidrug_resistant\", \"significantly\", \"control\", \"treatment\", \"study\", \"month\"], \"Total\": [569576342.0, 415753330.0, 117522297.0, 111352877.0, 70503126.0, 81478707.0, 183596589.0, 70831641.0, 215158587.0, 81553405.0, 78843395.0, 27506939.0, 45166122.0, 57164975.0, 44416679.0, 70144305.0, 24490048.0, 23443221.0, 29087984.0, 273997739.0, 34592311.0, 45542208.0, 17485418.0, 20213579.0, 36006986.0, 39734675.0, 29520677.0, 34787149.0, 19967739.0, 77036499.0, 20429659.380843516, 34592311.5633122, 29520677.296548724, 15651357.483310599, 44416679.75752701, 12822315.732917137, 117522297.31747605, 11016907.284888051, 9679359.47892628, 8840997.591637198, 8548952.338235773, 8776963.103653606, 8697608.209459025, 7450595.29055444, 15729652.711157298, 7281612.335924239, 7205657.127141103, 13256751.596805472, 7156517.2421587715, 6959815.233458728, 6995090.001386232, 6987404.479425846, 6648509.7101334995, 17643287.108017985, 5358828.2858890295, 7312140.431563542, 5123892.218029468, 5858864.35508863, 4326273.39068397, 4373738.175040804, 22688903.504014127, 26859621.72734583, 22184833.63346753, 21192339.590676587, 57164975.74387363, 11596388.904340727, 23906833.239245765, 36006986.57653245, 569576342.568913, 34787149.52935345, 415753330.4623478, 18991548.360928, 21626561.010272734, 70831641.53764248, 20469555.8870566, 16093129.473659119, 27832678.20206583, 36680740.877444856, 17933570.880091358, 78843395.33648002, 32296114.08538749, 34527199.30631099, 20700586.564436633, 29520788.670027893, 59281512.42292202, 60057360.52081946, 57363119.725005805, 70144305.81784567, 37293462.45627296, 183596589.4599295, 77036499.01432404, 51324113.8805688, 76071973.54182649, 50348507.17338912, 83969391.60664973, 155306973.8432382, 164351363.98821718, 273997739.1113846, 131293710.48023579, 47149782.22237555, 63851320.11870224, 97412171.49405332, 50305936.04201395, 215158587.1069856, 42015952.50983526, 59789793.96109976, 61658183.84635525, 74212923.85255288, 15246155.530771906, 14584139.566036863, 14253084.339298958, 16884410.857402496, 9135962.241611589, 7885700.413562719, 6037031.038793205, 5291489.984848409, 5465846.301994419, 5067126.6443750635, 4900455.640353494, 4958540.803691949, 19967739.715952374, 6319701.593710817, 5474865.606997789, 3883420.9936244767, 3763697.440995896, 3771262.546773279, 5079348.168287714, 4547226.982996149, 4753455.673764779, 4971490.178465006, 3194446.4246237567, 3023196.6612343993, 3000332.4623297974, 7535047.834512317, 2924277.9758487754, 2670347.145729114, 2639054.824466585, 2618825.388939438, 70503126.40209073, 13472949.940564713, 15513438.382614315, 12508568.321095886, 5069042.660475265, 29087984.98078323, 8860139.082064185, 22681528.42815561, 45166122.68548419, 6438879.737846842, 111352877.5961425, 8424984.363112764, 7617588.5246160105, 16655146.90546439, 12128767.119561968, 81478707.68900602, 81553405.61608914, 13782808.397504816, 8370837.553180228, 24482625.447092254, 13691073.479391586, 215158587.1069856, 37504553.63823969, 14761699.741348188, 60799243.726878874, 273997739.1113846, 16060730.254316237, 22258136.459296357, 15755840.493124202, 53826774.93668659, 41320954.40323399, 66603094.66893672, 164351363.98821718, 35615663.432207905, 155306973.8432382, 61658183.84635525, 131293710.48023579, 66820206.756401196, 66772547.689545296, 97412171.49405332, 17485418.882436085, 5452881.351858016, 2706858.2612237986, 2122965.8760405886, 4645050.540013124, 2003922.1414017854, 3355546.714550558, 1457540.4296012542, 1470455.60358479, 1391261.1952051383, 1090099.1337858273, 962129.1093546258, 1012062.1287376509, 1161725.859415898, 873186.9440771239, 853329.807421632, 822612.1553557692, 830000.6402241614, 799515.6973385251, 800798.5661495706, 772485.7698925942, 936616.2667345899, 732275.8477560115, 786360.3830554031, 754160.3630946418, 2627433.2470663185, 682775.4154046846, 704254.9257798843, 795566.9950671336, 620782.9510471384, 1158588.8412744296, 1774232.2830563951, 15929463.788336057, 5144005.967436081, 2802729.045398541, 5154957.994952273, 6942726.580338672, 1928936.2102390716, 7018853.265355237, 2452813.9929795503, 3468425.064996225, 1632751.3338998829, 2097536.452133465, 3756685.175805335, 14583635.278102571, 9778545.874962242, 20267234.320295114, 3352403.1921272106, 2110495.3624313055, 5263000.513989379, 13623467.085017921, 5328481.592239443, 31500932.438858032, 65214306.114364065, 25937322.03746175, 41610684.48424241, 4566996.9066429, 39865928.259089164, 21447139.9708658, 17490251.696523856, 18091409.45299098, 16116664.592754383, 183596589.4599295, 66772547.689545296, 17101309.26394308, 13634086.738474043, 33219640.91699924, 17064967.840255447, 44288305.87122827, 52892078.209308125, 25948544.172784608, 66820206.756401196, 41707639.75351258, 155306973.8432382, 97412171.49405332, 273997739.1113846, 27903766.833787333, 70144305.81784567, 415753330.4623478, 76071973.54182649, 50305936.04201395, 131293710.48023579, 7274557.409901348, 5270512.789352222, 4524414.308010388, 3599482.861866441, 10363004.733004175, 3366197.4535164624, 2738923.257820449, 3418469.899447363, 2706067.662640258, 2104074.0338228024, 1602953.6134530855, 1481741.3470449955, 1596914.2716845677, 2531551.5854896386, 1581006.0515046883, 1559220.6870413478, 1382824.0434076942, 1316744.3374281868, 1236338.563358812, 6037951.233544573, 1177140.1322209537, 1152062.4530514164, 3286531.7400211305, 1117854.2355138843, 1027762.0115400316, 1072952.181855269, 1008402.9442641103, 905407.510891382, 782227.0766556113, 705281.5077491376, 7602083.479628501, 3398431.620748976, 27506939.066627994, 8348674.058175222, 6030496.373575146, 24490048.410265993, 12383640.817194395, 2392385.6661412544, 23443221.50651131, 19631346.452927247, 3012831.515515885, 20213579.16687412, 6457244.520568761, 19004885.11804047, 13527898.112555228, 20181738.39830757, 21593521.10100468, 46528584.91999607, 19278914.70005253, 11393454.712676082, 17101309.26394308, 45542208.8784431, 74212923.85255288, 39734675.92771245, 131293710.48023579, 215158587.1069856, 35615663.432207905, 32097750.79513744, 44439960.39568834, 44199793.99778201, 19116961.20104388, 37776232.129014656, 273997739.1113846, 53826774.93668659, 164351363.98821718, 3813288.1912035705, 1112720.729310674, 979736.4356063172, 2596497.6324082087, 816237.8691197714, 839407.7720884845, 1401059.4154918706, 743368.5455970295, 2170765.6230771975, 1533996.0147939844, 487059.5584722487, 464614.86657319707, 775094.3715030516, 2141081.950392188, 455678.06686199945, 443026.8820418084, 441590.43737598235, 805782.8361763858, 404103.38806026377, 378156.98748331045, 373426.2847320836, 5236682.060730233, 1542594.6814266415, 363352.855923856, 341297.9100667834, 337972.88843559125, 323820.6906381478, 319544.05024408473, 877455.2422407548, 639642.3621316453, 864458.0750113318, 1629046.1057331632, 1412371.9211568988, 2662192.8389204377, 1219408.6438267012, 6140668.825821531, 5829597.915407868, 988579.0126130618, 1528524.8191537254, 7334302.929768045, 1246503.8729757576, 11814817.237639636, 81478707.68900602, 20267234.320295114, 111352877.5961425, 11188730.217341295, 2403815.6953601637, 4172349.2891973797, 27624403.632009108, 15532850.274361694, 81553405.61608914, 45166122.68548419, 569576342.568913, 61658183.84635525, 19116961.20104388, 155306973.8432382, 164351363.98821718, 97412171.49405332, 183596589.4599295, 51324113.8805688, 273997739.1113846, 733663.0853520355, 561013.9345818935, 501490.86668053095, 435895.7020962815, 462682.7761620699, 427154.34472781554, 401133.0711294908, 480334.20629259775, 413154.58741966664, 1003140.4885482632, 374154.1286549272, 438554.27541282086, 460116.88680121076, 350923.8916546777, 316192.1253453192, 313994.86135669943, 625431.3094568619, 300696.413268291, 282056.648965504, 256360.61059101374, 277255.65257812786, 372857.9455059017, 305241.8298760435, 663118.3302374741, 235007.74148655153, 228726.75230064034, 230625.06324383622, 229159.22795934236, 222614.04421893935, 225325.975808456, 289303.55344752176, 1320851.0838202476, 374269.2452280179, 1399782.2553222363, 1054096.8748041943, 7917253.846283305, 8856792.643273598, 1033747.3099946202, 1244153.7086763568, 633246.2463126488, 8663572.425671536, 569576342.568913, 47149782.22237555, 22057466.888631124, 5839639.1757313665, 50348507.17338912, 2093344.3680397337, 39734675.92771245, 23373657.895962216, 45542208.8784431, 44199793.99778201, 3219879.7176991827, 51324113.8805688, 44288305.87122827, 15691495.4788513, 131293710.48023579, 39865928.259089164, 12354240.546934422, 36680740.877444856, 155306973.8432382, 33767512.515691265, 65214306.114364065, 415753330.4623478, 164351363.98821718, 57164975.74387363], \"loglift\": [30.0, 29.0, 28.0, 27.0, 26.0, 25.0, 24.0, 23.0, 22.0, 21.0, 20.0, 19.0, 18.0, 17.0, 16.0, 15.0, 14.0, 13.0, 12.0, 11.0, 10.0, 9.0, 8.0, 7.0, 6.0, 5.0, 4.0, 3.0, 2.0, 1.0, 12.0216, 12.0212, 12.0212, 12.021, 12.021, 12.0203, 12.0203, 12.0201, 12.02, 12.0196, 12.0196, 12.0195, 12.0194, 12.0191, 12.0191, 12.019, 12.019, 12.019, 12.0189, 12.0189, 12.0188, 12.0188, 12.0185, 12.0174, 12.0172, 12.0172, 12.017, 12.017, 12.0163, 12.0163, 12.0161, 12.0139, 12.0142, 12.0121, 12.0004, 12.0161, 12.0088, 12.0033, 11.9661, 12.0019, 11.9493, 12.0088, 12.005, 11.98, 12.0037, 12.0081, 11.9955, 11.9862, 12.0031, 11.9552, 11.9851, 11.9798, 11.996, 11.9681, 11.9162, 11.9083, 11.8917, 11.8575, 11.9232, 11.7059, 11.8139, 11.8679, 11.8027, 11.8708, 11.7773, 11.6554, 11.6401, 11.504, 11.537, 11.8422, 11.7385, 11.5606, 11.8028, 11.1806, 11.8724, 11.6237, 11.5456, 11.3432, 12.4851, 12.485, 12.4849, 12.4841, 12.4835, 12.483, 12.4816, 12.4808, 12.4808, 12.4805, 12.4803, 12.4803, 12.4799, 12.4796, 12.4787, 12.4784, 12.4781, 12.478, 12.4771, 12.477, 12.4767, 12.4766, 12.4762, 12.4758, 12.4758, 12.4754, 12.4747, 12.4743, 12.4741, 12.474, 12.4712, 12.4735, 12.4687, 12.4678, 12.4719, 12.4506, 12.462, 12.4244, 12.3917, 12.4604, 12.3264, 12.4475, 12.4521, 12.4083, 12.4168, 12.2543, 12.226, 12.3749, 12.4053, 12.1722, 12.2861, 11.6142, 11.9828, 12.2372, 11.7929, 11.3011, 12.1936, 12.0446, 12.1805, 11.6375, 11.7404, 11.4792, 10.9894, 11.6442, 10.5511, 11.2108, 10.6133, 11.0827, 10.9977, 10.6309, 12.8077, 12.8032, 12.7958, 12.7926, 12.7917, 12.7906, 12.7869, 12.7842, 12.782, 12.7762, 12.7754, 12.7704, 12.769, 12.7687, 12.7652, 12.7639, 12.7633, 12.7631, 12.7619, 12.7615, 12.76, 12.7598, 12.757, 12.7565, 12.756, 12.7556, 12.7516, 12.7502, 12.7496, 12.7478, 12.7464, 12.732, 12.6748, 12.7053, 12.713, 12.6855, 12.6674, 12.7012, 12.569, 12.6589, 12.6138, 12.6939, 12.6597, 12.5893, 12.3929, 12.4065, 12.2886, 12.5739, 12.6497, 12.4829, 12.2828, 12.4573, 12.0642, 11.8558, 12.0654, 11.9191, 12.485, 11.8593, 12.0255, 12.0774, 12.0514, 12.0862, 11.2373, 11.533, 11.9778, 12.0489, 11.6709, 11.9526, 11.5387, 11.3642, 11.7084, 11.1863, 11.3988, 10.5403, 10.7969, 10.0688, 11.5914, 10.9002, 9.4944, 10.7765, 11.1064, 10.0863, 13.0666, 13.0647, 13.0637, 13.0607, 13.0606, 13.058, 13.0574, 13.0568, 13.055, 13.0534, 13.0476, 13.0455, 13.045, 13.0448, 13.0445, 13.0441, 13.0431, 13.0419, 13.0401, 13.038, 13.0379, 13.0375, 13.0375, 13.0347, 13.0334, 13.0331, 13.0326, 13.028, 13.0207, 13.0144, 12.9887, 12.9958, 12.8995, 12.942, 12.9571, 12.8728, 12.8932, 12.9825, 12.7946, 12.8028, 12.9606, 12.7692, 12.8505, 12.5508, 12.6122, 12.4941, 12.3688, 12.0848, 12.3544, 12.5079, 12.3292, 11.9565, 11.7478, 11.837, 11.1891, 10.8881, 11.8241, 11.819, 11.49, 11.4536, 12.026, 11.417, 9.5646, 11.0188, 9.9265, 13.7834, 13.7564, 13.7515, 13.7507, 13.7433, 13.7423, 13.7397, 13.7353, 13.7224, 13.7117, 13.7048, 13.7015, 13.6981, 13.6978, 13.6976, 13.6968, 13.6955, 13.689, 13.6826, 13.6782, 13.6769, 13.6757, 13.6695, 13.6629, 13.6624, 13.6576, 13.6571, 13.6545, 13.6542, 13.653, 13.6423, 13.6285, 13.6077, 13.5674, 13.5749, 13.4183, 13.1634, 13.4593, 13.3307, 12.6971, 13.2816, 12.3312, 11.4945, 12.0709, 11.2637, 12.05, 12.9338, 12.5466, 11.2218, 11.6083, 10.3077, 10.6611, 8.5269, 10.2916, 11.2162, 9.4483, 9.316, 9.7359, 8.9452, 10.132, 8.494, 14.1388, 14.1194, 14.1093, 14.0953, 14.0935, 14.0931, 14.08, 14.0793, 14.0763, 14.0748, 14.068, 14.0659, 14.0619, 14.0615, 14.0523, 14.0513, 14.044, 14.0438, 14.0259, 14.0134, 14.0079, 14.0038, 13.9999, 13.9991, 13.9965, 13.9904, 13.9894, 13.9881, 13.9831, 13.9816, 13.9723, 13.8885, 13.9195, 13.6639, 13.6496, 12.8952, 12.6883, 13.4756, 13.3101, 13.5894, 12.1619, 9.4948, 10.8372, 11.2636, 12.0967, 10.5633, 12.7602, 10.5792, 10.9281, 10.3647, 10.2831, 12.3931, 10.0437, 10.1392, 11.0182, 9.1349, 10.1644, 11.1924, 10.2079, 8.8932, 10.2351, 9.6055, 7.7901, 8.677, 9.6148], \"logprob\": [30.0, 29.0, 28.0, 27.0, 26.0, 25.0, 24.0, 23.0, 22.0, 21.0, 20.0, 19.0, 18.0, 17.0, 16.0, 15.0, 14.0, 13.0, 12.0, 11.0, 10.0, 9.0, 8.0, 7.0, 6.0, 5.0, 4.0, 3.0, 2.0, 1.0, 5.3237, 5.8499, 5.6913, 5.0567, 6.0997, 4.8566, 7.072, 4.7046, 4.5751, 4.4841, 4.4505, 4.4767, 4.4675, 4.3125, 5.0597, 4.2895, 4.279, 4.8886, 4.2721, 4.2441, 4.2491, 4.248, 4.198, 5.1728, 3.9811, 4.2918, 3.936, 4.07, 3.7661, 3.777, 5.4231, 5.5896, 5.3987, 5.3509, 6.3315, 4.7519, 5.4681, 5.8721, 8.5961, 5.8363, 8.2645, 5.2379, 5.364, 6.5254, 5.3077, 5.0716, 5.6068, 5.8736, 5.1749, 6.6078, 5.7451, 5.8066, 5.3113, 5.6382, 6.2836, 6.2887, 6.2262, 6.3931, 5.8271, 7.2037, 6.4432, 6.0912, 6.4194, 6.0748, 6.4929, 6.9859, 7.0272, 7.4022, 6.6995, 5.9806, 6.1801, 6.4246, 6.006, 6.8371, 5.8955, 5.9996, 5.9523, 5.9353, 5.4945, 5.45, 5.427, 5.5956, 4.9809, 4.8331, 4.5646, 4.432, 4.4644, 4.3884, 4.3547, 4.3665, 5.7591, 4.6084, 4.4639, 4.1202, 4.0886, 4.0905, 4.3874, 4.2766, 4.3206, 4.3654, 3.9227, 3.8672, 3.8596, 4.78, 3.8328, 3.7416, 3.7296, 3.7218, 7.0119, 5.3593, 5.4954, 5.2793, 4.3802, 6.106, 4.9286, 5.8311, 6.4871, 4.6079, 7.3242, 4.8638, 4.7676, 5.5061, 5.1975, 6.9397, 6.9123, 5.2834, 4.8151, 5.6552, 5.1879, 7.2706, 5.8924, 5.2143, 6.1855, 7.1993, 5.2551, 5.4324, 5.2228, 5.9083, 5.7469, 5.963, 6.3765, 5.502, 5.8816, 5.6175, 5.7759, 5.5698, 5.4841, 5.495, 5.9542, 4.7844, 4.0767, 3.8305, 4.6126, 3.7708, 4.2826, 3.446, 3.4527, 3.3915, 3.1468, 3.0169, 3.0661, 3.2037, 2.9147, 2.8903, 2.8531, 2.8619, 2.8232, 2.8245, 2.7869, 2.9794, 2.7305, 2.8013, 2.7589, 4.0067, 2.6551, 2.6847, 2.806, 2.5561, 3.1787, 3.5904, 5.728, 4.6282, 4.0287, 4.6106, 4.8902, 3.6432, 4.8027, 3.8412, 4.1426, 3.4692, 3.6856, 4.198, 5.3579, 4.9718, 5.5827, 4.0687, 3.6817, 4.4287, 5.1796, 4.4155, 5.7993, 6.3185, 5.6061, 5.9326, 4.2889, 5.8299, 5.3762, 5.2241, 5.2319, 5.1512, 6.7351, 6.0194, 5.1021, 4.9466, 5.4591, 5.0747, 5.6146, 5.6175, 5.2496, 5.6734, 5.4146, 5.8708, 5.6609, 5.967, 5.2052, 5.4358, 5.8096, 5.3933, 5.3096, 5.2488, 5.3361, 5.0119, 4.8583, 4.6266, 5.6839, 4.5569, 4.35, 4.5711, 4.3356, 4.0824, 3.8046, 3.7238, 3.7981, 4.2587, 3.7876, 3.7734, 3.6523, 3.6022, 3.5374, 5.1211, 3.4861, 3.4641, 4.5124, 3.4312, 3.3459, 3.3886, 3.326, 3.2137, 3.0602, 2.9503, 5.3022, 4.5042, 6.499, 5.3492, 5.039, 6.3561, 5.6947, 4.1399, 6.2343, 6.065, 4.3486, 6.0607, 5.0008, 5.7806, 5.502, 5.7839, 5.7263, 6.21, 5.5985, 5.226, 5.4534, 6.0602, 6.3398, 5.8043, 6.3517, 6.5445, 5.682, 5.5728, 5.5692, 5.5274, 5.2616, 5.3338, 5.4628, 5.2896, 5.3136, 5.407, 4.1483, 4.0161, 4.99, 3.8253, 3.8523, 4.362, 3.7238, 4.7826, 4.4247, 3.2705, 3.22, 3.7285, 4.7442, 3.1967, 3.1678, 3.1632, 3.7582, 3.0616, 2.9909, 2.9769, 5.6164, 4.388, 2.9356, 2.8724, 2.8579, 2.8146, 2.7987, 3.8085, 3.4913, 3.7818, 4.4016, 4.2381, 4.8316, 4.0584, 5.5183, 5.2114, 3.7329, 4.0401, 4.9748, 3.787, 5.0857, 6.1799, 5.365, 6.2615, 4.7499, 4.0959, 4.2601, 4.8256, 4.6364, 4.9941, 4.7565, 5.1569, 4.6983, 4.4519, 4.7788, 4.7031, 4.5999, 4.443, 4.3552, 4.3922, 4.1142, 3.8265, 3.7043, 3.55, 3.6079, 3.5276, 3.4516, 3.6312, 3.4775, 4.363, 3.37, 3.5267, 3.5707, 3.2994, 3.186, 3.1781, 3.8598, 3.1272, 3.0454, 2.9374, 3.0102, 3.3023, 3.0983, 3.8734, 2.8335, 2.8002, 2.8076, 2.7998, 2.7659, 2.7765, 3.0171, 4.4518, 3.2218, 4.2853, 3.9874, 5.2493, 5.1546, 3.7938, 3.8137, 3.4176, 4.6061, 6.1248, 4.9756, 4.6423, 4.1464, 4.7674, 3.7841, 4.5465, 4.3648, 4.4684, 4.3569, 3.8475, 4.2669, 4.215, 4.0564, 4.2975, 4.1351, 3.9915, 4.0953, 4.2237, 4.0397, 4.0683, 4.1052, 4.064, 3.9458]}, \"token.table\": {\"Topic\": [1, 2, 3, 4, 5, 6, 1, 2, 3, 4, 5, 6, 1, 2, 3, 4, 5, 6, 1, 2, 3, 4, 5, 6, 1, 2, 3, 4, 5, 6, 1, 2, 3, 4, 5, 6, 1, 2, 3, 4, 5, 6, 1, 2, 3, 4, 5, 6, 1, 2, 3, 4, 5, 6, 1, 2, 3, 4, 5, 6, 1, 2, 3, 4, 5, 6, 1, 2, 3, 4, 5, 6, 1, 2, 3, 4, 5, 6, 1, 2, 3, 4, 5, 6, 1, 2, 3, 4, 5, 6, 1, 2, 3, 4, 5, 6, 1, 2, 3, 4, 5, 6, 1, 2, 3, 4, 5, 6, 1, 2, 3, 4, 5, 6, 1, 2, 3, 4, 5, 6, 1, 2, 3, 4, 5, 6, 1, 2, 3, 4, 5, 6, 1, 2, 3, 4, 5, 6, 1, 2, 3, 4, 5, 6, 1, 2, 3, 4, 5, 6, 1, 2, 3, 4, 5, 6, 1, 2, 3, 4, 5, 6, 1, 2, 3, 4, 5, 6, 1, 2, 3, 4, 5, 6, 1, 2, 3, 4, 5, 6, 1, 2, 3, 4, 5, 6, 1, 2, 3, 4, 5, 6, 1, 2, 3, 4, 5, 6, 1, 2, 3, 4, 5, 6, 1, 2, 3, 4, 5, 6, 1, 2, 3, 4, 5, 6, 1, 2, 3, 4, 5, 6, 1, 2, 3, 4, 5, 6, 1, 2, 3, 4, 5, 6, 1, 2, 3, 4, 5, 6, 1, 2, 3, 4, 5, 6, 1, 2, 3, 4, 5, 6, 1, 2, 3, 4, 5, 6, 1, 2, 3, 4, 5, 6, 1, 2, 3, 4, 5, 6, 1, 2, 3, 4, 5, 6, 1, 2, 3, 4, 5, 6, 1, 2, 3, 4, 5, 6, 1, 2, 3, 4, 5, 6, 1, 2, 3, 4, 5, 6, 1, 2, 3, 4, 5, 6, 1, 2, 3, 4, 5, 6, 1, 2, 3, 4, 5, 6, 1, 2, 3, 4, 5, 6, 1, 2, 3, 4, 5, 6, 1, 2, 3, 4, 5, 6, 1, 2, 3, 4, 5, 6, 1, 2, 3, 4, 5, 6, 1, 2, 3, 4, 5, 6, 1, 2, 3, 4, 5, 6, 1, 2, 3, 4, 5, 6, 1, 2, 3, 4, 5, 6, 1, 2, 3, 4, 5, 6, 1, 2, 3, 4, 5, 6, 1, 2, 3, 4, 5, 6, 1, 2, 3, 4, 5, 6, 1, 2, 3, 4, 5, 6, 1, 2, 3, 4, 5, 6, 1, 2, 3, 4, 5, 6, 1, 2, 3, 4, 5, 6, 1, 2, 3, 4, 5, 6, 1, 2, 3, 4, 5, 6, 1, 2, 3, 4, 5, 6, 1, 2, 3, 4, 5, 6, 1, 2, 3, 4, 5, 6, 1, 2, 3, 4, 5, 6, 1, 2, 3, 4, 5, 6, 1, 2, 3, 4, 5, 6, 1, 2, 3, 4, 5, 6, 1, 2, 3, 4, 5, 6, 1, 2, 3, 4, 5, 6, 1, 2, 3, 4, 5, 6, 1, 2, 3, 4, 5, 6, 1, 2, 3, 4, 5, 6, 1, 2, 3, 4, 5, 6, 1, 2, 3, 4, 5, 6, 1, 2, 3, 4, 5, 6, 1, 2, 3, 4, 5, 6, 1, 2, 3, 4, 5, 6, 1, 2, 3, 4, 5, 6, 1, 2, 3, 4, 5, 6, 1, 2, 3, 4, 5, 6, 1, 2, 3, 4, 5, 6, 1, 2, 3, 4, 5, 6, 1, 2, 3, 4, 5, 6, 1, 2, 3, 4, 5, 6, 1, 2, 3, 4, 5, 6, 1, 2, 3, 4, 5, 6, 1, 2, 3, 4, 5, 6, 1, 2, 3, 4, 5, 6, 1, 2, 3, 4, 5, 6, 1, 2, 3, 4, 5, 6, 1, 2, 3, 4, 5, 6, 1, 2, 3, 4, 5, 6, 1, 2, 3, 4, 5, 6, 1, 2, 3, 4, 5, 6, 1, 2, 3, 4, 5, 6, 1, 2, 3, 4, 5, 6, 1, 2, 3, 4, 5, 6, 1, 2, 3, 4, 5, 6, 1, 2, 3, 4, 5, 6, 1, 2, 3, 4, 5, 6, 1, 2, 3, 4, 5, 6, 1, 2, 3, 4, 5, 6, 1, 2, 3, 4, 5, 6, 1, 2, 3, 4, 5, 6, 1, 2, 3, 4, 5, 6, 1, 2, 3, 4, 5, 6, 1, 2, 3, 4, 5, 6, 1, 2, 3, 4, 5, 6, 1, 2, 3, 4, 5, 6, 1, 2, 3, 4, 5, 6, 1, 2, 3, 4, 5, 6, 1, 2, 3, 4, 5, 6, 1, 2, 3, 4, 5, 6, 1, 2, 3, 4, 5, 6, 1, 2, 3, 4, 5, 6, 1, 2, 3, 4, 5, 6, 1, 2, 3, 4, 5, 6, 1, 2, 3, 4, 5, 6, 1, 2, 3, 4, 5, 6, 1, 2, 3, 4, 5, 6, 1, 2, 3, 4, 5, 6, 1, 2, 3, 4, 5, 6, 1, 2, 3, 4, 5, 6, 1, 2, 3, 4, 5, 6, 1, 2, 3, 4, 5, 6, 1, 2, 3, 4, 5, 6, 1, 2, 3, 4, 5, 6, 1, 2, 3, 4, 5, 6, 1, 2, 3, 4, 5, 6, 1, 2, 3, 4, 5, 6, 1, 2, 3, 4, 5, 6, 1, 2, 3, 4, 5, 6, 1, 2, 3, 4, 5, 6, 1, 2, 3, 4, 5, 6, 1, 2, 3, 4, 5, 6, 1, 2, 3, 4, 5, 6, 1, 2, 3, 4, 5, 6, 1, 2, 3, 4, 5, 6, 1, 2, 3, 4, 5, 6, 1, 2, 3, 4, 5, 6, 1, 2, 3, 4, 5, 6, 1, 2, 3, 4, 5, 6, 1, 2, 3, 4, 5, 6, 1, 2, 3, 4, 5, 6, 1, 2, 3, 4, 5, 6, 1, 2, 3, 4, 5, 6, 1, 2, 3, 4, 5, 6, 1, 2, 3, 4, 5, 6, 1, 2, 3, 4, 5, 6, 1, 2, 3, 4, 5, 6, 1, 2, 3, 4, 5, 6, 1, 2, 3, 4, 5, 6, 1, 2, 3, 4, 5, 6, 1, 2, 3, 4, 5, 6, 1, 2, 3, 4, 5, 6, 1, 2, 3, 4, 5, 6, 1, 2, 3, 4, 5, 6, 1, 2, 3, 4, 5, 6, 1, 2, 3, 4, 5, 6, 1, 2, 3, 4, 5, 6, 1, 2, 3, 4, 5, 6, 1, 2, 3, 4, 5, 6, 1, 2, 3, 4, 5, 6, 1, 2, 3, 4, 5, 6, 1, 2, 3, 4, 5, 6, 1, 2, 3, 4, 5, 6, 1, 2, 3, 4, 5, 6, 1, 2, 3, 4, 5, 6, 1, 2, 3, 4, 5, 6, 1, 2, 3, 4, 5, 6, 1, 2, 3, 4, 5, 6, 1, 2, 3, 4, 5, 6, 1, 2, 3, 4, 5, 6, 1, 2, 3, 4, 5, 6, 1, 2, 3, 4, 5, 6, 1, 2, 3, 4, 5, 6, 1, 2, 3, 4, 5, 6, 1, 2, 3, 4, 5, 6, 1, 2, 3, 4, 5, 6, 1, 2, 3, 4, 5, 6, 1, 2, 3, 4, 5, 6, 1, 2, 3, 4, 5, 6, 1, 2, 3, 4, 5, 6, 1, 2, 3, 4, 5, 6, 1, 2, 3, 4, 5, 6, 1, 2, 3, 4, 5, 6, 1, 2, 3, 4, 5, 6, 1, 2, 3, 4, 5, 6, 1, 2, 3, 4, 5, 6, 1, 2, 3, 4, 5, 6, 1, 2, 3, 4, 5, 6, 1, 2, 3, 4, 5, 6, 1, 2, 3, 4, 5, 6, 1, 2, 3, 4, 5, 6, 1, 2, 3, 4, 5, 6, 1, 2, 3, 4, 5, 6, 1, 2, 3, 4, 5, 6, 1, 2, 3, 4, 5, 6, 1, 2, 3, 4, 5, 6, 1, 2, 3, 4, 5, 6, 1, 2, 3, 4, 5, 6, 1, 2, 3, 4, 5, 6, 1, 2, 3, 4, 5, 6, 1, 2, 3, 4, 5, 6, 1, 2, 3, 4, 5, 6, 1, 2, 3, 4, 5, 6, 1, 2, 3, 4, 5, 6, 1, 2, 3, 4, 5, 6, 1, 2, 3, 4, 5, 6, 1, 2, 3, 4, 5, 6, 1, 2, 3, 4, 5, 6, 1, 2, 3, 4, 5, 6, 1, 2, 3, 4, 5, 6, 1, 2, 3, 4, 5, 6, 1, 2, 3, 4, 5, 6, 1, 2, 3, 4, 5, 6, 1, 2, 3, 4, 5, 6, 1, 2, 3, 4, 5, 6, 1, 2, 3, 4, 5, 6, 1, 2, 3, 4, 5, 6, 1, 2, 3, 4, 5, 6, 1, 2, 3, 4, 5, 6, 1, 2, 3, 4, 5, 6, 1, 2, 3, 4, 5, 6, 1, 2, 3, 4, 5, 6, 1, 2, 3, 4, 5, 6, 1, 2, 3, 4, 5, 6, 1, 2, 3, 4, 5, 6, 1, 2, 3, 4, 5, 6, 1, 2, 3, 4, 5, 6, 1, 2, 3, 4, 5, 6, 1, 2, 3, 4, 5, 6, 1, 2, 3, 4, 5, 6, 1, 2, 3, 4, 5, 6, 1, 2, 3, 4, 5, 6, 1, 2, 3, 4, 5, 6, 1, 2, 3, 4, 5, 6, 1, 2, 3, 4, 5, 6, 1, 2, 3, 4, 5, 6, 1, 2, 3, 4, 5, 6, 1, 2, 3, 4, 5, 6, 1, 2, 3, 4, 5, 6, 1, 2, 3, 4, 5, 6, 1, 2, 3, 4, 5, 6, 1, 2, 3, 4, 5, 6, 1, 2, 3, 4, 5, 6, 1, 2, 3, 4, 5, 6, 1, 2, 3, 4, 5, 6, 1, 2, 3, 4, 5, 6, 1, 2, 3, 4, 5, 6, 1, 2, 3, 4, 5, 6, 1, 2, 3, 4, 5, 6, 1, 2, 3, 4, 5, 6, 1, 2, 3, 4, 5, 6, 1, 2, 3, 4, 5, 6, 1, 2, 3, 4, 5, 6, 1, 2, 3, 4, 5, 6, 1, 2, 3, 4, 5, 6, 1, 2, 3, 4, 5, 6, 1, 2, 3, 4, 5, 6, 1, 2, 3, 4, 5, 6, 1, 2, 3, 4, 5, 6, 1, 2, 3, 4, 5, 6, 1, 2, 3, 4, 5, 6, 1, 2, 3, 4, 5, 6, 1, 2, 3, 4, 5, 6, 1, 2, 3, 4, 5, 6, 1, 2, 3, 4, 5, 6, 1, 2, 3, 4, 5, 6, 1, 2, 3, 4, 5, 6, 1, 2, 3, 4, 5, 6, 1, 2, 3, 4, 5, 6, 1, 2, 3, 4, 5, 6, 1, 2, 3, 4, 5, 6, 1, 2, 3, 4, 5, 6, 1, 2, 3, 4, 5, 6, 1, 2, 3, 4, 5, 6, 1, 2, 3, 4, 5, 6, 1, 2, 3, 4, 5, 6, 1, 2, 3, 4, 5, 6, 1, 2, 3, 4, 5, 6, 1, 2, 3, 4, 5, 6, 1, 2, 3, 4, 5, 6, 1, 2, 3, 4, 5, 6, 1, 2, 3, 4, 5, 6, 1, 2, 3, 4, 5, 6, 1, 2, 3, 4, 5, 6, 1, 2, 3, 4, 5, 6, 1, 2, 3, 4, 5, 6, 1, 2, 3, 4, 5, 6, 1, 2, 3, 4, 5, 6, 1, 2, 3, 4, 5, 6, 1, 2, 3, 4, 5, 6, 1, 2, 3, 4, 5, 6, 1, 2, 3, 4, 5, 6, 1, 2, 3, 4, 5, 6, 1, 2, 3, 4, 5, 6, 1, 2, 3, 4, 5, 6, 1, 2, 3, 4, 5, 6, 1, 2, 3, 4, 5, 6, 1, 2, 3, 4, 5, 6, 1, 2, 3, 4, 5, 6, 1, 2, 3, 4, 5, 6, 1, 2, 3, 4, 5, 6, 1, 2, 3, 4, 5, 6, 1, 2, 3, 4, 5, 6, 1, 2, 3, 4, 5, 6, 1, 2, 3, 4, 5, 6, 1, 2, 3, 4, 5, 6, 1, 2, 3, 4, 5, 6, 1, 2, 3, 4, 5, 6, 1, 2, 3, 4, 5, 6, 1, 2, 3, 4, 5, 6, 1, 2, 3, 4, 5, 6, 1, 2, 3, 4, 5, 6, 1, 2, 3, 4, 5, 6, 1, 2, 3, 4, 5, 6, 1, 2, 3, 4, 5, 6, 1, 2, 3, 4, 5, 6, 1, 2, 3, 4, 5, 6, 1, 2, 3, 4, 5, 6, 1, 2, 3, 4, 5, 6, 1, 2, 3, 4, 5, 6, 1, 2, 3, 4, 5, 6, 1, 2, 3, 4, 5, 6, 1, 2, 3, 4, 5, 6, 1, 2, 3, 4, 5, 6, 1, 2, 3, 4, 5, 6, 1, 2, 3, 4, 5, 6, 1, 2, 3, 4, 5, 6, 1, 2, 3, 4, 5, 6, 1, 2, 3, 4, 5, 6, 1, 2, 3, 4, 5, 6, 1, 2, 3, 4, 5, 6, 1, 2, 3, 4, 5, 6, 1, 2, 3, 4, 5, 6, 1, 2, 3, 4, 5, 6, 1, 2, 3, 4, 5, 6, 1, 2, 3, 4, 5, 6, 1, 2, 3, 4, 5, 6, 1, 2, 3, 4, 5, 6, 1, 2, 3, 4, 5, 6, 1, 2, 3, 4, 5, 6, 1, 2, 3, 4, 5, 6, 1, 2, 3, 4, 5, 6, 1, 2, 3, 4, 5, 6, 1, 2, 3, 4, 5, 6, 1, 2, 3, 4, 5, 6, 1, 2, 3, 4, 5, 6, 1, 2, 3, 4, 5, 6, 1, 2, 3, 4, 5, 6, 1, 2, 3, 4, 5, 6, 1, 2, 3, 4, 5, 6], \"Freq\": [0.007933656198242796, 0.004983189674628631, 0.0036557649000709034, 0.9811888587632579, 0.0013445344386766233, 0.0008935046817645995, 0.9734162332683828, 0.0024151489545658975, 0.0010053338312525431, 0.022934470891545992, 0.00013772556594594207, 9.106022160929527e-05, 0.005078910328701916, 0.025497091350002065, 0.0023234219548267333, 0.9656590141373761, 0.0008565260349446377, 0.0005851152984719497, 0.004521300803435606, 0.9805753692302175, 0.0014498861527912324, 0.010434447544238622, 0.00022624491687247398, 0.0027928056275699667, 0.02229867363665701, 0.9389570049240198, 0.03827660921308543, 0.00025633193188087, 0.00012600561770132894, 8.539988855404974e-05, 0.0022278557971605085, 0.9880331437181709, 0.00829045831850955, 0.0007706653132847484, 0.00042600923982160196, 0.0002517568622870962, 0.9961377589020637, 0.0026502174437984085, 0.0004949886779431096, 0.00041507591552665844, 0.00018150432513839941, 0.00012053667266634161, 0.9931710889428079, 0.0006309692311692017, 0.0012901020093289818, 0.0002562045362382348, 0.0008694117808077447, 0.0037822012855234614, 0.03593822994218288, 0.026287989583038875, 0.02007422899344447, 0.012559360969089772, 0.0061294695763790385, 0.8990090434105499, 0.9791673782083831, 0.0018440430120861436, 0.017169012353140067, 0.0004395588660432621, 0.001274781078644595, 0.00010524001102507243, 0.9959678372618485, 0.0015022670436209203, 0.0010583360234754768, 0.0008122666100426389, 0.00039600267897141556, 0.00026325654452439906, 0.08866310599325368, 0.012987450442710857, 0.002563037448404335, 0.894223253482757, 0.0009376561501867712, 0.0006249934622306868, 0.15352032893964185, 0.7786259171635384, 0.05321358744343746, 0.0004305737219540211, 0.010921642007688985, 0.003287968245557012, 0.6203889834854609, 0.278990653420241, 0.05001955632824415, 0.019841469918227526, 0.030030157952981164, 0.0007291651682772947, 0.02503022348071116, 0.02216044909320704, 0.12180631467550318, 0.008782746207474502, 0.004245094535377872, 0.8179746740008713, 0.0033937510473387653, 0.9892607293691786, 0.00165745072487384, 0.0011775141436178955, 0.0005843318392910808, 0.003926388124943854, 0.023799792237033567, 0.9733836094438143, 0.0011831250637005148, 0.0009040392485955234, 0.0004368772386701954, 0.0002927527887996155, 0.9941863217806866, 0.0015865395513908886, 0.0010739673387701618, 0.0008027745165644785, 0.002091590026633243, 0.0002586110069545875, 0.00304226645832381, 0.9913253382992478, 0.0036974423580600916, 0.0010621265282872812, 0.0005194648059241665, 0.00035325068025926086, 0.9980560482793238, 0.0007660038442533912, 0.0005044929814183649, 0.0003725555439020372, 0.00017998438812760054, 0.00012094797540843018, 0.9966418278786455, 0.001204728300127002, 0.0008638165456830264, 0.0006590885179645142, 0.00041726060455999535, 0.00021321123328695886, 0.000610318725734466, 0.15405163728817112, 0.0008544752995986949, 0.8412265699193487, 0.00010324667507063876, 0.003153822378777484, 0.8112891914828458, 0.16446051108376902, 0.007885482956423657, 0.004325624921480915, 0.011999026589047427, 4.016278049479775e-05, 0.07214306964724344, 0.04530296860646709, 0.034900803437351996, 0.025175060846970514, 0.01236639227274542, 0.8101114309612806, 0.4145389684452242, 0.3273642330410897, 0.001322684461755744, 0.12716864478309023, 0.007559542408623424, 0.12204589676737, 0.017036503501525163, 0.010695983668020525, 0.9592760883276418, 0.0057397662011576195, 0.005383068731951577, 0.0018694504480272363, 0.008390533358504874, 0.023633759274059103, 0.010191805942628957, 0.0024690952612400046, 0.9545897400650232, 0.0007248225365237387, 0.006146236032351196, 0.30621599264448757, 0.0017426440512476854, 0.0009580389639744074, 0.6846304725507738, 0.00030648127319392055, 0.011941613782710124, 0.1498762449388036, 0.005352697746785755, 0.004112231284832231, 0.8273868819501856, 0.0013310941486715897, 0.06054956720722811, 0.5111419325415067, 0.003390858964658992, 0.002416990625036038, 0.42171494343625776, 0.0007862499623611207, 0.0140197484991579, 0.24079550215464227, 0.00593253857000763, 0.004531169390185766, 0.0023961823090957314, 0.7323255527052566, 0.022359030521867183, 0.01406839186557289, 0.010180683652577514, 0.010894999590674588, 0.9399671322369605, 0.0025290281800800377, 0.26675096561847195, 0.057714236404966195, 0.5898957255042561, 0.07510092648333022, 0.004923416306687672, 0.00561472344173828, 0.27776921088188217, 0.6422447371612489, 0.06848870761430274, 0.00044154639890776784, 0.006145707671895744, 0.004910069636775645, 0.037344347330971146, 0.024032317542543633, 0.016559936825498518, 0.012756813247630915, 0.9051785240409983, 0.004127914281574703, 0.7282361965072385, 0.022461784350847405, 0.20736024079744156, 0.03357271514755058, 0.00781285754936676, 0.0005562031424461038, 0.9933031713676984, 0.0025520503407581926, 0.001738101298194211, 0.0013304408647976998, 0.0006452146623920105, 0.0004307528079186916, 0.0234679322726016, 0.014248728852622933, 0.9478531923823128, 0.008001083222878836, 0.0038578358260168474, 0.002570069743208392, 0.7457869922577245, 0.009466192138542526, 0.003629598701485977, 0.0027907496201738714, 0.0013461712478004056, 0.23698059792452833, 0.09267869679927465, 0.6794551077776771, 0.0047520588654589606, 0.0006591550954321758, 0.0019213501642633324, 0.2205335586673577, 0.02219717264485546, 0.013519990150047845, 0.95065569958927, 0.00752505771181809, 0.003644080072039897, 0.0024570031888922644, 0.0015048538543409517, 0.0006203454474228064, 0.9971614130167655, 0.00034137014618481894, 0.00016299294967779093, 0.0002090313091481845, 0.011602422585716142, 0.007168240268201895, 0.9739887629658232, 0.00400194730899901, 0.0019333940539618052, 0.0013056241606420565, 0.9579127283664857, 0.0015171044700819539, 0.00026471220478542176, 0.04023508333469092, 4.2424542686943586e-05, 2.793949084108531e-05, 0.005387161877985443, 0.9888239087847712, 0.0024858767199187866, 0.0018206597409706163, 0.0008918603167168648, 0.0005903996340217645, 0.515633277563261, 0.3648762737046549, 0.04432968189655345, 0.05767634400615346, 0.012841310216158667, 0.004643117583907561, 0.03157170859002757, 0.07948563521191833, 0.0018280659182629633, 0.0011516834381117655, 0.8855628327669244, 0.00039987151706284815, 0.04932044587792429, 0.02525756955509375, 0.009767842830955446, 0.007508763079667243, 0.9056897144520629, 0.00245647506936193, 0.9964318685422879, 0.0014361419483594922, 0.000901857132569999, 0.0006759329528785089, 0.0003368742221354025, 0.00021730111939792174, 0.0018247667360169854, 0.9961508989768564, 0.0008346137821444133, 0.0006716314973427042, 0.00031195400381791184, 0.00020621801515541963, 0.9981758786897813, 0.0004514801563024498, 0.00034463978918225724, 0.0008099407665960066, 0.00015392600767094328, 6.412454500904393e-05, 0.5904406930337638, 0.15123812568754155, 0.02991685889002911, 0.19813748454211047, 0.010364799438273153, 0.019902061083002846, 0.9803564564778098, 0.002297423099698375, 0.003022766651575185, 0.014016617308438657, 0.00019940256315432607, 0.00010728482424746179, 0.9958729621233593, 0.0015154915802225815, 0.0011066333668996325, 0.000831154423867002, 0.000403568788884855, 0.00027033247601178205, 0.0008370000930374639, 0.9925039730043759, 0.006132742200268576, 0.00029096933767412583, 0.0001410274793270806, 9.435219142479399e-05, 0.00100862269603761, 0.9967240872145535, 0.00044911250170600095, 0.0015209295850995787, 0.00017323672260187957, 0.00012396049928401162, 0.782182289799974, 0.08891348212898983, 0.04133716981373388, 0.07543052151277475, 0.008746699076260031, 0.0033898304436143912, 0.0030668626730106538, 0.9933757189657515, 0.0014039911801398172, 0.0011429154159934114, 0.0006661365502852587, 0.00034413700936187076, 0.06643376281846393, 0.0406770758423429, 0.02942729767497457, 0.022675090321398087, 0.010976725299228319, 0.8298076662774841, 0.12199029583298891, 0.0006898537292916548, 0.8730150735006409, 0.0011589216212988661, 0.00017897652035767656, 0.002966829306244754, 0.5013453020977348, 0.07029184657674864, 0.38488795627116923, 0.0295133554994012, 0.0038540163190456866, 0.010107521482235244, 0.025924370599064016, 0.08712570790960945, 0.037331558257107364, 0.8009959950447137, 0.031182186048340135, 0.01744025638819709, 0.9892174438929283, 0.001994447088729885, 0.007686079175121396, 0.00027986527748023157, 0.000729839191837252, 9.229750172843246e-05, 0.014115566656155015, 0.009416890730830425, 0.006418097381274142, 0.966051508119466, 0.0023956366135265495, 0.0016021881748620823, 0.08830060767241067, 0.0009496933684629058, 0.4348541322318228, 0.4755665706337155, 0.0002162407534373392, 0.00011268143100966809, 0.3813837581893347, 0.033824840012850965, 0.4740905695089131, 0.08608440417639604, 0.024533496000476374, 8.291818044020699e-05, 0.038929722254367014, 0.024468907150318363, 0.017761729673695503, 0.013611005182926805, 0.006594805916805092, 0.8986330227885051, 0.020741306337327042, 0.013518183615379042, 0.9524653518810983, 0.00726189619456798, 0.0035371413086872625, 0.0024764992189535997, 0.6118683675264154, 0.03406661728114753, 0.0029699701294906527, 0.3276096475650361, 0.001891234573840997, 0.021594165593173575, 0.02383020087062612, 0.015110278495761442, 0.010802778629933979, 0.9436019414771247, 0.003988478315527535, 0.002665602286950503, 0.9973522931719749, 0.001093562215443117, 0.000590844911153691, 0.0005021713810610634, 0.00031367188921068443, 0.00014739927165792978, 0.9628291786989119, 0.0004384738040793336, 0.036394688131592204, 0.00018073381783850504, 9.453149663542161e-05, 6.239140704892714e-05, 0.036056055484804575, 0.025680431079472623, 0.0485398398551914, 0.012620706100075959, 0.006115837259447864, 0.8709873762428174, 0.6487820135220373, 0.08561558088301925, 0.23542302404386622, 0.017148768411228303, 0.012814584394241485, 0.00021604369476238577, 0.010326902314670029, 0.006718041902856137, 0.12744267904349074, 0.00960991831041784, 0.8447446607907173, 0.0011583465890615435, 0.9986012306759108, 0.0005130286219959117, 0.00037029496473610075, 0.000284635191003361, 0.00013871988500490542, 9.212096809429499e-05, 0.01563554946152391, 0.009641233166066703, 0.007672185639328062, 0.005261877347811386, 0.9599937988589003, 0.0017955987943513493, 0.002627022772170418, 0.9922596671717067, 0.003434814077551094, 0.000919030734897349, 0.00044875536573155676, 0.00031061593192208955, 0.05156874890853191, 0.33471046282942973, 0.04245095160245687, 0.5608200729105254, 0.004049205196657043, 0.006400538816360461, 0.005807583456649248, 0.1024799525895564, 0.07247507110912739, 0.8190298632317871, 0.00011735379007234819, 9.011823753989995e-05, 0.41727412895026844, 0.24689032276668232, 0.2954696421135826, 0.03440872358628732, 0.0028700067799817667, 0.003087181759836538, 0.9961416115849314, 0.001416262672779636, 0.0010251529847129322, 0.0007830246809132294, 0.00038077494339232635, 0.00025326835325390195, 0.4840463152437991, 0.001358568713375584, 0.22824163122077198, 0.28551539509704016, 0.00010813841823850878, 0.0007300199988950555, 0.037108055946555356, 0.05524361536301074, 0.2761414943340666, 0.6311409894546649, 0.0002181417967112851, 0.0001476947847608091, 0.9912243365587458, 0.0051583438438484825, 0.003109782166494288, 0.00026369366102321475, 0.00015839649997189344, 8.546379167521626e-05, 0.05471816080665803, 0.028922299160907817, 0.020786956471818132, 0.016039505139382505, 0.8743319195668442, 0.00520430751862943, 0.530903523309398, 0.034736006338644966, 0.41005840714928715, 0.012103862415210394, 0.00014006018099046197, 0.012058153001304446, 0.005519984926546636, 0.9884593477884586, 0.0025079413778209846, 0.0019264376924860742, 0.000941387649865276, 0.0006446818445493404, 0.01453655432880396, 0.17217443968671559, 0.006256311236288244, 0.00476952499020218, 0.8006954887050641, 0.0015679731398326284, 0.9960357360006059, 0.001446502354482054, 0.0010505634484725271, 0.0008058945766552133, 0.0003996859619023617, 0.00026160001325901104, 0.00121223480136492, 0.8936273105436019, 0.010322206904200729, 0.06730500586280648, 0.016508174055527822, 0.011025038991872621, 0.9933165595252872, 0.0024508391038883695, 0.001774275295807519, 0.0013579816783310546, 0.0006532180805044357, 0.00044680486539811545, 0.5951217062185781, 0.30534791371394837, 0.0644577800432886, 0.029961258171779213, 0.004975435214981147, 0.0001359025812430611, 0.5054456973341308, 0.24545178466435702, 0.19706645099146658, 0.03773698290387942, 0.014263813990798442, 3.527376095366849e-05, 0.03454261591749497, 0.0413316389711926, 0.019850761980069586, 0.012095744845747696, 0.005858420997579005, 0.8863224696944945, 0.21949649703948712, 0.020630185141818948, 0.002202982213244699, 0.757466587732744, 0.00012152766628975014, 8.219860054066288e-05, 0.043865380117383376, 0.02800953136021972, 0.019954675570639915, 0.015374567157129669, 0.887821754225333, 0.0049714802640873365, 0.004459779660366119, 0.9906629288370794, 0.002088425269340838, 0.0015416587755139198, 0.0007485556799579972, 0.0004985067935958323, 0.05142660886548732, 0.03224315277514881, 0.02331846055024889, 0.017951292700118766, 0.8692557583188595, 0.005805682139381262, 0.0021896693351313315, 0.965298529349308, 0.0010520389719270078, 0.030590126947260685, 0.0006209314121805275, 0.0002487663902921986, 0.006335222688440852, 0.986793823249341, 0.0028726193672510376, 0.0022076085521177346, 0.0010780374752445854, 0.0007123762578066153, 0.024969670964114486, 0.011142236549429118, 0.9505312171268114, 0.006201045408114634, 0.005138710666194169, 0.002016834499987697, 0.3122330292295928, 0.0026982539466893773, 0.6675838190537923, 0.000609088516448055, 0.016681621386843457, 0.00019420065358207798, 0.10878965108938901, 0.03251677262666728, 0.7221023064857229, 0.0012813671915319247, 0.13489564643757515, 0.0004142766107960358, 0.4448412255580251, 0.025599402899901504, 0.4803911427798325, 0.0467892637681507, 0.0022693784336956504, 0.00010960391155382853, 0.023657626507261966, 0.019927443154847513, 0.9414502841648962, 0.00826121307360003, 0.003992872320894343, 0.0027106661666384427, 0.04467372142697323, 0.02805466955641261, 0.14857752997076118, 0.015614427513111933, 0.007713698191367925, 0.7553652981231819, 0.0034980866849717513, 0.9893082680784678, 0.004943982149598336, 0.001223110174791061, 0.0005964082121659199, 0.0004300029579072805, 0.9050358367656137, 0.03843231241080206, 0.05560963942223506, 0.00017322070879244395, 8.124748415496985e-05, 0.0006677309737383033, 0.9805109606981159, 0.00930838795097741, 0.0032515634084276917, 0.0067905988044930895, 8.415033547891514e-05, 5.4322790824012544e-05, 0.505112624263689, 0.11774915875029346, 0.043240237420903715, 0.0007946222096098117, 0.33284199239875195, 0.00026151087817975614, 0.06504012604306174, 0.036971296504608765, 0.027157665058045947, 0.020595153566865393, 0.010001536961977496, 0.8402354664186085, 0.1299820080469581, 0.00497583724439412, 0.8600069849395013, 0.0027961373419920967, 0.0013420505742042204, 0.0008967662984291788, 0.40337456481149164, 0.4737843857369322, 0.06392700841859696, 0.033863157814440194, 0.02500002758695114, 5.0845873004219986e-05, 0.026386620085250584, 0.06176420190235779, 0.01352474525165913, 0.009091017644017783, 0.8657478503370738, 0.023483435258949463, 0.04744048608802691, 0.03436072688908148, 0.022705778060391545, 0.016670281331989275, 0.008181261146007044, 0.8706417752275813, 0.9859266496788271, 0.0004691963961829135, 0.0034150487094197737, 0.009599723966085626, 0.0001213460591358324, 0.0004679833538820037, 0.017549619729649454, 0.010872761148466862, 0.9606195166675282, 0.006081304414461295, 0.0029237240331361517, 0.001953999709312465, 0.01767892332853672, 0.007506139060006057, 0.9662455940214634, 0.005192411047542254, 0.0020255003228092567, 0.001351291911597375, 0.0011876727588937153, 0.9975283708101113, 0.0005314639147341619, 0.0004109286004749817, 0.00020451713682509334, 0.00013702297366017402, 0.0007739621708025857, 0.9638898678792239, 0.0002888821623619299, 0.03409954318442075, 0.0008822543059257655, 6.549095790782774e-05, 0.02120100479122303, 0.013363127296349153, 0.00983346170128362, 0.9496027715837206, 0.0035961424552406166, 0.0024033941755607392, 0.010506512652242169, 0.007475667424154668, 0.005896997833243802, 0.972911337539156, 0.001766531898436951, 0.0014427825218003313, 0.005707733716783684, 0.9873288462469029, 0.00260508749951819, 0.0020223795579089755, 0.0016920416050953012, 0.0006439196326585392, 0.015344206195477684, 0.3471523611201722, 0.005196513593019495, 0.0038442293683221143, 0.6272171625782288, 0.0012449912334780435, 0.0024987267603216777, 0.393374007106394, 0.0006553635019704204, 0.3724494345948187, 0.23085731629522077, 0.0001652162670600879, 0.01442630124432868, 0.009078500885344986, 0.006719253786543219, 0.9656837587695847, 0.0024417079061550286, 0.0016518201725606184, 0.23493468921271085, 0.15551014658080403, 0.006254292641216382, 0.004670663385987914, 0.5971132670636118, 0.0015170430200795507, 0.2268897251543517, 0.10391599701313795, 0.6585725586830223, 0.005807399759041363, 0.0046575492807330665, 0.00015675104021782858, 0.010564159437659478, 0.009011350707001233, 0.00499492079267135, 0.9724453606845924, 0.0017925295082221865, 0.0011916462926925193, 0.856363309111902, 0.08512663287605463, 0.016687906234349348, 0.0005590354675536391, 0.025598454618374008, 0.0156646640187661, 0.02288652698389906, 0.014292664043425976, 0.010394416936407256, 0.007920529349260762, 0.003865534543882898, 0.940640211806297, 0.003439923291001252, 0.992902588667669, 0.001531297270831477, 0.0011773625006076865, 0.000568715699163014, 0.0003799504883769923, 0.0021088805214306452, 0.9955908274802174, 0.000962248069549954, 0.0007369034702365291, 0.00036065280835530694, 0.0002405620173874885, 0.02114961902249989, 0.06236419757767072, 0.009441749884003002, 0.007207897387787781, 0.8974874712294021, 0.0023492682085196745, 0.9970238238398936, 0.0010941839718897233, 0.000786932236227365, 0.0006053086480315257, 0.00029516415897355675, 0.00019453766585481532, 0.07498179218011751, 0.04703656517601309, 0.03408589977610422, 0.026233744687987434, 0.012654188148298048, 0.8050031193169158, 0.0034750435186973786, 0.00191825189749193, 0.9926731668488619, 0.0010647581756059413, 0.0005167909987698144, 0.00035174064430110153, 0.4558452095757319, 0.03011529096457331, 0.474638437315125, 0.03597194801577541, 0.0033545868719342463, 7.448725806039564e-05, 0.2569636351928438, 0.002179420121655954, 0.7023989733681368, 0.037562670816299194, 0.0005305451376837495, 0.00036464421737514156, 0.014159587594027377, 0.002259178863524346, 0.9812780207095705, 0.0012811486008036386, 0.0006163549729626646, 0.00040580828642494687, 0.02256528841755499, 0.16930512201086917, 0.22303737504550708, 0.005700614567438323, 0.00267337857397923, 0.5767173914759254, 0.62978738754166, 0.15622394785572574, 0.13349896425205834, 0.05918220394411326, 0.017226297024930188, 0.004081204575387888, 0.9909216246669038, 0.007485585688472315, 0.0011831886659686172, 0.00022733008163638692, 0.00011090997595722186, 7.137107214165636e-05, 0.847450656285156, 0.0008026881062336423, 0.14802095307582994, 0.0036275503340324443, 6.284187930303168e-05, 3.532717262089666e-05, 0.9944062516574287, 0.0008628777566670929, 0.00346471718256061, 0.0006291911440331975, 0.0005297198839865115, 0.0001072362529961994, 0.8769478410720262, 0.01139512640061408, 0.08435158379105244, 0.025412617148236047, 0.0018511196829783172, 4.1716699012742856e-05, 0.09540890953604798, 0.002030518639776401, 0.9000491113947235, 0.0015921443427255838, 0.000549377278698718, 0.0003699451384867871, 0.9966312435610424, 0.001232431715974953, 0.000896250171583152, 0.0006840604285327947, 0.0003346608902244059, 0.0002213136680547277, 0.07387075520378308, 0.04677223725399038, 0.03724381962572229, 0.025767113530379367, 0.012532953601410839, 0.8038132281471427, 0.01654304675112471, 0.011423125804226457, 0.08116111444950705, 0.005787823406871351, 0.00280519033188701, 0.8822782153682539, 0.04432397969152173, 0.029140397405732113, 0.027165275541764764, 0.015517669204593292, 0.007520964716108426, 0.8763313695848539, 0.016080332049508803, 0.010790838236916962, 0.480197621991958, 0.005616459596910792, 0.002723102612005491, 0.4845923129924343, 0.01193114138752627, 0.2693561791960305, 0.12699189414933582, 0.004152788748319874, 0.0025446814934655757, 0.585022418227101, 0.05005927921067881, 0.028029441576791016, 0.034771955797827526, 0.015574295975162704, 0.049742804796167155, 0.8218250507823759, 0.45308934475703566, 0.03623894985458552, 0.48463917301545817, 0.012530570381838914, 0.012754996470697654, 0.0007469287414104256, 0.03200031954226105, 0.005910161876852004, 0.9244048908718161, 0.0032769102757979735, 0.033342308425418084, 0.0010652494704606415, 0.7524001369225949, 0.10783097338003697, 0.10311497064994149, 0.02366622956566545, 0.012956239565009233, 3.1448057710741846e-05, 0.4950441559843741, 0.18900790706103943, 0.2803220569352451, 0.014987861624917713, 0.00340261378338021, 0.01723543009794586, 0.007113819582212437, 0.010099542202562836, 0.06678229278045118, 0.9140344848859702, 0.001183337636596945, 0.0007866624627606678, 0.994075164594086, 0.0023632425282858202, 0.0014889071969850956, 0.0011481506147415542, 0.0005568032812948587, 0.00036768923307378687, 0.47400938157489536, 0.11328357816352481, 0.3862370117141178, 0.008717669829267393, 7.665693822903151e-05, 0.017675670196876526, 0.0008402057225931469, 0.50307839787623, 0.0009299085547963616, 0.49481077912313587, 0.00025197372742265955, 8.87303182763859e-05, 0.002022436988085356, 0.9608878368302375, 0.0010973314135130652, 0.03543246932386081, 0.00033590566795478356, 0.00022397667683062778, 0.07256693776766196, 0.04580574810168661, 0.03301319117264824, 0.025384000522897056, 0.012337865910371254, 0.8108889674444993, 0.004283851796473212, 0.9910496457423648, 0.0019585823974498226, 0.0014955885569798277, 0.000727708894976755, 0.00048488175840100134, 0.006219041605343642, 0.9869885285197154, 0.0028550595049762102, 0.002174623628724666, 0.0010545445390887996, 0.000708147629054304, 0.003672348018351417, 0.9896257690296634, 0.004350563557521174, 0.001279021263233238, 0.0006584232568982659, 0.00041387861372162204, 0.0027506898495786958, 0.9942537915458292, 0.0012516086055291236, 0.0009638843932734211, 0.0004677796058780102, 0.00031240521837320366, 0.011437951583847446, 0.007106640944836542, 0.971853211015763, 0.0039960404011348824, 0.004325190087000996, 0.00128123555407388, 0.016169112901049002, 0.010187183299674031, 0.007347031623289266, 0.961729455751051, 0.0027379879470184076, 0.0018292172496071806, 0.02648455054475286, 0.015278816085984729, 0.9427506988055264, 0.00854014346217187, 0.004185856630918745, 0.0027593260646084383, 0.0407280967278908, 0.02525931048031547, 0.02946354795677273, 0.014057692149259511, 0.006811009935953213, 0.883678920958342, 0.022058105152546807, 0.09371076271653146, 0.008726371023149104, 0.006621420353205732, 0.8667336673012089, 0.002149397381436491, 0.020982508573209963, 0.012234425551762748, 0.9543730840256536, 0.006896512870893082, 0.0033082167943128582, 0.002204305983033116, 0.05258742882918399, 0.03269032858543537, 0.023652451028979567, 0.018179027259505463, 0.8670040947042436, 0.005886512355849505, 0.026446923183079184, 0.8512571749046899, 0.0007724542181295164, 0.04211443926045838, 0.07938046317993142, 2.8539900078074792e-05, 0.01329778780346021, 0.08246854452843398, 0.8592681736293291, 0.04303098412765781, 0.001153776848998755, 0.0007807359243224791, 0.41620392502339754, 0.42743599309195895, 0.02637384464645742, 0.1282687288644198, 0.0016378651721879831, 7.962579970732746e-05, 0.01488029429199528, 0.00946545592783468, 0.006787110303797535, 0.9629869134996265, 0.002518217412045612, 0.003362692451822187, 0.0014425208949540678, 0.9318318085085117, 0.0006389767338759731, 0.06569703187019205, 0.00023349446584990395, 0.00015615766889820554, 0.025035789367825165, 0.01409381945821798, 0.9468529969804156, 0.007722495486373273, 0.003785667000960799, 0.0025100762286580708, 0.03767291723719019, 0.024303062502375877, 0.017095025981218367, 0.013415145570636852, 0.9032555196850693, 0.00425733856731892, 0.2986931624311979, 0.10836854835995034, 0.09965503919132777, 0.48770836669423, 0.005140642071502602, 0.00043425681010856844, 0.020384989020349485, 0.013314746118946945, 0.009273032147065645, 0.0071143476916382875, 0.9475166850982193, 0.002397585402537649, 0.08486014743040556, 0.004291888300707822, 0.90704415547187, 0.002093673667682559, 0.0010200772010743756, 0.0006896849351790025, 0.8261811723516467, 0.003400437581508102, 0.0035712514156326304, 0.0018121794947574918, 0.0008798465310450684, 0.16415520029974634, 0.49249113938822553, 0.3249548570644969, 0.11981838228950036, 0.009102178460187627, 0.0005782168942787205, 0.053055230952343775, 0.006248919874938101, 0.006384171481929665, 0.0028521090239368575, 0.9827729131522254, 0.0010439502452217703, 0.0006980608896367872, 0.007901756661824107, 0.1916254872832096, 0.002867560865010707, 0.002201568539406308, 0.7946929948387663, 0.0007106923181294547, 0.10254360741073096, 0.3642403868691925, 0.0013004327416755628, 0.0010342051180005235, 0.5305582039929768, 0.0003231783782240813, 0.011192911659700327, 0.007113927151335614, 0.005100080398694928, 0.9734195532010085, 0.0019045159302788258, 0.0012687774446931935, 0.00607976143634311, 0.004325057288909469, 0.0027569228084210196, 0.9850856508287291, 0.0010274110426296847, 0.0007251024629220163, 0.995556491391075, 0.0017107593274119795, 0.001148528066126066, 0.0008743312792549531, 0.00042505766302674994, 0.0002850262814705206, 0.9958072443763477, 0.0015088578357018653, 0.001155507745941085, 0.0008466663147123433, 0.0004084492329596057, 0.0002733489961292386, 0.005046049803838974, 0.005607217122775264, 0.0022455604890626872, 0.9857024270913801, 0.0008359580918405083, 0.0005626526744655021, 0.00792711752455801, 0.004919061638181669, 0.9822027869279486, 0.002735324229907206, 0.0013259751519181652, 0.0008902639563500292, 0.6227775027322845, 0.24337523788133678, 0.0025675320649582735, 0.00067293256332974, 0.0003316183969890811, 0.13027512722761309, 0.053204692356483875, 0.03323939746944943, 0.02409593573381761, 0.01850667229040631, 0.009098875018704324, 0.861858053443033, 0.004273424162265587, 0.908701733947832, 0.0014585267913903022, 0.04016660922242614, 0.0434518369811438, 0.0019478758584755603, 0.02033278974921811, 0.012952641084414622, 0.9538334619680588, 0.007172274274804906, 0.0034220257768772556, 0.0022866182899844113, 0.9465623128277215, 0.003822153983120309, 0.00027414579232487536, 0.04693163910646602, 0.002335405085908054, 7.435438207748689e-05, 0.9965404772362588, 0.0012398365894315, 0.0009077171575078809, 0.0006636691907221547, 0.00034795634480093744, 0.00030033167154396565, 0.034377725903831174, 0.0215374071148584, 0.015952874478784535, 0.01192872596161366, 0.911728334401021, 0.004477891793851875, 0.5067475723597479, 0.17362742674848475, 0.043609358478181974, 0.265904615740607, 0.007994631786490253, 0.0021163968733000824, 0.004894022259695928, 0.057148126451694634, 0.0022251440793542936, 0.9262307885736644, 0.00894059477745317, 0.0005611412006517638, 0.0010965387284851854, 0.9977098796676032, 0.0004975680580385581, 0.0003859333579618872, 0.00018621087750744352, 0.00012383449691231186, 0.05245228666554304, 0.03347015675498595, 0.02410875979809675, 0.018368578893788, 0.008896489743151798, 0.8627064943571598, 0.012608370150599147, 0.008124584018257419, 0.0057330795245676995, 0.9699665787016581, 0.0021363296731499457, 0.0014315611211829532, 0.050921244244358295, 0.034041192041333074, 0.022537310715239813, 0.017205522096510373, 0.8697236081882285, 0.005574411630236551, 0.015335538066711396, 0.02961045016455315, 0.005431604053228787, 0.004146861964423029, 0.9441234150199215, 0.001351834175665614, 0.012432466589642746, 0.9862092606753258, 0.0005626830080600928, 0.0004365042567473164, 0.00021814079418132337, 0.0001409490874958602, 0.42961022883480343, 0.23541224352797552, 0.33213986659950334, 0.0006484371488419559, 0.0019273913660425971, 0.00026182586409320387, 0.0036663309040092253, 0.0023163219118650037, 0.0016682822319424664, 0.9913110724761023, 0.0006219589561057367, 0.0004161864656528437, 0.0036342073025814542, 0.5488635923698507, 0.020448385906576737, 0.35118599286760094, 0.0757005773449484, 0.0001672860014919826, 0.0573999171531512, 0.05946349360385765, 0.05698858449379766, 0.02006888588408984, 0.009726807591772099, 0.7963503982393741, 0.977716902223821, 0.005046516616967459, 0.0003063764091927735, 0.006624528307275356, 0.00010404972489885902, 0.010201631198321622, 0.000726678600644646, 0.7296267730192135, 0.0004367178684780257, 0.2689136430334081, 0.00011824712207668204, 0.00017792209456512158, 0.018321032021999643, 0.011559435805537031, 0.00835314475418274, 0.9565825217722345, 0.0031068882974370025, 0.0020764130818277868, 0.0031541522930339364, 0.002201114097177977, 0.0014336365932485818, 0.9923165371244267, 0.0005344830972976779, 0.00035992702718271036, 0.0011486450691278072, 0.9976029737045116, 0.0005220739945283622, 0.00040050357263464193, 0.00019336073871420822, 0.00013247267631058521, 0.006377668427433382, 0.9867080145600945, 0.0028848811501173033, 0.002232298504776407, 0.0010764367918174292, 0.000720552049010106, 0.6924100466251016, 0.14424203527789833, 0.1032876283855196, 0.04218155075645512, 0.012921016682905184, 0.00495772328148755, 0.997109417002017, 0.0010264223622460037, 0.0009060619048407861, 0.0005281881611168637, 0.0002576948254701454, 0.00017228065471727228, 0.0033036474465430636, 0.993108195862081, 0.0015065737519061974, 0.0011517375446849056, 0.0005585019279400759, 0.00037141364960537905, 0.00030638357619499034, 0.9839276573973729, 0.00011406586360631972, 0.012864067826261741, 0.002760714452433532, 2.709099720070513e-05, 0.09091010907504438, 0.7699409794802281, 0.03381293496167595, 0.06895106289577976, 0.030516481576693545, 0.0058684244561527195, 0.7439710546282775, 0.09353917499598809, 0.0006551276694398042, 0.049558837328819466, 0.11204086624542683, 0.00023498584841345177, 0.4684961236903654, 0.15810691672203786, 0.3199154989830634, 0.05062167903023509, 0.0027960868159917, 6.369725685135852e-05, 0.4537871782409796, 0.2254327342725734, 0.2787167577689102, 0.032806491227276954, 0.009213636760730125, 4.320637896600297e-05, 0.01341299259884629, 0.008451568453557552, 0.006105123809690153, 0.9682339736680899, 0.002275266729816958, 0.0015214279128281899, 0.11341721902923345, 0.002049289249368133, 0.8824452118628984, 0.0011383215936475015, 0.000583127932942125, 0.0003668313111089682, 0.001440427591721345, 0.8176350829502276, 0.16115062148494483, 0.016535956829154402, 0.0030988804540318196, 0.00013899567501879823, 0.010344029833952075, 0.006512976989714714, 0.004707559805017934, 0.9755079541144598, 0.0017548854666731312, 0.0011728349368451782, 0.0069162522109152335, 0.003946209970191875, 0.003043466903623148, 0.9845419439100793, 0.0008243454185322983, 0.0007275184726365599, 0.0271544184188138, 0.016790087392732765, 0.9391382270028393, 0.009354316174767261, 0.004531374444570399, 0.003033266291904039, 0.9959964855328314, 0.0022398398116741684, 0.0009544570483653808, 0.00044762096933534894, 0.00021671975815646402, 0.00014498272717602639, 0.9979921111165024, 0.0015688925957638906, 0.00019717817828370743, 0.00013317069245811025, 6.551592815775162e-05, 4.313694788668457e-05, 0.021063554744724735, 0.04371853754439039, 0.7854104925102738, 0.0008286253865296673, 0.14870919230524376, 0.00026970217618649587, 0.9972853379762122, 0.0007254282969783503, 0.00019335905201557738, 0.0014788427725379027, 0.00029425905372305476, 2.2770147121707666e-05, 0.8987102862679284, 0.06324968521805441, 0.00016258019753681813, 0.01874790224768726, 0.013452457054581531, 0.005677098748746994, 0.02081547183600553, 0.013196826826018745, 0.9521620445279175, 0.007291471597002597, 0.0035139923058683524, 0.003019485925938051, 0.04440769350742824, 0.028152812026991082, 0.02020211299644447, 0.015553270451133283, 0.8866488877116612, 0.00503446082095912, 0.05514864583770115, 0.03500540590289105, 0.025793456981077618, 0.019308510989187292, 0.00935495029496794, 0.8553909812369671, 0.015249071836494033, 0.009570689193896543, 0.9654819157087596, 0.005392170141064304, 0.0025823339481279373, 0.001724613791289706, 0.9447154626772386, 0.020062446674771146, 0.010879754892997936, 0.010152138647332224, 0.0051419902497892985, 0.00904820761472631, 0.5483819380066828, 0.28577923727021065, 0.057670023259942305, 0.031968834938999595, 0.07612714569386171, 7.283415152784127e-05, 0.05982565132851872, 0.03848073033242697, 0.045387713047451594, 0.020940961693698662, 0.010163904590568864, 0.8252095056403878, 0.006189832781427164, 0.0038638890516828825, 0.9853933019729215, 0.002153049564318562, 0.0017038202797936184, 0.0006960098454317383, 0.14315652625448205, 0.05249574845135202, 0.8015255096148703, 0.0015646772952540296, 0.0007522589377999128, 0.0005052326482463675, 0.07485154986212102, 0.00644043169815796, 0.026782869932188903, 0.8910888369897529, 0.0004676231980433443, 0.00036862637207459373, 0.029899435586214357, 0.018634118255531473, 0.013502338414544757, 0.010350901541024608, 0.005049785442693769, 0.9225635373669102, 0.020229738828543967, 0.012458783856599306, 0.009007541091962838, 0.00691916395478378, 0.946569744074568, 0.004815299708201797, 0.03254212315391215, 0.110988635260564, 0.8513977485977472, 0.0027581202515859437, 0.0014186242970706607, 0.0008945767110452263, 0.00782735102546178, 0.079503729396635, 0.003547739029143008, 0.0028513621344020625, 0.9053913137911028, 0.0008785277927617166, 0.07320673991350858, 0.04664005938218763, 0.033313081336416576, 0.025392824246346354, 0.01243240355350417, 0.8090138968040711, 0.025606579926828937, 0.013328494448405547, 0.9473836882592698, 0.007711476990280626, 0.003577240233123252, 0.0023907613360368693, 0.013895768542224091, 0.6960018921518973, 0.0019224181495943193, 0.0013996910601709045, 0.2863269389006048, 0.0004534615557950944, 0.6916314541761416, 0.020836490470074572, 0.032505139049341894, 0.2169577830980417, 0.0001359222426434514, 0.037933215414826714, 0.0032911539944380404, 0.9846269471979628, 0.0100064259461656, 0.0011453839292517689, 0.0005580935473395202, 0.00037186508898373827, 0.03323490238281353, 0.021081141656633145, 0.01515880049883893, 0.011589443370067332, 0.005617250855726028, 0.9133187270821765, 0.05440604260151364, 0.03505417329055193, 0.06352995592994234, 0.01903736457863526, 0.009349963604788337, 0.8186230573361248, 0.2209756576896939, 0.056344854843120476, 0.7206316985755199, 0.0011521944533126143, 0.0005371460619252573, 0.0003587307268888878, 0.9852739348150391, 0.013595180499734936, 0.0004712570051967409, 0.0003650626194001652, 0.0001767835152669736, 0.00011775211298098947, 0.0383119170932116, 0.023957565880503517, 0.01737342204472404, 0.013319700038514166, 0.006453378609772709, 0.90058469976217, 0.011903382346227055, 0.006820073699880308, 0.006200533433368705, 0.9720631675789249, 0.00180667177097638, 0.0012063718854123432, 0.009166024777365452, 0.005303100245484683, 0.980282596521367, 0.0028988152184078785, 0.0014097354091930205, 0.0009401562870512038, 0.9577233504124911, 0.030065021804715566, 0.010036203542772194, 0.0019571236983489887, 0.00016187238213029418, 5.639032528317816e-05, 0.013367319394718167, 0.4179652372320112, 0.15100465375767458, 0.004685916184908118, 0.002265797208448711, 0.41071131037630004, 0.004418261632529067, 0.990729743412461, 0.0020155711554733, 0.00157451551111716, 0.0007620166192851864, 0.0004997744982131924, 0.02029691364514335, 0.011942459825738017, 0.9556453009978776, 0.006709903348580652, 0.003232984665137938, 0.002173646792218139, 0.0018792030063845202, 0.9748933871123431, 0.02201263413514744, 0.0006566488343030114, 0.00032787295696979165, 0.0002302446926741394, 0.3034375481086455, 0.1741111983223945, 0.42402834085221947, 0.09080175330566606, 0.0033500795627133297, 0.004271030609742361, 0.8346419886818571, 0.04284772706842448, 0.003944726597522535, 0.07834655487012945, 0.005582083046718672, 0.03463693622798918, 0.5167402276836611, 0.30319454791592115, 0.0006932868921959981, 0.004945690791099361, 0.1742526597860259, 0.00017356750607768831, 0.004386765217113113, 0.005191320195957148, 0.0020168945053094783, 0.001624844409686325, 0.9862865882195321, 0.0004935373110118889, 0.03745596638181885, 0.023657706619732637, 0.017032826462408404, 0.013112071152945987, 0.904495903619195, 0.004245792019055156, 0.04879021965514416, 0.03056567207797645, 0.022279655912666115, 0.01900978531843474, 0.8738494763757603, 0.005508384155156799, 0.0020155296377300297, 0.11754896563952105, 0.000906611031555155, 0.8777239294453485, 0.0004048547082383966, 0.001400102569407875, 0.037156035208743166, 0.09608566608118382, 0.10281887718908979, 0.7636500652640974, 0.00014818137955923224, 0.00014120274463327322, 0.8022639634351555, 0.02909064793465941, 0.13080190425885319, 0.02049835080382956, 0.01731596984631579, 2.9156598635902117e-05, 0.9639219152670223, 0.008029118086355173, 0.00038734223083090885, 0.008287482551556787, 0.0009128496098776853, 0.018461295595487745, 0.9858906522082591, 0.001120656388595797, 0.0007403819705889914, 0.011998179172625696, 0.00015080392317522732, 9.930733209094927e-05, 0.9958905182825502, 0.001504637644639866, 0.0010915519658450212, 0.000835223322029368, 0.0004070510358350593, 0.0002711278872646512, 0.934496322558924, 0.04452350111279114, 0.008409746906133204, 0.00018024337916133247, 0.012364015981804888, 2.6165793484612544e-05, 0.02639099733683836, 0.17597577664121106, 0.2409726088208981, 0.009184420806070601, 0.00444692726786362, 0.5430288801589243, 0.022632676546799024, 0.10318024965968509, 0.008747676976585444, 0.0067186601269516345, 0.8565389362466119, 0.0021805568766018993, 0.601379894624404, 0.1302008944186936, 0.24371611676117266, 0.016312790750589043, 0.006958557274283484, 0.001431728104321006, 0.9960729389858943, 0.001435396381709924, 0.0010376822675277637, 0.0007976255439122884, 0.0003863155397770777, 0.0002701324801782836, 0.19334328761003827, 0.7357320610765732, 0.057695176616994845, 0.00040784875949996356, 0.00949508216113804, 0.0033265759464163693, 0.430695907823199, 0.4176053496545887, 0.034641935979500604, 0.11255046022382886, 0.00449452198493547, 1.181918897215809e-05, 0.42431790954325327, 0.49930741139431606, 0.03150841823963493, 0.03302519697481566, 0.011795261849333771, 4.579004325294289e-05, 0.4703667783202629, 0.29999644197013015, 0.014804716164054748, 0.20547743334366134, 0.0076541022307707075, 0.0017005190672341837, 0.04401561467129719, 0.0090334030737665, 0.9378797389458182, 0.005011268703065956, 0.0024305430016937192, 0.0016287054844446192, 0.4276244093890395, 0.11762083395079731, 0.1824323216159155, 0.0007371242748190607, 0.0003643940255059955, 0.2712210624657495, 0.6150732027042258, 0.15349969870059998, 0.06559205287519371, 0.15209076601583252, 0.007430889083958563, 0.006313386962468238, 0.9809136119409585, 0.002345483227135305, 0.004587739984108837, 0.011921216139051706, 0.0001391823064320361, 9.272306690347648e-05, 0.9729403977368614, 0.007865250997791213, 0.0060347408460150725, 0.012810553027323673, 0.0002804976202189748, 6.855251176864403e-05, 0.033122641460593225, 0.03884625476553336, 0.004952424860777932, 0.003799227601502407, 0.9180512768079994, 0.0012281648595110731, 0.042006010505577604, 0.027733938686916967, 0.02179326669672163, 0.014473999821684486, 0.007072465982452443, 0.8869201409852143, 0.0008376052484434035, 0.26004627664427993, 0.0003952788337997043, 0.7384710484357221, 0.00015499481680781896, 9.478776540178141e-05, 0.2697770327454029, 0.4303124390528842, 0.012714770872146211, 0.28699490659372345, 9.883291958607175e-05, 0.00010203375845902976, 0.8602055134068342, 0.0007521904922327302, 0.1308442548984963, 0.007657900887161432, 0.00046529945966174776, 7.480492080393214e-05, 0.9982115805357796, 0.0010947519344201339, 0.00038621298769086316, 0.00016891036579923005, 8.380474934998595e-05, 5.475205079988734e-05, 0.0021975554523661176, 0.07499943949942815, 0.002522334837730175, 0.9196570938394446, 0.0003754233964475577, 0.00024808988286618565, 0.01569967449143249, 0.011479542339624456, 0.007035728271642853, 0.9614016518577196, 0.0026310585389916247, 0.00175310701801036, 0.02381675441424063, 0.005604125187042973, 0.8963774907754475, 0.003021354448666646, 0.0014733509511171256, 0.06970681523124866, 0.0010497655829300233, 0.9239274253985295, 0.00046123880165113473, 0.07424089424238695, 0.00020738334039351982, 0.00011329831016866587, 0.08206442660995195, 0.25939951593394855, 0.05059546500953242, 0.5935747535401639, 0.012713152355267265, 0.0016526803400766087, 0.010478631770053167, 0.06602046359535223, 0.889840951181295, 0.0036668167869138065, 0.028837826693141236, 0.0011551054718756371, 0.1049714715720016, 0.040277411737221436, 0.018079658745361157, 0.8359308181505616, 0.00023070759578500716, 0.0005099469609318587, 0.006557638444009478, 0.015802561650057174, 0.0030029014789085024, 0.9727761480806212, 0.0011163114416463337, 0.0007442076277642224, 0.00206132300267188, 0.9211821339276176, 0.0009565351076437985, 0.05009164224441282, 0.02548335201164633, 0.00022494762179259056, 0.9940206236285019, 0.002776476636785683, 0.0013098101500395483, 0.0010140190384916546, 0.0005361107220842092, 0.000342899217022342, 0.02091841429218123, 0.013361539714330397, 0.9408874483748976, 0.0075417909958591135, 0.00354589873321976, 0.013744914089953235, 0.29007360292665035, 0.6037676976086475, 0.02923994271676583, 0.04605742056449323, 0.016756258614933784, 0.014105060550850734, 0.8020558810014426, 0.12991572885214622, 0.02141848617554867, 0.018245080969873383, 0.009395006512623056, 0.018969801216549186, 0.7225402457835065, 0.001093331099200999, 0.0005048594642032126, 0.23403741249198248, 0.00031214360712791405, 0.04151197703736552, 0.005529053932615996, 0.988450459152487, 0.002517387687808103, 0.0019361187711475266, 0.0009385626544244163, 0.0006282637086612304, 0.09362626808645806, 0.10484210277134916, 0.7892630594713971, 0.0019356263635707002, 0.0008844401553378218, 0.009448445841593763, 0.0027524236876361506, 0.028464125222672065, 0.0012640049090823216, 0.9661457627532751, 0.0010576435206236512, 0.0003160012272705804, 0.012290790054616599, 0.007722602200120656, 0.005491660371543802, 0.971100413246205, 0.002034966063408514, 0.001360259831297589, 0.0016228883835629165, 0.007225028061749688, 0.002407795870297413, 0.9882594154746753, 0.0003016499635520084, 0.00018324801048792832, 0.008649022170060557, 0.05629165981852036, 0.00355634892958016, 0.002705036387887914, 0.9279292884436683, 0.0008678965522446919, 0.016949456401224125, 0.012170620145019658, 0.007706154150863672, 0.005946497229527384, 0.9553089647225171, 0.0019188834176985037, 0.6670709998546592, 0.014570220757638632, 0.0003110381476996109, 0.2907021318360352, 0.0005843762270074412, 0.026761209829281162, 0.03590500692119342, 0.022444395886236965, 0.01624356115778964, 0.012642729328323353, 0.9087160794358367, 0.0040463621275532696, 0.1712471767068857, 0.0030160663136631397, 0.8214163335263237, 0.0029569616779398875, 0.0008162206035733055, 0.0005475107475046652, 0.9942746279126315, 0.002314125278590201, 0.0014228856744819194, 0.001110503953946479, 0.0005258612236970556, 0.0003521292154422796, 0.0229417291385769, 0.008992655121968816, 0.9590016362037036, 0.00502183880363416, 0.0024231189976397258, 0.0016182819593473124, 0.04971297551085906, 0.7920341256063835, 0.04157210019737516, 0.016668808803201682, 0.09998426866433015, 2.7725034724683154e-05, 0.473786808581629, 0.06057506976523705, 0.4561094399201191, 0.007830647826616494, 0.001606880919638478, 9.11543451786909e-05, 0.6819210822493385, 0.22357111074924998, 0.0361656444812112, 0.04302816738720217, 0.011320380645781473, 0.00399361455890963, 0.612980050957413, 0.25591002441542327, 0.017592825651588286, 0.05974175403142389, 0.004363360078283098, 0.0494120215387482, 0.9821798292345384, 0.0006186836637431364, 0.016288673905789773, 0.0002737837050092011, 0.0005517289593260915, 8.730005658797021e-05, 0.4645868198949818, 0.05433799961895486, 0.4668988926142381, 0.011501687132258269, 0.0025351166281247, 0.00013950329321528698, 0.9931424424450822, 0.0009008838946484029, 0.0006525307199008772, 0.000501104270297872, 0.0002430066827911553, 0.0045600402363365124, 0.45340141233526343, 0.32245116342993324, 0.017038305932730632, 0.19101542407289882, 0.016037835587490147, 5.5881698121465424e-05, 0.19926354215057757, 0.7454260055692402, 0.04350978996189799, 0.010139763100512468, 0.0015316862689595872, 0.0001292593778195164, 0.4108925798240539, 0.013073032171206611, 0.0014974386988187477, 0.5686231405117261, 0.00024961700131531086, 0.0056641292415197855, 0.0033847872967999147, 0.9929166504298791, 0.0015490396316397272, 0.0011886649788303795, 0.0005760688815859504, 0.0003846581090292301, 0.003134844825842605, 0.9934143341576395, 0.0014657497268649171, 0.0010974224682703164, 0.0005317972835737335, 0.0003560433838851862, 0.18584582968709157, 0.1291394684350448, 0.4680540243148419, 0.2164114415835477, 0.00020490388046505336, 0.0003443623348522478, 0.02662962302680939, 0.028612254822260826, 0.0754263486440532, 0.009283193713218573, 0.004516882921088954, 0.8555312020830418, 0.021834370065115422, 0.24948233459669272, 0.00765037483449006, 0.005879145648295152, 0.7132399039468378, 0.0019148697027224228, 0.2607198568548477, 0.25507594998659594, 0.10114296422493474, 0.3724800363002629, 0.0021036960433742815, 0.00847751980160658, 0.8588098918423084, 0.040823295771643925, 0.06643237680277884, 0.0037516107349421803, 0.0038435697672935328, 0.026339251637254313, 0.041667554634530694, 0.02762659341607677, 0.019915695432872256, 0.014367610298615347, 0.8917396157694684, 0.004681970148980406, 0.037826560884361246, 0.024024392397228894, 0.04397403259116925, 0.013241234496080884, 0.006414257385478823, 0.8745211744634787, 0.07071681934763427, 0.04447087544389709, 0.032215960002463385, 0.024722589831503407, 0.011982583987179619, 0.8158880162293396, 0.14601834434985247, 0.05575842180244477, 0.5933384797331784, 0.026722244951678926, 0.17793897988285004, 0.00022356281712610225, 0.8916475105734355, 0.06998679201932147, 0.033533008819158154, 0.00012476405781107345, 0.0015580438299076158, 0.0031498720283323367, 0.928975427738583, 0.02920549063671217, 0.03629325827220648, 0.0026031469159764533, 0.0012775628265186032, 0.0016451149032032642, 0.006340789064232881, 0.003968131259525331, 0.9465599184211074, 0.002213186579142509, 0.0010713878280801655, 0.039846873414157345, 0.016470598478984553, 0.010379779293126095, 0.007539644785099618, 0.9609462224519291, 0.002799476157876657, 0.001865325771507613, 0.023915549848701076, 0.0851299447490316, 0.005086883868122014, 0.0037812913983376714, 0.8800769355333481, 0.002008952861897556, 0.02073492376506123, 0.012797580489975617, 0.9536679390828234, 0.007055416244520544, 0.0034084311058313896, 0.0023349379579714505, 0.004950311056010698, 0.0032412005926899254, 0.976590486965973, 0.001730865487526948, 0.012904007508594498, 0.0005832134571436358, 0.017382477910390666, 0.9814224045304296, 0.0004884152573481991, 0.00037683457759767346, 0.00018803052734389558, 0.00014187699372091676, 0.0032953047212832634, 0.9897626296593794, 0.0016760024550295388, 0.0011430600556679787, 0.00055912686153928, 0.0035636462396910233, 0.1303584390840077, 0.0015178474736197876, 0.866608951163176, 0.000837279119771477, 0.00040603644222188094, 0.0002713631277566597, 0.6707766550607847, 0.2099135683284958, 0.10691777938153002, 0.011222784952839427, 0.000998063315602407, 0.00017116633662692351, 0.0022845376101341915, 0.0016295149425675857, 0.001253684517986872, 0.99418598170058, 0.0003868276571946336, 0.0002593972242808364, 0.004620108120580644, 0.003533007514697778, 0.002145030354720574, 0.988397538349499, 0.0007817789688102184, 0.000522575067637534, 0.8023598838572389, 0.004479749662381553, 0.18192012156093898, 0.006847720708591928, 0.0040266421010599, 0.00036588127461991527], \"Term\": [\"$\", \"$\", \"$\", \"$\", \"$\", \"$\", \"95%ci\", \"95%ci\", \"95%ci\", \"95%ci\", \"95%ci\", \"95%ci\", \"accuracy\", \"accuracy\", \"accuracy\", \"accuracy\", \"accuracy\", \"accuracy\", \"acid\", \"acid\", \"acid\", \"acid\", \"acid\", \"acid\", \"activity\", \"activity\", \"activity\", \"activity\", \"activity\", \"activity\", \"activity_against\", \"activity_against\", \"activity_against\", \"activity_against\", \"activity_against\", \"activity_against\", \"adjust\", \"adjust\", \"adjust\", \"adjust\", \"adjust\", \"adjust\", \"adverse\", \"adverse\", \"adverse\", \"adverse\", \"adverse\", \"adverse\", \"aerosol\", \"aerosol\", \"aerosol\", \"aerosol\", \"aerosol\", \"aerosol\", \"age\", \"age\", \"age\", \"age\", \"age\", \"age\", \"alcohol\", \"alcohol\", \"alcohol\", \"alcohol\", \"alcohol\", \"alcohol\", \"algorithm\", \"algorithm\", \"algorithm\", \"algorithm\", \"algorithm\", \"algorithm\", \"all_right\", \"all_right\", \"all_right\", \"all_right\", \"all_right\", \"all_right\", \"analysis\", \"analysis\", \"analysis\", \"analysis\", \"analysis\", \"analysis\", \"antigen\", \"antigen\", \"antigen\", \"antigen\", \"antigen\", \"antigen\", \"antimicrobial\", \"antimicrobial\", \"antimicrobial\", \"antimicrobial\", \"antimicrobial\", \"antimicrobial\", \"antimycobacterial\", \"antimycobacterial\", \"antimycobacterial\", \"antimycobacterial\", \"antimycobacterial\", \"antimycobacterial\", \"antiretroviral\", \"antiretroviral\", \"antiretroviral\", \"antiretroviral\", \"antiretroviral\", \"antiretroviral\", \"antitubercular\", \"antitubercular\", \"antitubercular\", \"antitubercular\", \"antitubercular\", \"antitubercular\", \"aor\", \"aor\", \"aor\", \"aor\", \"aor\", \"aor\", \"art\", \"art\", \"art\", \"art\", \"art\", \"art\", \"assay\", \"assay\", \"assay\", \"assay\", \"assay\", \"assay\", \"associate\", \"associate\", \"associate\", \"associate\", \"associate\", \"associate\", \"autopsy\", \"autopsy\", \"autopsy\", \"autopsy\", \"autopsy\", \"autopsy\", \"bacilli\", \"bacilli\", \"bacilli\", \"bacilli\", \"bacilli\", \"bacilli\", \"bdq\", \"bdq\", \"bdq\", \"bdq\", \"bdq\", \"bdq\", \"bedaquiline\", \"bedaquiline\", \"bedaquiline\", \"bedaquiline\", \"bedaquiline\", \"bedaquiline\", \"beijing\", \"beijing\", \"beijing\", \"beijing\", \"beijing\", \"beijing\", \"beijing_genotype\", \"beijing_genotype\", \"beijing_genotype\", \"beijing_genotype\", \"beijing_genotype\", \"beijing_genotype\", \"belong\", \"belong\", \"belong\", \"belong\", \"belong\", \"belong\", \"blood\", \"blood\", \"blood\", \"blood\", \"blood\", \"blood\", \"br\", \"br\", \"br\", \"br\", \"br\", \"br\", \"burden\", \"burden\", \"burden\", \"burden\", \"burden\", \"burden\", \"c\", \"c\", \"c\", \"c\", \"c\", \"c\", \"cas\", \"cas\", \"cas\", \"cas\", \"cas\", \"cas\", \"case\", \"case\", \"case\", \"case\", \"case\", \"case\", \"case_control\", \"case_control\", \"case_control\", \"case_control\", \"case_control\", \"case_control\", \"case_finding\", \"case_finding\", \"case_finding\", \"case_finding\", \"case_finding\", \"case_finding\", \"cd4\", \"cd4\", \"cd4\", \"cd4\", \"cd4\", \"cd4\", \"cell\", \"cell\", \"cell\", \"cell\", \"cell\", \"cell\", \"chemoprophylaxis\", \"chemoprophylaxis\", \"chemoprophylaxis\", \"chemoprophylaxis\", \"chemoprophylaxis\", \"chemoprophylaxis\", \"child\", \"child\", \"child\", \"child\", \"child\", \"child\", \"childhood\", \"childhood\", \"childhood\", \"childhood\", \"childhood\", \"childhood\", \"ci\", \"ci\", \"ci\", \"ci\", \"ci\", \"ci\", \"ciprofloxacin\", \"ciprofloxacin\", \"ciprofloxacin\", \"ciprofloxacin\", \"ciprofloxacin\", \"ciprofloxacin\", \"clinical\", \"clinical\", \"clinical\", \"clinical\", \"clinical\", \"clinical\", \"cluster\", \"cluster\", \"cluster\", \"cluster\", \"cluster\", \"cluster\", \"clustering\", \"clustering\", \"clustering\", \"clustering\", \"clustering\", \"clustering\", \"co_infect\", \"co_infect\", \"co_infect\", \"co_infect\", \"co_infect\", \"co_infect\", \"codon\", \"codon\", \"codon\", \"codon\", \"codon\", \"codon\", \"cohort\", \"cohort\", \"cohort\", \"cohort\", \"cohort\", \"cohort\", \"compare\", \"compare\", \"compare\", \"compare\", \"compare\", \"compare\", \"complete\", \"complete\", \"complete\", \"complete\", \"complete\", \"complete\", \"completion\", \"completion\", \"completion\", \"completion\", \"completion\", \"completion\", \"compound\", \"compound\", \"compound\", \"compound\", \"compound\", \"compound\", \"concentration\", \"concentration\", \"concentration\", \"concentration\", \"concentration\", \"concentration\", \"conclusion\", \"conclusion\", \"conclusion\", \"conclusion\", \"conclusion\", \"conclusion\", \"confer\", \"confer\", \"confer\", \"confer\", \"confer\", \"confer\", \"consolidation\", \"consolidation\", \"consolidation\", \"consolidation\", \"consolidation\", \"consolidation\", \"contact\", \"contact\", \"contact\", \"contact\", \"contact\", \"contact\", \"control\", \"control\", \"control\", \"control\", \"control\", \"control\", \"conventional\", \"conventional\", \"conventional\", \"conventional\", \"conventional\", \"conventional\", \"conversion\", \"conversion\", \"conversion\", \"conversion\", \"conversion\", \"conversion\", \"correctly\", \"correctly\", \"correctly\", \"correctly\", \"correctly\", \"correctly\", \"cost\", \"cost\", \"cost\", \"cost\", \"cost\", \"cost\", \"country\", \"country\", \"country\", \"country\", \"country\", \"country\", \"ct\", \"ct\", \"ct\", \"ct\", \"ct\", \"ct\", \"ctl\", \"ctl\", \"ctl\", \"ctl\", \"ctl\", \"ctl\", \"culture\", \"culture\", \"culture\", \"culture\", \"culture\", \"culture\", \"culture_bas\", \"culture_bas\", \"culture_bas\", \"culture_bas\", \"culture_bas\", \"culture_bas\", \"culture_conversion\", \"culture_conversion\", \"culture_conversion\", \"culture_conversion\", \"culture_conversion\", \"culture_conversion\", \"cure\", \"cure\", \"cure\", \"cure\", \"cure\", \"cure\", \"cytokine\", \"cytokine\", \"cytokine\", \"cytokine\", \"cytokine\", \"cytokine\", \"datum\", \"datum\", \"datum\", \"datum\", \"datum\", \"datum\", \"de\", \"de\", \"de\", \"de\", \"de\", \"de\", \"default\", \"default\", \"default\", \"default\", \"default\", \"default\", \"delamanid\", \"delamanid\", \"delamanid\", \"delamanid\", \"delamanid\", \"delamanid\", \"derivative\", \"derivative\", \"derivative\", \"derivative\", \"derivative\", \"derivative\", \"detect\", \"detect\", \"detect\", \"detect\", \"detect\", \"detect\", \"detection\", \"detection\", \"detection\", \"detection\", \"detection\", \"detection\", \"develop\", \"develop\", \"develop\", \"develop\", \"develop\", \"develop\", \"diabetes\", \"diabetes\", \"diabetes\", \"diabetes\", \"diabetes\", \"diabetes\", \"diagnosis\", \"diagnosis\", \"diagnosis\", \"diagnosis\", \"diagnosis\", \"diagnosis\", \"diagnostic\", \"diagnostic\", \"diagnostic\", \"diagnostic\", \"diagnostic\", \"diagnostic\", \"die\", \"die\", \"die\", \"die\", \"die\", \"die\", \"discriminatory\", \"discriminatory\", \"discriminatory\", \"discriminatory\", \"discriminatory\", \"discriminatory\", \"disease\", \"disease\", \"disease\", \"disease\", \"disease\", \"disease\", \"display\", \"display\", \"display\", \"display\", \"display\", \"display\", \"diversity\", \"diversity\", \"diversity\", \"diversity\", \"diversity\", \"diversity\", \"dm\", \"dm\", \"dm\", \"dm\", \"dm\", \"dm\", \"dna\", \"dna\", \"dna\", \"dna\", \"dna\", \"dna\", \"dot\", \"dot\", \"dot\", \"dot\", \"dot\", \"dot\", \"drug\", \"drug\", \"drug\", \"drug\", \"drug\", \"drug\", \"drug_resistant\", \"drug_resistant\", \"drug_resistant\", \"drug_resistant\", \"drug_resistant\", \"drug_resistant\", \"dry\", \"dry\", \"dry\", \"dry\", \"dry\", \"dry\", \"dst\", \"dst\", \"dst\", \"dst\", \"dst\", \"dst\", \"eai\", \"eai\", \"eai\", \"eai\", \"eai\", \"eai\", \"efflux\", \"efflux\", \"efflux\", \"efflux\", \"efflux\", \"efflux\", \"el\", \"el\", \"el\", \"el\", \"el\", \"el\", \"emb\", \"emb\", \"emb\", \"emb\", \"emb\", \"emb\", \"embb\", \"embb\", \"embb\", \"embb\", \"embb\", \"embb\", \"emergency\", \"emergency\", \"emergency\", \"emergency\", \"emergency\", \"emergency\", \"epidemic\", \"epidemic\", \"epidemic\", \"epidemic\", \"epidemic\", \"epidemic\", \"epidemiology\", \"epidemiology\", \"epidemiology\", \"epidemiology\", \"epidemiology\", \"epidemiology\", \"estimate\", \"estimate\", \"estimate\", \"estimate\", \"estimate\", \"estimate\", \"eta\", \"eta\", \"eta\", \"eta\", \"eta\", \"eta\", \"eu\", \"eu\", \"eu\", \"eu\", \"eu\", \"eu\", \"expression\", \"expression\", \"expression\", \"expression\", \"expression\", \"expression\", \"factor\", \"factor\", \"factor\", \"factor\", \"factor\", \"factor\", \"failure\", \"failure\", \"failure\", \"failure\", \"failure\", \"failure\", \"family\", \"family\", \"family\", \"family\", \"family\", \"family\", \"fever\", \"fever\", \"fever\", \"fever\", \"fever\", \"fever\", \"financial\", \"financial\", \"financial\", \"financial\", \"financial\", \"financial\", \"find\", \"find\", \"find\", \"find\", \"find\", \"find\", \"fingerprint\", \"fingerprint\", \"fingerprint\", \"fingerprint\", \"fingerprint\", \"fingerprint\", \"flow\", \"flow\", \"flow\", \"flow\", \"flow\", \"flow\", \"follow_up\", \"follow_up\", \"follow_up\", \"follow_up\", \"follow_up\", \"follow_up\", \"fund\", \"fund\", \"fund\", \"fund\", \"fund\", \"fund\", \"funding\", \"funding\", \"funding\", \"funding\", \"funding\", \"funding\", \"g\", \"g\", \"g\", \"g\", \"g\", \"g\", \"gene\", \"gene\", \"gene\", \"gene\", \"gene\", \"gene\", \"genechip\", \"genechip\", \"genechip\", \"genechip\", \"genechip\", \"genechip\", \"genexpert\", \"genexpert\", \"genexpert\", \"genexpert\", \"genexpert\", \"genexpert\", \"genome\", \"genome\", \"genome\", \"genome\", \"genome\", \"genome\", \"genotyp\", \"genotyp\", \"genotyp\", \"genotyp\", \"genotyp\", \"genotyp\", \"genotype\", \"genotype\", \"genotype\", \"genotype\", \"genotype\", \"genotype\", \"genotype_mtbdrplus\", \"genotype_mtbdrplus\", \"genotype_mtbdrplus\", \"genotype_mtbdrplus\", \"genotype_mtbdrplus\", \"genotype_mtbdrplus\", \"genotyping\", \"genotyping\", \"genotyping\", \"genotyping\", \"genotyping\", \"genotyping\", \"global\", \"global\", \"global\", \"global\", \"global\", \"global\", \"gold\", \"gold\", \"gold\", \"gold\", \"gold\", \"gold\", \"group\", \"group\", \"group\", \"group\", \"group\", \"group\", \"guinea\", \"guinea\", \"guinea\", \"guinea\", \"guinea\", \"guinea\", \"gyra\", \"gyra\", \"gyra\", \"gyra\", \"gyra\", \"gyra\", \"h37rv\", \"h37rv\", \"h37rv\", \"h37rv\", \"h37rv\", \"h37rv\", \"haarlem\", \"haarlem\", \"haarlem\", \"haarlem\", \"haarlem\", \"haarlem\", \"hazard\", \"hazard\", \"hazard\", \"hazard\", \"hazard\", \"hazard\", \"hc\", \"hc\", \"hc\", \"hc\", \"hc\", \"hc\", \"hcw\", \"hcw\", \"hcw\", \"hcw\", \"hcw\", \"hcw\", \"health\", \"health\", \"health\", \"health\", \"health\", \"health\", \"health_care\", \"health_care\", \"health_care\", \"health_care\", \"health_care\", \"health_care\", \"healthcare\", \"healthcare\", \"healthcare\", \"healthcare\", \"healthcare\", \"healthcare\", \"healthy\", \"healthy\", \"healthy\", \"healthy\", \"healthy\", \"healthy\", \"high\", \"high\", \"high\", \"high\", \"high\", \"high\", \"history\", \"history\", \"history\", \"history\", \"history\", \"history\", \"hiv\", \"hiv\", \"hiv\", \"hiv\", \"hiv\", \"hiv\", \"hiv_infect\", \"hiv_infect\", \"hiv_infect\", \"hiv_infect\", \"hiv_infect\", \"hiv_infect\", \"hospital\", \"hospital\", \"hospital\", \"hospital\", \"hospital\", \"hospital\", \"household\", \"household\", \"household\", \"household\", \"household\", \"household\", \"hr\", \"hr\", \"hr\", \"hr\", \"hr\", \"hr\", \"ifn_alpha\", \"ifn_alpha\", \"ifn_alpha\", \"ifn_alpha\", \"ifn_alpha\", \"ifn_alpha\", \"ifn_gamma\", \"ifn_gamma\", \"ifn_gamma\", \"ifn_gamma\", \"ifn_gamma\", \"ifn_gamma\", \"il_10\", \"il_10\", \"il_10\", \"il_10\", \"il_10\", \"il_10\", \"il_2\", \"il_2\", \"il_2\", \"il_2\", \"il_2\", \"il_2\", \"immune\", \"immune\", \"immune\", \"immune\", \"immune\", \"immune\", \"immunotherapy\", \"immunotherapy\", \"immunotherapy\", \"immunotherapy\", \"immunotherapy\", \"immunotherapy\", \"incidence\", \"incidence\", \"incidence\", \"incidence\", \"incidence\", \"incidence\", \"incident\", \"incident\", \"incident\", \"incident\", \"incident\", \"incident\", \"include\", \"include\", \"include\", \"include\", \"include\", \"include\", \"increase\", \"increase\", \"increase\", \"increase\", \"increase\", \"increase\", \"indirect\", \"indirect\", \"indirect\", \"indirect\", \"indirect\", \"indirect\", \"individualized\", \"individualized\", \"individualized\", \"individualized\", \"individualized\", \"individualized\", \"infection\", \"infection\", \"infection\", \"infection\", \"infection\", \"infection\", \"inh\", \"inh\", \"inh\", \"inh\", \"inh\", \"inh\", \"inha\", \"inha\", \"inha\", \"inha\", \"inha\", \"inha\", \"inhalation\", \"inhalation\", \"inhalation\", \"inhalation\", \"inhalation\", \"inhalation\", \"inhibit\", \"inhibit\", \"inhibit\", \"inhibit\", \"inhibit\", \"inhibit\", \"inhibition\", \"inhibition\", \"inhibition\", \"inhibition\", \"inhibition\", \"inhibition\", \"inhibitor\", \"inhibitor\", \"inhibitor\", \"inhibitor\", \"inhibitor\", \"inhibitor\", \"inhibitory\", \"inhibitory\", \"inhibitory\", \"inhibitory\", \"inhibitory\", \"inhibitory\", \"inmate\", \"inmate\", \"inmate\", \"inmate\", \"inmate\", \"inmate\", \"inno_lipa\", \"inno_lipa\", \"inno_lipa\", \"inno_lipa\", \"inno_lipa\", \"inno_lipa\", \"institutional\", \"institutional\", \"institutional\", \"institutional\", \"institutional\", \"institutional\", \"interferon_gamma\", \"interferon_gamma\", \"interferon_gamma\", \"interferon_gamma\", \"interferon_gamma\", \"interferon_gamma\", \"intersperse\", \"intersperse\", \"intersperse\", \"intersperse\", \"intersperse\", \"intersperse\", \"investment\", \"investment\", \"investment\", \"investment\", \"investment\", \"investment\", \"is6110_rflp\", \"is6110_rflp\", \"is6110_rflp\", \"is6110_rflp\", \"is6110_rflp\", \"is6110_rflp\", \"isolate\", \"isolate\", \"isolate\", \"isolate\", \"isolate\", \"isolate\", \"isolation\", \"isolation\", \"isolation\", \"isolation\", \"isolation\", \"isolation\", \"isoniazid\", \"isoniazid\", \"isoniazid\", \"isoniazid\", \"isoniazid\", \"isoniazid\", \"kappa\", \"kappa\", \"kappa\", \"kappa\", \"kappa\", \"kappa\", \"katg\", \"katg\", \"katg\", \"katg\", \"katg\", \"katg\", \"kzn\", \"kzn\", \"kzn\", \"kzn\", \"kzn\", \"kzn\", \"la\", \"la\", \"la\", \"la\", \"la\", \"la\", \"laboratory\", \"laboratory\", \"laboratory\", \"laboratory\", \"laboratory\", \"laboratory\", \"lam\", \"lam\", \"lam\", \"lam\", \"lam\", \"lam\", \"latent\", \"latent\", \"latent\", \"latent\", \"latent\", \"latent\", \"lesion\", \"lesion\", \"lesion\", \"lesion\", \"lesion\", \"lesion\", \"level\", \"level\", \"level\", \"level\", \"level\", \"level\", \"line_probe\", \"line_probe\", \"line_probe\", \"line_probe\", \"line_probe\", \"line_probe\", \"lineage\", \"lineage\", \"lineage\", \"lineage\", \"lineage\", \"lineage\", \"linezolid\", \"linezolid\", \"linezolid\", \"linezolid\", \"linezolid\", \"linezolid\", \"lipa\", \"lipa\", \"lipa\", \"lipa\", \"lipa\", \"lipa\", \"lj\", \"lj\", \"lj\", \"lj\", \"lj\", \"lj\", \"logistic_regression\", \"logistic_regression\", \"logistic_regression\", \"logistic_regression\", \"logistic_regression\", \"logistic_regression\", \"lose\", \"lose\", \"lose\", \"lose\", \"lose\", \"lose\", \"lpa\", \"lpa\", \"lpa\", \"lpa\", \"lpa\", \"lpa\", \"ltbi\", \"ltbi\", \"ltbi\", \"ltbi\", \"ltbi\", \"ltbi\", \"lung\", \"lung\", \"lung\", \"lung\", \"lung\", \"lung\", \"lymphocyte\", \"lymphocyte\", \"lymphocyte\", \"lymphocyte\", \"lymphocyte\", \"lymphocyte\", \"m.\", \"m.\", \"m.\", \"m.\", \"m.\", \"m.\", \"mathematical\", \"mathematical\", \"mathematical\", \"mathematical\", \"mathematical\", \"mathematical\", \"median\", \"median\", \"median\", \"median\", \"median\", \"median\", \"medication\", \"medication\", \"medication\", \"medication\", \"medication\", \"medication\", \"meningitis\", \"meningitis\", \"meningitis\", \"meningitis\", \"meningitis\", \"meningitis\", \"method\", \"method\", \"method\", \"method\", \"method\", \"method\", \"mgit\", \"mgit\", \"mgit\", \"mgit\", \"mgit\", \"mgit\", \"mic\", \"mic\", \"mic\", \"mic\", \"mic\", \"mic\", \"microparticle\", \"microparticle\", \"microparticle\", \"microparticle\", \"microparticle\", \"microparticle\", \"microscopic\", \"microscopic\", \"microscopic\", \"microscopic\", \"microscopic\", \"microscopic\", \"miru\", \"miru\", \"miru\", \"miru\", \"miru\", \"miru\", \"miru_vntr\", \"miru_vntr\", \"miru_vntr\", \"miru_vntr\", \"miru_vntr\", \"miru_vntr\", \"ml\", \"ml\", \"ml\", \"ml\", \"ml\", \"ml\", \"model\", \"model\", \"model\", \"model\", \"model\", \"model\", \"mods\", \"mods\", \"mods\", \"mods\", \"mods\", \"mods\", \"molecular\", \"molecular\", \"molecular\", \"molecular\", \"molecular\", \"molecular\", \"mononuclear\", \"mononuclear\", \"mononuclear\", \"mononuclear\", \"mononuclear\", \"mononuclear\", \"month\", \"month\", \"month\", \"month\", \"month\", \"month\", \"mtb\", \"mtb\", \"mtb\", \"mtb\", \"mtb\", \"mtb\", \"mtbdr\", \"mtbdr\", \"mtbdr\", \"mtbdr\", \"mtbdr\", \"mtbdr\", \"mtbdrplus\", \"mtbdrplus\", \"mtbdrplus\", \"mtbdrplus\", \"mtbdrplus\", \"mtbdrplus\", \"mu\", \"mu\", \"mu\", \"mu\", \"mu\", \"mu\", \"mu_g\", \"mu_g\", \"mu_g\", \"mu_g\", \"mu_g\", \"mu_g\", \"multidrug_resistant\", \"multidrug_resistant\", \"multidrug_resistant\", \"multidrug_resistant\", \"multidrug_resistant\", \"multidrug_resistant\", \"multivariate\", \"multivariate\", \"multivariate\", \"multivariate\", \"multivariate\", \"multivariate\", \"mutant\", \"mutant\", \"mutant\", \"mutant\", \"mutant\", \"mutant\", \"mutation\", \"mutation\", \"mutation\", \"mutation\", \"mutation\", \"mutation\", \"mycobacterium\", \"mycobacterium\", \"mycobacterium\", \"mycobacterium\", \"mycobacterium\", \"mycobacterium\", \"n\", \"n\", \"n\", \"n\", \"n\", \"n\", \"need\", \"need\", \"need\", \"need\", \"need\", \"need\", \"new\", \"new\", \"new\", \"new\", \"new\", \"new\", \"nitrate\", \"nitrate\", \"nitrate\", \"nitrate\", \"nitrate\", \"nitrate\", \"nosocomial\", \"nosocomial\", \"nosocomial\", \"nosocomial\", \"nosocomial\", \"nosocomial\", \"novel\", \"novel\", \"novel\", \"novel\", \"novel\", \"novel\", \"nra\", \"nra\", \"nra\", \"nra\", \"nra\", \"nra\", \"ntm\", \"ntm\", \"ntm\", \"ntm\", \"ntm\", \"ntm\", \"occupational\", \"occupational\", \"occupational\", \"occupational\", \"occupational\", \"occupational\", \"odd\", \"odd\", \"odd\", \"odd\", \"odd\", \"odd\", \"or\", \"or\", \"or\", \"or\", \"or\", \"or\", \"outbreak\", \"outbreak\", \"outbreak\", \"outbreak\", \"outbreak\", \"outbreak\", \"outcome\", \"outcome\", \"outcome\", \"outcome\", \"outcome\", \"outcome\", \"p\", \"p\", \"p\", \"p\", \"p\", \"p\", \"paediatric\", \"paediatric\", \"paediatric\", \"paediatric\", \"paediatric\", \"paediatric\", \"pand\", \"pand\", \"pand\", \"pand\", \"pand\", \"pand\", \"particle\", \"particle\", \"particle\", \"particle\", \"particle\", \"particle\", \"partnership\", \"partnership\", \"partnership\", \"partnership\", \"partnership\", \"partnership\", \"patient\", \"patient\", \"patient\", \"patient\", \"patient\", \"patient\", \"pattern\", \"pattern\", \"pattern\", \"pattern\", \"pattern\", \"pattern\", \"pbmc\", \"pbmc\", \"pbmc\", \"pbmc\", \"pbmc\", \"pbmc\", \"pediatric\", \"pediatric\", \"pediatric\", \"pediatric\", \"pediatric\", \"pediatric\", \"people\", \"people\", \"people\", \"people\", \"people\", \"people\", \"performance\", \"performance\", \"performance\", \"performance\", \"performance\", \"performance\", \"pig\", \"pig\", \"pig\", \"pig\", \"pig\", \"pig\", \"placebo\", \"placebo\", \"placebo\", \"placebo\", \"placebo\", \"placebo\", \"plan\", \"plan\", \"plan\", \"plan\", \"plan\", \"plan\", \"pnca\", \"pnca\", \"pnca\", \"pnca\", \"pnca\", \"pnca\", \"png\", \"png\", \"png\", \"png\", \"png\", \"png\", \"political\", \"political\", \"political\", \"political\", \"political\", \"political\", \"polymorphism\", \"polymorphism\", \"polymorphism\", \"polymorphism\", \"polymorphism\", \"polymorphism\", \"positive\", \"positive\", \"positive\", \"positive\", \"positive\", \"positive\", \"potent\", \"potent\", \"potent\", \"potent\", \"potent\", \"potent\", \"powder\", \"powder\", \"powder\", \"powder\", \"powder\", \"powder\", \"ppd\", \"ppd\", \"ppd\", \"ppd\", \"ppd\", \"ppd\", \"practice\", \"practice\", \"practice\", \"practice\", \"practice\", \"practice\", \"predictor\", \"predictor\", \"predictor\", \"predictor\", \"predictor\", \"predictor\", \"pregnancy\", \"pregnancy\", \"pregnancy\", \"pregnancy\", \"pregnancy\", \"pregnancy\", \"presumptive\", \"presumptive\", \"presumptive\", \"presumptive\", \"presumptive\", \"presumptive\", \"preventive\", \"preventive\", \"preventive\", \"preventive\", \"preventive\", \"preventive\", \"previous\", \"previous\", \"previous\", \"previous\", \"previous\", \"previous\", \"production\", \"production\", \"production\", \"production\", \"production\", \"production\", \"promoter\", \"promoter\", \"promoter\", \"promoter\", \"promoter\", \"promoter\", \"prophylaxis\", \"prophylaxis\", \"prophylaxis\", \"prophylaxis\", \"prophylaxis\", \"prophylaxis\", \"protein\", \"protein\", \"protein\", \"protein\", \"protein\", \"protein\", \"provide\", \"provide\", \"provide\", \"provide\", \"provide\", \"provide\", \"pulmonary\", \"pulmonary\", \"pulmonary\", \"pulmonary\", \"pulmonary\", \"pulmonary\", \"pyrazinamide\", \"pyrazinamide\", \"pyrazinamide\", \"pyrazinamide\", \"pyrazinamide\", \"pyrazinamide\", \"pza\", \"pza\", \"pza\", \"pza\", \"pza\", \"pza\", \"pza_resistant\", \"pza_resistant\", \"pza_resistant\", \"pza_resistant\", \"pza_resistant\", \"pza_resistant\", \"qaly\", \"qaly\", \"qaly\", \"qaly\", \"qaly\", \"qaly\", \"r\", \"r\", \"r\", \"r\", \"r\", \"r\", \"rapid\", \"rapid\", \"rapid\", \"rapid\", \"rapid\", \"rapid\", \"rate\", \"rate\", \"rate\", \"rate\", \"rate\", \"rate\", \"receive\", \"receive\", \"receive\", \"receive\", \"receive\", \"receive\", \"record\", \"record\", \"record\", \"record\", \"record\", \"record\", \"recurrence\", \"recurrence\", \"recurrence\", \"recurrence\", \"recurrence\", \"recurrence\", \"regimen\", \"regimen\", \"regimen\", \"regimen\", \"regimen\", \"regimen\", \"release\", \"release\", \"release\", \"release\", \"release\", \"release\", \"repetitive\", \"repetitive\", \"repetitive\", \"repetitive\", \"repetitive\", \"repetitive\", \"report\", \"report\", \"report\", \"report\", \"report\", \"report\", \"resection\", \"resection\", \"resection\", \"resection\", \"resection\", \"resection\", \"reserve\", \"reserve\", \"reserve\", \"reserve\", \"reserve\", \"reserve\", \"resistance\", \"resistance\", \"resistance\", \"resistance\", \"resistance\", \"resistance\", \"resistant\", \"resistant\", \"resistant\", \"resistant\", \"resistant\", \"resistant\", \"respectively\", \"respectively\", \"respectively\", \"respectively\", \"respectively\", \"respectively\", \"respondent\", \"respondent\", \"respondent\", \"respondent\", \"respondent\", \"respondent\", \"response\", \"response\", \"response\", \"response\", \"response\", \"response\", \"result\", \"result\", \"result\", \"result\", \"result\", \"result\", \"retreatment\", \"retreatment\", \"retreatment\", \"retreatment\", \"retreatment\", \"retreatment\", \"retrospective\", \"retrospective\", \"retrospective\", \"retrospective\", \"retrospective\", \"retrospective\", \"rflp\", \"rflp\", \"rflp\", \"rflp\", \"rflp\", \"rflp\", \"rhuil_2\", \"rhuil_2\", \"rhuil_2\", \"rhuil_2\", \"rhuil_2\", \"rhuil_2\", \"rif\", \"rif\", \"rif\", \"rif\", \"rif\", \"rif\", \"rifampicin\", \"rifampicin\", \"rifampicin\", \"rifampicin\", \"rifampicin\", \"rifampicin\", \"risk\", \"risk\", \"risk\", \"risk\", \"risk\", \"risk\", \"risk_factor\", \"risk_factor\", \"risk_factor\", \"risk_factor\", \"risk_factor\", \"risk_factor\", \"rmp\", \"rmp\", \"rmp\", \"rmp\", \"rmp\", \"rmp\", \"rmp_resistant\", \"rmp_resistant\", \"rmp_resistant\", \"rmp_resistant\", \"rmp_resistant\", \"rmp_resistant\", \"room\", \"room\", \"room\", \"room\", \"room\", \"room\", \"rpob\", \"rpob\", \"rpob\", \"rpob\", \"rpob\", \"rpob\", \"sample\", \"sample\", \"sample\", \"sample\", \"sample\", \"sample\", \"scenario\", \"scenario\", \"scenario\", \"scenario\", \"scenario\", \"scenario\", \"sensitivity\", \"sensitivity\", \"sensitivity\", \"sensitivity\", \"sensitivity\", \"sensitivity\", \"sensitivity_and_specificity\", \"sensitivity_and_specificity\", \"sensitivity_and_specificity\", \"sensitivity_and_specificity\", \"sensitivity_and_specificity\", \"sensitivity_and_specificity\", \"sequence\", \"sequence\", \"sequence\", \"sequence\", \"sequence\", \"sequence\", \"sex\", \"sex\", \"sex\", \"sex\", \"sex\", \"sex\", \"shift\", \"shift\", \"shift\", \"shift\", \"shift\", \"shift\", \"show\", \"show\", \"show\", \"show\", \"show\", \"show\", \"significantly\", \"significantly\", \"significantly\", \"significantly\", \"significantly\", \"significantly\", \"smear\", \"smear\", \"smear\", \"smear\", \"smear\", \"smear\", \"smegmatis\", \"smegmatis\", \"smegmatis\", \"smegmatis\", \"smegmatis\", \"smegmatis\", \"source\", \"source\", \"source\", \"source\", \"source\", \"source\", \"specificity\", \"specificity\", \"specificity\", \"specificity\", \"specificity\", \"specificity\", \"speciman\", \"speciman\", \"speciman\", \"speciman\", \"speciman\", \"speciman\", \"specimen\", \"specimen\", \"specimen\", \"specimen\", \"specimen\", \"specimen\", \"spoligotyp\", \"spoligotyp\", \"spoligotyp\", \"spoligotyp\", \"spoligotyp\", \"spoligotyp\", \"spoligotype\", \"spoligotype\", \"spoligotype\", \"spoligotype\", \"spoligotype\", \"spoligotype\", \"sputum\", \"sputum\", \"sputum\", \"sputum\", \"sputum\", \"sputum\", \"sr\", \"sr\", \"sr\", \"sr\", \"sr\", \"sr\", \"staff\", \"staff\", \"staff\", \"staff\", \"staff\", \"staff\", \"standardised\", \"standardised\", \"standardised\", \"standardised\", \"standardised\", \"standardised\", \"stigma\", \"stigma\", \"stigma\", \"stigma\", \"stigma\", \"stigma\", \"strain\", \"strain\", \"strain\", \"strain\", \"strain\", \"strain\", \"strategy\", \"strategy\", \"strategy\", \"strategy\", \"strategy\", \"strategy\", \"study\", \"study\", \"study\", \"study\", \"study\", \"study\", \"subject\", \"subject\", \"subject\", \"subject\", \"subject\", \"subject\", \"success\", \"success\", \"success\", \"success\", \"success\", \"success\", \"support\", \"support\", \"support\", \"support\", \"support\", \"support\", \"surgery\", \"surgery\", \"surgery\", \"surgery\", \"surgery\", \"surgery\", \"susceptibility\", \"susceptibility\", \"susceptibility\", \"susceptibility\", \"susceptibility\", \"susceptibility\", \"susceptible\", \"susceptible\", \"susceptible\", \"susceptible\", \"susceptible\", \"susceptible\", \"suspect\", \"suspect\", \"suspect\", \"suspect\", \"suspect\", \"suspect\", \"synthesis\", \"synthesis\", \"synthesis\", \"synthesis\", \"synthesis\", \"synthesis\", \"synthesize\", \"synthesize\", \"synthesize\", \"synthesize\", \"synthesize\", \"synthesize\", \"system\", \"system\", \"system\", \"system\", \"system\", \"system\", \"t_cell\", \"t_cell\", \"t_cell\", \"t_cell\", \"t_cell\", \"t_cell\", \"tandem\", \"tandem\", \"tandem\", \"tandem\", \"tandem\", \"tandem\", \"test\", \"test\", \"test\", \"test\", \"test\", \"test\", \"therapy\", \"therapy\", \"therapy\", \"therapy\", \"therapy\", \"therapy\", \"tmc207\", \"tmc207\", \"tmc207\", \"tmc207\", \"tmc207\", \"tmc207\", \"tnf_alpha\", \"tnf_alpha\", \"tnf_alpha\", \"tnf_alpha\", \"tnf_alpha\", \"tnf_alpha\", \"tomography\", \"tomography\", \"tomography\", \"tomography\", \"tomography\", \"tomography\", \"transmission\", \"transmission\", \"transmission\", \"transmission\", \"transmission\", \"transmission\", \"treat\", \"treat\", \"treat\", \"treat\", \"treat\", \"treat\", \"treatment\", \"treatment\", \"treatment\", \"treatment\", \"treatment\", \"treatment\", \"tst\", \"tst\", \"tst\", \"tst\", \"tst\", \"tst\", \"turnaround\", \"turnaround\", \"turnaround\", \"turnaround\", \"turnaround\", \"turnaround\", \"typing\", \"typing\", \"typing\", \"typing\", \"typing\", \"typing\", \"vaccination\", \"vaccination\", \"vaccination\", \"vaccination\", \"vaccination\", \"vaccination\", \"vaccine\", \"vaccine\", \"vaccine\", \"vaccine\", \"vaccine\", \"vaccine\", \"vitro\", \"vitro\", \"vitro\", \"vitro\", \"vitro\", \"vitro\", \"vivo\", \"vivo\", \"vivo\", \"vivo\", \"vivo\", \"vivo\", \"worker\", \"worker\", \"worker\", \"worker\", \"worker\", \"worker\", \"xdr_tb\", \"xdr_tb\", \"xdr_tb\", \"xdr_tb\", \"xdr_tb\", \"xdr_tb\", \"xpert\", \"xpert\", \"xpert\", \"xpert\", \"xpert\", \"xpert\", \"xpert_mtb\", \"xpert_mtb\", \"xpert_mtb\", \"xpert_mtb\", \"xpert_mtb\", \"xpert_mtb\", \"year\", \"year\", \"year\", \"year\", \"year\", \"year\"]}, \"R\": 30, \"lambda.step\": 0.01, \"plot.opts\": {\"xlab\": \"PC1\", \"ylab\": \"PC2\"}, \"topic.order\": [6, 2, 3, 4, 1, 5]};\n",
       "\n",
       "function LDAvis_load_lib(url, callback){\n",
       "  var s = document.createElement('script');\n",
       "  s.src = url;\n",
       "  s.async = true;\n",
       "  s.onreadystatechange = s.onload = callback;\n",
       "  s.onerror = function(){console.warn(\"failed to load library \" + url);};\n",
       "  document.getElementsByTagName(\"head\")[0].appendChild(s);\n",
       "}\n",
       "\n",
       "if(typeof(LDAvis) !== \"undefined\"){\n",
       "   // already loaded: just create the visualization\n",
       "   !function(LDAvis){\n",
       "       new LDAvis(\"#\" + \"ldavis_el1611403787415462246702176357\", ldavis_el1611403787415462246702176357_data);\n",
       "   }(LDAvis);\n",
       "}else if(typeof define === \"function\" && define.amd){\n",
       "   // require.js is available: use it to load d3/LDAvis\n",
       "   require.config({paths: {d3: \"https://cdnjs.cloudflare.com/ajax/libs/d3/3.5.5/d3.min\"}});\n",
       "   require([\"d3\"], function(d3){\n",
       "      window.d3 = d3;\n",
       "      LDAvis_load_lib(\"https://cdn.rawgit.com/bmabey/pyLDAvis/files/ldavis.v1.0.0.js\", function(){\n",
       "        new LDAvis(\"#\" + \"ldavis_el1611403787415462246702176357\", ldavis_el1611403787415462246702176357_data);\n",
       "      });\n",
       "    });\n",
       "}else{\n",
       "    // require.js not available: dynamically load d3 & LDAvis\n",
       "    LDAvis_load_lib(\"https://cdnjs.cloudflare.com/ajax/libs/d3/3.5.5/d3.min.js\", function(){\n",
       "         LDAvis_load_lib(\"https://cdn.rawgit.com/bmabey/pyLDAvis/files/ldavis.v1.0.0.js\", function(){\n",
       "                 new LDAvis(\"#\" + \"ldavis_el1611403787415462246702176357\", ldavis_el1611403787415462246702176357_data);\n",
       "            })\n",
       "         });\n",
       "}\n",
       "</script>"
      ],
      "text/plain": [
       "<IPython.core.display.HTML object>"
      ]
     },
     "execution_count": 101,
     "metadata": {},
     "output_type": "execute_result"
    }
   ],
   "source": [
    "pyLDAvis.display(vis_data)"
   ]
  },
  {
   "cell_type": "code",
   "execution_count": 102,
   "metadata": {},
   "outputs": [
    {
     "name": "stdout",
     "output_type": "stream",
     "text": [
      "36% @05 #01 | patient | treatment | drug | case | outcome | study | multidrug_resistant | resistance | result | regimen |\n",
      "23% @01 #02 | isolate | resistance | drug | mutation | strain | mycobacterium | m. | study | resistant | gene |\n",
      "17% @02 #03 | case | control | new | drug | child | disease | multidrug_resistant | infection | treatment | country |\n",
      "12% @03 #04 | resistance | assay | detection | result | method | dst | test | rapid | rif | culture |\n",
      "05% @00 #05 | isolate | strain | cluster | beijing | pza | transmission | linezolid | patient | genotype | mycobacterium |\n",
      "04% @04 #06 | patient | response | cell | pulmonary | therapy | level | lung | sputum | culture | blood |\n"
     ]
    }
   ],
   "source": [
    "for index, row in topic_term_df.sort_values(by='rank').iterrows():\n",
    "    print('%02d' % (row['weight']*100) +'%','@'+('%02d' % index),'#'+'%02d' % row['rank'], row['terms'])"
   ]
  },
  {
   "cell_type": "markdown",
   "metadata": {},
   "source": [
    "<div class=\"alert alert-success\">\n",
    "<b>NOTE</b> The above visualizations may inspire you to iteratively adjust stopwords, number of topics or number of topics in focus. Once you have a satisfying result you can proceed with the following export of data</div>"
   ]
  },
  {
   "cell_type": "markdown",
   "metadata": {},
   "source": [
    "## EXPORT DATA\n",
    "\n",
    "NB: Termite plot is saved every time it is generated.  \n",
    "NB: Textacy has functions to save the trained model (`model.save` and `textacy.tm.TopicModel.load`)."
   ]
  },
  {
   "cell_type": "code",
   "execution_count": 103,
   "metadata": {},
   "outputs": [],
   "source": [
    "# Export topic_term_df\n",
    "topic_term_df.to_csv(outfolder + outroot +'topic-term-df.tsv', encoding='UTF-8', header=True, index=False, sep='\\t')"
   ]
  },
  {
   "cell_type": "code",
   "execution_count": 104,
   "metadata": {},
   "outputs": [],
   "source": [
    "# pyLDAvis visualization\n",
    "pyldavis_file = outfolder + outroot +\"pyldavis.html\"\n",
    "pyLDAvis.save_html(vis_data,pyldavis_file)"
   ]
  },
  {
   "cell_type": "markdown",
   "metadata": {},
   "source": [
    "#### Document/Topic all-weights (..doc-topic-weight.tsv)\n",
    "Merging the docs id with the generated doc_topic_matrix makes it possible to search the content. These are standard functions in Textacy, but we might as well practice our skills in manipulating pandas. \n",
    "Get topics for uid with `doc_topic_df.loc['10.1038_emi.2017.83'].nlargest(n=3)`\n",
    "Load again with `loaded_df = pd.read_csv(open(r'...doc-topic-weight.tsv',encoding='UTF-8'),sep='\\t', index_col=0)`"
   ]
  },
  {
   "cell_type": "code",
   "execution_count": 105,
   "metadata": {},
   "outputs": [],
   "source": [
    "# Write Document-Topic Matrix\n",
    "doc_topic_df = pd.DataFrame(data=doc_topic_matrix,    # values\n",
    "             index=data.index,    # 1st column as index\n",
    "             columns=list(range(doc_topic_matrix.shape[1])))  # 1st row as the column names"
   ]
  },
  {
   "cell_type": "code",
   "execution_count": 106,
   "metadata": {},
   "outputs": [
    {
     "data": {
      "text/html": [
       "<div>\n",
       "<style scoped>\n",
       "    .dataframe tbody tr th:only-of-type {\n",
       "        vertical-align: middle;\n",
       "    }\n",
       "\n",
       "    .dataframe tbody tr th {\n",
       "        vertical-align: top;\n",
       "    }\n",
       "\n",
       "    .dataframe thead th {\n",
       "        text-align: right;\n",
       "    }\n",
       "</style>\n",
       "<table border=\"1\" class=\"dataframe\">\n",
       "  <thead>\n",
       "    <tr style=\"text-align: right;\">\n",
       "      <th></th>\n",
       "      <th>0</th>\n",
       "      <th>1</th>\n",
       "      <th>2</th>\n",
       "      <th>3</th>\n",
       "      <th>4</th>\n",
       "    </tr>\n",
       "    <tr>\n",
       "      <th>pub-uid</th>\n",
       "      <th></th>\n",
       "      <th></th>\n",
       "      <th></th>\n",
       "      <th></th>\n",
       "      <th></th>\n",
       "    </tr>\n",
       "  </thead>\n",
       "  <tbody>\n",
       "    <tr>\n",
       "      <th>10.1038_s41598_017_17705_3</th>\n",
       "      <td>0.072527</td>\n",
       "      <td>0.098516</td>\n",
       "      <td>0.166856</td>\n",
       "      <td>0.355275</td>\n",
       "      <td>0.001497</td>\n",
       "    </tr>\n",
       "    <tr>\n",
       "      <th>10.3389_fmicb.2017.02452</th>\n",
       "      <td>0.061662</td>\n",
       "      <td>0.328028</td>\n",
       "      <td>0.600453</td>\n",
       "      <td>0.003277</td>\n",
       "      <td>0.003282</td>\n",
       "    </tr>\n",
       "  </tbody>\n",
       "</table>\n",
       "</div>"
      ],
      "text/plain": [
       "                                   0         1         2         3         4\n",
       "pub-uid                                                                     \n",
       "10.1038_s41598_017_17705_3  0.072527  0.098516  0.166856  0.355275  0.001497\n",
       "10.3389_fmicb.2017.02452    0.061662  0.328028  0.600453  0.003277  0.003282"
      ]
     },
     "execution_count": 106,
     "metadata": {},
     "output_type": "execute_result"
    }
   ],
   "source": [
    "doc_topic_df.to_csv(outfolder + outroot +'doc-topic-weight.tsv', encoding='UTF-8', header=True, index=True, sep='\\t')\n",
    "# Check df\n",
    "doc_topic_df.iloc[:2,:5]"
   ]
  },
  {
   "cell_type": "markdown",
   "metadata": {},
   "source": [
    "#### Document/Topic top-weights (..doc-topic-top.json)\n",
    "Comments: 'model.top_doc_topics' generates a row number and a tuple containing pairs of topic:weight. Row number is used to get 'uid'. Tuple is made into a list of list and the values are converted from numpy to python objects."
   ]
  },
  {
   "cell_type": "code",
   "execution_count": 107,
   "metadata": {},
   "outputs": [
    {
     "data": {
      "text/plain": [
       "[['10.1038_s41598_017_17705_3', [[3, 0.36], [5, 0.31], [2, 0.17]]],\n",
       " ['10.3389_fmicb.2017.02452', [[2, 0.6], [1, 0.33], [0, 0.06]]]]"
      ]
     },
     "execution_count": 107,
     "metadata": {},
     "output_type": "execute_result"
    }
   ],
   "source": [
    "generator = model.top_doc_topics(doc_topic_matrix, docs=-1, top_n=3, weights=True)\n",
    "doc_topic_top3 = [[data.index[doc_idx],[[x.item(),round(y.item(),2)] for x,y in topics]] for doc_idx, topics in generator]\n",
    "with open(outfolder + outroot +'doc-topic-top3.json', 'w') as outfile:\n",
    "    json.dump(doc_topic_top3, outfile)\n",
    "doc_topic_top3[:2]"
   ]
  },
  {
   "cell_type": "markdown",
   "metadata": {},
   "source": [
    "#### Topic-Term Matrix with weights\n"
   ]
  },
  {
   "cell_type": "code",
   "execution_count": 108,
   "metadata": {},
   "outputs": [],
   "source": [
    "topic_term_list = list(model.top_topic_terms(vectorizer.id_to_term, topics=-1, top_n=10, weights=True))\n",
    "with open(outfolder + outroot +'topic-term-weight.json', 'w') as outfile:\n",
    "    json.dump(topic_term_list, outfile)"
   ]
  },
  {
   "cell_type": "code",
   "execution_count": 109,
   "metadata": {},
   "outputs": [],
   "source": [
    "# Topic Aggregated Weight (list with one number per topic)\n",
    "with open(outfolder + outroot + 'topic-aggregated-weight.tsv', 'w') as f:\n",
    "    f.write(\"\\n\".join([str(x) for x in topic_weight_serie]))"
   ]
  },
  {
   "cell_type": "markdown",
   "metadata": {},
   "source": [
    "##### Word cloud (..wordcloud.txt)\n",
    "No satisfactory packages exist for making word clouds in Python from a topic-term frequency list. Below a text file is generated with the data needed for creating word clouds at https://worditout.com/word-cloud/create. I recommend the following settings; font:sans-serif, colours: #ff8000 - #40bfbf, background:#242424, colour blending: rainbow, vary-word-colour: frequency, aspect ration 16/9, differences:big, vary-word-size: frequency"
   ]
  },
  {
   "cell_type": "code",
   "execution_count": 110,
   "metadata": {},
   "outputs": [],
   "source": [
    "with open(str(outfolder + outroot + 'wordcloud.txt'), 'w') as f:    \n",
    "    for topic_tmp in topic_term_list:\n",
    "        f.write(\"==== #\" + str(topic_tmp[0])+\"\\n\")\n",
    "        for x in topic_tmp[1]:\n",
    "            (a,b) = x\n",
    "            f.write(str(a) + \":\" + str(int(b))+\"\\n\")"
   ]
  },
  {
   "cell_type": "markdown",
   "metadata": {},
   "source": [
    "#### Top articles for each topic (..doc-topic-abstract.html)"
   ]
  },
  {
   "cell_type": "code",
   "execution_count": 111,
   "metadata": {},
   "outputs": [],
   "source": [
    "cutoff = 15 # How many top articles should be displayed for each topic\n",
    "top_overview = [] # list of topics containing each a list of top articles.\n",
    "for topic in range(no_topics):\n",
    "    top_overview.append([topic,[[x,'%.2f' % y] for (x,y) in doc_topic_df[topic].nlargest(n=cutoff).iteritems()]])"
   ]
  },
  {
   "cell_type": "code",
   "execution_count": 112,
   "metadata": {},
   "outputs": [],
   "source": [
    "with open(str(outfolder + outroot + 'doc-top.html'), 'w') as f:  \n",
    "    f.write('<html>\\n<head><title>Top Documents</title></head><body style=\"font-family:verdana;\">')\n",
    "    for topic in top_overview:\n",
    "        # print top topic titles\n",
    "        f.write('<h1>Topic number %s</h1>' % (topic[0]))\n",
    "        for item in topic[1]:\n",
    "            #look-up title\n",
    "            uid = item[0]\n",
    "            url = uid.replace('_','/')\n",
    "            weight = item[1]\n",
    "            # Find row and transpose the first row to a Serie with column names as index.  \n",
    "            row = data.loc[uid]\n",
    "            f.write('<p><b>%s</b>   : <a href=\"http://dx.doi.org/%s\">%s</a> | %s</p>' % (row['title'],url,uid,weight))\n",
    "            #Output title, doi, weight. \n",
    "        # print top topic abstracts\n",
    "    f.write('</body></html>')"
   ]
  },
  {
   "cell_type": "markdown",
   "metadata": {},
   "source": [
    "<div class=\"alert alert-danger\">\n",
    "<b>START</b> if 'MAIN TOPIC' investigation </div>"
   ]
  },
  {
   "cell_type": "markdown",
   "metadata": {},
   "source": [
    "### Save dataframe for exploring sub-themes\n",
    "When a main theme has been explored, a dataframe may be exported containing the combined data and the doc_topic_df, so it is possible to drill into the individual topics and explore sub topics."
   ]
  },
  {
   "cell_type": "code",
   "execution_count": 113,
   "metadata": {},
   "outputs": [],
   "source": [
    "# Execute only for main\n",
    "sub_topics = top_topic_list\n",
    "data_topic = pd.concat([data,doc_topic_df], axis=1)"
   ]
  },
  {
   "cell_type": "code",
   "execution_count": 114,
   "metadata": {},
   "outputs": [
    {
     "data": {
      "text/html": [
       "<div>\n",
       "<style scoped>\n",
       "    .dataframe tbody tr th:only-of-type {\n",
       "        vertical-align: middle;\n",
       "    }\n",
       "\n",
       "    .dataframe tbody tr th {\n",
       "        vertical-align: top;\n",
       "    }\n",
       "\n",
       "    .dataframe thead th {\n",
       "        text-align: right;\n",
       "    }\n",
       "</style>\n",
       "<table border=\"1\" class=\"dataframe\">\n",
       "  <thead>\n",
       "    <tr style=\"text-align: right;\">\n",
       "      <th></th>\n",
       "      <th>title</th>\n",
       "      <th>abstract</th>\n",
       "      <th>keywords</th>\n",
       "      <th>0</th>\n",
       "      <th>1</th>\n",
       "      <th>2</th>\n",
       "      <th>3</th>\n",
       "      <th>4</th>\n",
       "      <th>5</th>\n",
       "    </tr>\n",
       "    <tr>\n",
       "      <th>pub-uid</th>\n",
       "      <th></th>\n",
       "      <th></th>\n",
       "      <th></th>\n",
       "      <th></th>\n",
       "      <th></th>\n",
       "      <th></th>\n",
       "      <th></th>\n",
       "      <th></th>\n",
       "      <th></th>\n",
       "    </tr>\n",
       "  </thead>\n",
       "  <tbody>\n",
       "    <tr>\n",
       "      <th>10.1038_s41598_017_17705_3</th>\n",
       "      <td>Culture and Next-generation sequencing-based d...</td>\n",
       "      <td>Djibouti is a small country in the Horn of Afr...</td>\n",
       "      <td>NaN</td>\n",
       "      <td>0.072527</td>\n",
       "      <td>0.098516</td>\n",
       "      <td>0.166856</td>\n",
       "      <td>0.355275</td>\n",
       "      <td>0.001497</td>\n",
       "      <td>0.305329</td>\n",
       "    </tr>\n",
       "    <tr>\n",
       "      <th>10.3389_fmicb.2017.02452</th>\n",
       "      <td>Repurposing and Revival of the Drugs: A New Ap...</td>\n",
       "      <td>Emergence of drug resistant tuberculosis like ...</td>\n",
       "      <td>drug resistance tuberculosis; repurposing; rev...</td>\n",
       "      <td>0.061662</td>\n",
       "      <td>0.328028</td>\n",
       "      <td>0.600453</td>\n",
       "      <td>0.003277</td>\n",
       "      <td>0.003282</td>\n",
       "      <td>0.003298</td>\n",
       "    </tr>\n",
       "    <tr>\n",
       "      <th>10.1007_s15010_017_1054_8</th>\n",
       "      <td>Outcomes of multidrug-resistant tuberculosis i...</td>\n",
       "      <td>The purpose of this study was to establish a b...</td>\n",
       "      <td>Zambia; Tuberculosis; MDR-TB; Drug resistance;...</td>\n",
       "      <td>0.001741</td>\n",
       "      <td>0.001742</td>\n",
       "      <td>0.001745</td>\n",
       "      <td>0.001759</td>\n",
       "      <td>0.001741</td>\n",
       "      <td>0.991272</td>\n",
       "    </tr>\n",
       "    <tr>\n",
       "      <th>10.1016_j.jgar.2017.07.002</th>\n",
       "      <td>Extensively drug-resistant tuberculosis (XDR-T...</td>\n",
       "      <td>Objectives: Extensively drug-resistant tubercu...</td>\n",
       "      <td>Mycobacterium tuberculosis; MDR-TB; XDR-TB; Ge...</td>\n",
       "      <td>0.001449</td>\n",
       "      <td>0.619068</td>\n",
       "      <td>0.188984</td>\n",
       "      <td>0.187598</td>\n",
       "      <td>0.001444</td>\n",
       "      <td>0.001456</td>\n",
       "    </tr>\n",
       "    <tr>\n",
       "      <th>10.1016_j.ijid.2017.09.019</th>\n",
       "      <td>Trends and characteristics of drug-resistant t...</td>\n",
       "      <td>Objectives: The aim of this study was to descr...</td>\n",
       "      <td>Multidrug-resistant tuberculosis; Primary tran...</td>\n",
       "      <td>0.001476</td>\n",
       "      <td>0.001476</td>\n",
       "      <td>0.293617</td>\n",
       "      <td>0.001471</td>\n",
       "      <td>0.001468</td>\n",
       "      <td>0.700492</td>\n",
       "    </tr>\n",
       "  </tbody>\n",
       "</table>\n",
       "</div>"
      ],
      "text/plain": [
       "                                                                        title  \\\n",
       "pub-uid                                                                         \n",
       "10.1038_s41598_017_17705_3  Culture and Next-generation sequencing-based d...   \n",
       "10.3389_fmicb.2017.02452    Repurposing and Revival of the Drugs: A New Ap...   \n",
       "10.1007_s15010_017_1054_8   Outcomes of multidrug-resistant tuberculosis i...   \n",
       "10.1016_j.jgar.2017.07.002  Extensively drug-resistant tuberculosis (XDR-T...   \n",
       "10.1016_j.ijid.2017.09.019  Trends and characteristics of drug-resistant t...   \n",
       "\n",
       "                                                                     abstract  \\\n",
       "pub-uid                                                                         \n",
       "10.1038_s41598_017_17705_3  Djibouti is a small country in the Horn of Afr...   \n",
       "10.3389_fmicb.2017.02452    Emergence of drug resistant tuberculosis like ...   \n",
       "10.1007_s15010_017_1054_8   The purpose of this study was to establish a b...   \n",
       "10.1016_j.jgar.2017.07.002  Objectives: Extensively drug-resistant tubercu...   \n",
       "10.1016_j.ijid.2017.09.019  Objectives: The aim of this study was to descr...   \n",
       "\n",
       "                                                                     keywords  \\\n",
       "pub-uid                                                                         \n",
       "10.1038_s41598_017_17705_3                                                NaN   \n",
       "10.3389_fmicb.2017.02452    drug resistance tuberculosis; repurposing; rev...   \n",
       "10.1007_s15010_017_1054_8   Zambia; Tuberculosis; MDR-TB; Drug resistance;...   \n",
       "10.1016_j.jgar.2017.07.002  Mycobacterium tuberculosis; MDR-TB; XDR-TB; Ge...   \n",
       "10.1016_j.ijid.2017.09.019  Multidrug-resistant tuberculosis; Primary tran...   \n",
       "\n",
       "                                   0         1         2         3         4  \\\n",
       "pub-uid                                                                        \n",
       "10.1038_s41598_017_17705_3  0.072527  0.098516  0.166856  0.355275  0.001497   \n",
       "10.3389_fmicb.2017.02452    0.061662  0.328028  0.600453  0.003277  0.003282   \n",
       "10.1007_s15010_017_1054_8   0.001741  0.001742  0.001745  0.001759  0.001741   \n",
       "10.1016_j.jgar.2017.07.002  0.001449  0.619068  0.188984  0.187598  0.001444   \n",
       "10.1016_j.ijid.2017.09.019  0.001476  0.001476  0.293617  0.001471  0.001468   \n",
       "\n",
       "                                   5  \n",
       "pub-uid                               \n",
       "10.1038_s41598_017_17705_3  0.305329  \n",
       "10.3389_fmicb.2017.02452    0.003298  \n",
       "10.1007_s15010_017_1054_8   0.991272  \n",
       "10.1016_j.jgar.2017.07.002  0.001456  \n",
       "10.1016_j.ijid.2017.09.019  0.700492  "
      ]
     },
     "execution_count": 114,
     "metadata": {},
     "output_type": "execute_result"
    }
   ],
   "source": [
    "data_topic.head()"
   ]
  },
  {
   "cell_type": "code",
   "execution_count": 115,
   "metadata": {},
   "outputs": [],
   "source": [
    "data_topic.to_csv(outfolder + outroot +'data-topic-df.tsv', encoding='UTF-8', header=True, index=True, sep='\\t')"
   ]
  },
  {
   "cell_type": "markdown",
   "metadata": {},
   "source": [
    "<div class=\"alert alert-danger\">\n",
    "<b>END</b> if 'MAIN TOPIC' investigation </div>"
   ]
  },
  {
   "cell_type": "code",
   "execution_count": null,
   "metadata": {},
   "outputs": [],
   "source": []
  }
 ],
 "metadata": {
  "kernelspec": {
   "display_name": "Python 3",
   "language": "python",
   "name": "python3"
  },
  "language_info": {
   "codemirror_mode": {
    "name": "ipython",
    "version": 3
   },
   "file_extension": ".py",
   "mimetype": "text/x-python",
   "name": "python",
   "nbconvert_exporter": "python",
   "pygments_lexer": "ipython3",
   "version": "3.6.3"
  }
 },
 "nbformat": 4,
 "nbformat_minor": 2
}
